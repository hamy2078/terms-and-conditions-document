{
  "cells": [
    {
      "attachments": {},
      "cell_type": "markdown",
      "metadata": {
        "colab_type": "text",
        "id": "view-in-github"
      },
      "source": [
        "<a href=\"https://colab.research.google.com/github/nianlonggu/MemSum/blob/main/Data_processing_training_and_testing_for_MemSum.ipynb\" target=\"_parent\"><img src=\"https://colab.research.google.com/assets/colab-badge.svg\" alt=\"Open In Colab\"/></a>"
      ]
    },
    {
      "attachments": {},
      "cell_type": "markdown",
      "metadata": {
        "id": "gQ1RHhs_EoCY"
      },
      "source": [
        "# Preparation"
      ]
    },
    {
      "attachments": {},
      "cell_type": "markdown",
      "metadata": {
        "id": "-pDHG2nTEyMk"
      },
      "source": [
        "## Clone the Repo"
      ]
    },
    {
      "cell_type": "code",
      "execution_count": 1,
      "metadata": {
        "colab": {
          "base_uri": "https://localhost:8080/"
        },
        "id": "o0ZhUm14DVMU",
        "outputId": "5c71a065-1e17-4650-be69-4463cbf8a962"
      },
      "outputs": [
        {
          "name": "stdout",
          "output_type": "stream",
          "text": [
            "Cloning into 'MemSum'...\n",
            "remote: Enumerating objects: 203, done.\u001b[K\n",
            "remote: Counting objects: 100% (105/105), done.\u001b[K\n",
            "remote: Compressing objects: 100% (91/91), done.\u001b[K\n",
            "remote: Total 203 (delta 39), reused 54 (delta 9), pack-reused 98\u001b[K\n",
            "Receiving objects: 100% (203/203), 81.90 MiB | 16.89 MiB/s, done.\n",
            "Resolving deltas: 100% (58/58), done.\n"
          ]
        }
      ],
      "source": [
        "!git clone https://github.com/nianlonggu/MemSum.git"
      ]
    },
    {
      "attachments": {},
      "cell_type": "markdown",
      "metadata": {
        "id": "HqonYcpJErsS"
      },
      "source": [
        "## Change the working directory to the main folder of MemSum"
      ]
    },
    {
      "cell_type": "code",
      "execution_count": 1,
      "metadata": {
        "id": "h3g3D88DEFI3"
      },
      "outputs": [
        {
          "ename": "FileNotFoundError",
          "evalue": "[Errno 2] No such file or directory: 'MemSum'",
          "output_type": "error",
          "traceback": [
            "\u001b[0;31m---------------------------------------------------------------------------\u001b[0m",
            "\u001b[0;31mFileNotFoundError\u001b[0m                         Traceback (most recent call last)",
            "\u001b[0;32m<ipython-input-1-a016177a90b2>\u001b[0m in \u001b[0;36m<module>\u001b[0;34m\u001b[0m\n\u001b[1;32m      1\u001b[0m \u001b[0;32mimport\u001b[0m \u001b[0mos\u001b[0m\u001b[0;34m\u001b[0m\u001b[0;34m\u001b[0m\u001b[0m\n\u001b[0;32m----> 2\u001b[0;31m \u001b[0mos\u001b[0m\u001b[0;34m.\u001b[0m\u001b[0mchdir\u001b[0m\u001b[0;34m(\u001b[0m\u001b[0;34m\"MemSum\"\u001b[0m\u001b[0;34m)\u001b[0m\u001b[0;34m\u001b[0m\u001b[0;34m\u001b[0m\u001b[0m\n\u001b[0m",
            "\u001b[0;31mFileNotFoundError\u001b[0m: [Errno 2] No such file or directory: 'MemSum'"
          ]
        }
      ],
      "source": [
        "import os\n",
        "os.chdir(\"MemSum\")"
      ]
    },
    {
      "attachments": {},
      "cell_type": "markdown",
      "metadata": {
        "id": "MAlzv2UCE5vS"
      },
      "source": [
        "## Install packages\n",
        "\n",
        "Note: Because colab has preinstalled torch, so we don't need to install pytorch again\n",
        "\n",
        "We tested on torch version>=1.11.0."
      ]
    },
    {
      "cell_type": "code",
      "execution_count": 3,
      "metadata": {
        "id": "Fw1sOX0AEUzV"
      },
      "outputs": [],
      "source": [
        "!pip install -r requirements.txt -q"
      ]
    },
    {
      "cell_type": "code",
      "execution_count": 4,
      "metadata": {
        "colab": {
          "base_uri": "https://localhost:8080/",
          "height": 35
        },
        "id": "Ky4m3pQNSAVB",
        "outputId": "fa7bd4f8-bf56-4dc9-a05a-b361b9ba1a8a"
      },
      "outputs": [
        {
          "data": {
            "application/vnd.google.colaboratory.intrinsic+json": {
              "type": "string"
            },
            "text/plain": [
              "'1.12.1+cu113'"
            ]
          },
          "execution_count": 4,
          "metadata": {},
          "output_type": "execute_result"
        }
      ],
      "source": [
        "import torch\n",
        "torch.__version__"
      ]
    },
    {
      "attachments": {},
      "cell_type": "markdown",
      "metadata": {
        "id": "9IlyFZtEFW5V"
      },
      "source": [
        "# Preprocessing Custom data"
      ]
    },
    {
      "attachments": {},
      "cell_type": "markdown",
      "metadata": {
        "id": "I2PqJpw3FcTS"
      },
      "source": [
        "Suppose that you have already splitted the training / validation and  test set:\n",
        "\n",
        "The training data is now stored in a .jsonl file that contains a list of json info, one line for one training instance. Each json (or dictonary) contains two keys: \n",
        "\n",
        "1. \"text\": the value for which is a python list of sentences, this represents the document you want to summarize;\n",
        "2. \"summary\": the value is also a list of sentences. If represent the ground-truth summary. Because the summary can contain multiple sentences, so we store them as a list.\n",
        "\n",
        "The same for the validation file and the testing file. \n"
      ]
    },
    {
      "cell_type": "code",
      "execution_count": 5,
      "metadata": {
        "colab": {
          "base_uri": "https://localhost:8080/"
        },
        "id": "1Q0tTRp8Golc",
        "outputId": "6c7d6ec7-a8fb-4759-dbdd-c9bf1e3a5795"
      },
      "outputs": [
        {
          "name": "stdout",
          "output_type": "stream",
          "text": [
            "100\n",
            "dict_keys(['text', 'summary'])\n",
            "['a recent systematic analysis showed that in 2011 , 314 ( 296 - 331 ) million children younger than 5 years were mildly , moderately or severely stunted and 258 ( 240 - 274 ) million were mildly , moderately or severely underweight in the developing countries .', 'in iran a study among 752 high school girls in sistan and baluchestan showed prevalence of 16.2% , 8.6% and 1.5% , for underweight , overweight and obesity , respectively .', 'the prevalence of malnutrition among elementary school aged children in tehran varied from 6% to 16% .']\n",
            "['background : the present study was carried out to assess the effects of community nutrition intervention based on advocacy approach on malnutrition status among school - aged children in shiraz , iran.materials and methods : this case - control nutritional intervention has been done between 2008 and 2009 on 2897 primary and secondary school boys and girls ( 7 - 13 years old ) based on advocacy approach in shiraz , iran .', 'the project provided nutritious snacks in public schools over a 2-year period along with advocacy oriented actions in order to implement and promote nutritional intervention . for evaluation of effectiveness of the intervention growth monitoring indices of pre- and post - intervention were statistically compared.results:the frequency of subjects with body mass index lower than 5% decreased significantly after intervention among girls ( p = 0.02 ) .', 'however , there were no significant changes among boys or total population .']\n"
          ]
        }
      ],
      "source": [
        "import json\n",
        "train_corpus = [ json.loads(line) for line in open(\"data/custom_data/train_CUSTOM_raw.jsonl\") ]\n",
        "\n",
        "## as an example, we have 100 instances for training\n",
        "print(len(train_corpus))\n",
        "print(train_corpus[0].keys())\n",
        "print(train_corpus[0][\"text\"][:3])\n",
        "print(train_corpus[0][\"summary\"][:3])"
      ]
    },
    {
      "attachments": {},
      "cell_type": "markdown",
      "metadata": {
        "id": "xZyXFXMNHUn2"
      },
      "source": [
        "If you have your own data, process them into the same structure then put them into the data/ folder"
      ]
    },
    {
      "attachments": {},
      "cell_type": "markdown",
      "metadata": {
        "id": "AXhmJRo0Hh0Q"
      },
      "source": [
        "The next thing we need to do is to create high-ROUGE episodes for the training set, as introduced in the paper: https://aclanthology.org/2022.acl-long.450/,\n",
        "and the github introduction: https://github.com/nianlonggu/MemSum#addition-info-code-for-obtaining-the-greedy-summary-of-a-document-and-creating-high-rouge-episodes-for-training-the-model"
      ]
    },
    {
      "cell_type": "code",
      "execution_count": 6,
      "metadata": {
        "id": "ThmF2tO8EWcQ"
      },
      "outputs": [],
      "source": [
        "from src.data_preprocessing.MemSum.utils import greedy_extract\n",
        "import json\n",
        "from tqdm import tqdm"
      ]
    },
    {
      "cell_type": "code",
      "execution_count": 7,
      "metadata": {
        "colab": {
          "base_uri": "https://localhost:8080/"
        },
        "id": "E8lqASfWFTWj",
        "outputId": "42cd2bc8-8f23-4f41-dcd2-bcde31583b25"
      },
      "outputs": [
        {
          "name": "stderr",
          "output_type": "stream",
          "text": [
            "100%|██████████| 100/100 [01:44<00:00,  1.05s/it]\n"
          ]
        }
      ],
      "source": [
        "train_corpus = [ json.loads(line) for line in open(\"data/custom_data/train_CUSTOM_raw.jsonl\") ]\n",
        "for data in tqdm(train_corpus):\n",
        "    high_rouge_episodes = greedy_extract( data[\"text\"], data[\"summary\"], beamsearch_size = 2 )\n",
        "    indices_list = []\n",
        "    score_list  = []\n",
        "\n",
        "    for indices, score in high_rouge_episodes:\n",
        "        indices_list.append( indices )\n",
        "        score_list.append(score)\n",
        "\n",
        "    data[\"indices\"] = indices_list\n",
        "    data[\"score\"] = score_list"
      ]
    },
    {
      "attachments": {},
      "cell_type": "markdown",
      "metadata": {
        "id": "Cn5dHZHMJ4Cz"
      },
      "source": [
        "Now we have obtained the labels for the training set. This can be parallized if you have large training set.\n",
        "\n",
        "We can save the labeled training set to a new file:"
      ]
    },
    {
      "cell_type": "code",
      "execution_count": 8,
      "metadata": {
        "id": "Q4Ow4PMDJIAO"
      },
      "outputs": [],
      "source": [
        "with open(\"data/custom_data/train_CUSTOM_labelled.jsonl\",\"w\") as f:\n",
        "    for data in train_corpus:\n",
        "        f.write(json.dumps(data) + \"\\n\")"
      ]
    },
    {
      "attachments": {},
      "cell_type": "markdown",
      "metadata": {
        "id": "fKtmefvVK2FE"
      },
      "source": [
        "That's it! We are about to train MemSum!"
      ]
    },
    {
      "cell_type": "code",
      "execution_count": 8,
      "metadata": {
        "id": "InGexStDK6v4"
      },
      "outputs": [],
      "source": []
    },
    {
      "attachments": {},
      "cell_type": "markdown",
      "metadata": {
        "id": "Ojiaw0SSK7vj"
      },
      "source": [
        "# Training"
      ]
    },
    {
      "attachments": {},
      "cell_type": "markdown",
      "metadata": {
        "id": "NW2PUEZJK-rT"
      },
      "source": [
        "## Download pretrained word embedding\n",
        "\n",
        "MemSUM used the glove embedding (200dim), with three addition token embeddings for bos eos pad, etc.\n",
        "\n",
        "You can download the word embedding (a folder named glove/) used in this work:\n",
        "\n",
        "https://drive.google.com/drive/folders/1lrwYrrM3h0-9fwWCOmpRkydvmF6hmvmW?usp=sharing\n",
        "\n",
        "and put the folder under the model/ folder. \n",
        "\n",
        "Or you can do it using the code below:\n",
        "\n",
        "Make sure the structure looks like:\n",
        "\n",
        "1. MemSum/model/glove/unigram_embeddings_200dim.pkl\n",
        "2. MemSum/model/glove/vocabulary_200dim.pkl\n",
        "\n",
        "\n",
        "If not, you can change manually\n",
        "\n",
        "\n",
        "\n"
      ]
    },
    {
      "cell_type": "code",
      "execution_count": 9,
      "metadata": {
        "colab": {
          "base_uri": "https://localhost:8080/"
        },
        "id": "TJuK4zGCK8sC",
        "outputId": "a0fb0b66-d89b-42bd-b4ed-8b378f799af3"
      },
      "outputs": [
        {
          "name": "stdout",
          "output_type": "stream",
          "text": [
            "Retrieving folder list\n",
            "Processing file 1SVTHcgWJDvoVCsLfdvkaw5ICkihjUoaH unigram_embeddings_200dim.pkl\n",
            "Processing file 1SuF4HSe0-IBKWGtc1xqlzMHNDneiLi4- vocabulary_200dim.pkl\n",
            "Retrieving folder list completed\n",
            "Building directory structure\n",
            "Building directory structure completed\n",
            "Downloading...\n",
            "From: https://drive.google.com/uc?id=1SVTHcgWJDvoVCsLfdvkaw5ICkihjUoaH\n",
            "To: /content/MemSum/model/unigram_embeddings_200dim.pkl\n",
            "100% 320M/320M [00:01<00:00, 210MB/s]\n",
            "Downloading...\n",
            "From: https://drive.google.com/uc?id=1SuF4HSe0-IBKWGtc1xqlzMHNDneiLi4-\n",
            "To: /content/MemSum/model/vocabulary_200dim.pkl\n",
            "100% 4.16M/4.16M [00:00<00:00, 264MB/s]\n",
            "Download completed\n"
          ]
        }
      ],
      "source": [
        "!pip install gdown -q\n",
        "try:\n",
        "    os.system(\"rm -r model\")\n",
        "    os.makedirs(\"model/\")\n",
        "except:\n",
        "    pass\n",
        "!cd model/; gdown --folder https://drive.google.com/drive/folders/1lrwYrrM3h0-9fwWCOmpRkydvmF6hmvmW\n",
        "\n",
        "\n",
        "if not os.path.exists(\"model/glove\"):\n",
        "    try:\n",
        "        os.makedirs(\"model/glove\")\n",
        "        os.system(\"mv model/*.pkl model/glove/\")\n",
        "    except:\n",
        "        pass"
      ]
    },
    {
      "attachments": {},
      "cell_type": "markdown",
      "metadata": {
        "id": "Hfw7L6KRNKAV"
      },
      "source": [
        "## Start training"
      ]
    },
    {
      "attachments": {},
      "cell_type": "markdown",
      "metadata": {
        "id": "W50ktMCZNyz9"
      },
      "source": [
        "Note:\n",
        "1. you need to switch to the folder src/MemSum_Full;\n",
        "2. You can specify the path to training and validation set, the model_folder (where you want to store model checkpoints) and the log_folder (where you want to store the log info), and other parameters. \n",
        "3. You can provide the absolute path, or relative path, as shown in the example code below.\n",
        "4. n_device means the number of available GPUs"
      ]
    },
    {
      "cell_type": "code",
      "execution_count": null,
      "metadata": {
        "colab": {
          "base_uri": "https://localhost:8080/"
        },
        "id": "wPnWLxpkMYLy",
        "outputId": "51196d34-fc8b-4dfe-aa40-0e5da4891691"
      },
      "outputs": [
        {
          "name": "stdout",
          "output_type": "stream",
          "text": [
            "\r0it [00:00, ?it/s]\r100it [00:00, 10630.33it/s]\n",
            "\r0it [00:00, ?it/s]\r100it [00:00, 13147.05it/s]\n",
            "/usr/local/lib/python3.7/dist-packages/torch/utils/data/dataloader.py:566: UserWarning: This DataLoader will create 4 worker processes in total. Our suggested max number of worker in current system is 2, which is smaller than what this DataLoader is going to create. Please be aware that excessive worker creation might get DataLoader running slow or even freeze, lower the worker number to avoid potential slowness/freeze if necessary.\n",
            "  cpuset_checked))\n",
            "0it [00:00, ?it/s]train.py:227: DeprecationWarning: `np.bool` is a deprecated alias for the builtin `bool`. To silence this warning, use `bool` by itself. Doing this will not modify any behavior and is safe. If you specifically wanted the numpy scalar type, use `np.bool_` here.\n",
            "Deprecated in NumPy 1.20; for more details and guidance: https://numpy.org/devdocs/release/1.20.0-notes.html#deprecations\n",
            "  remaining_mask_np = np.ones_like( doc_mask_np ).astype( np.bool ) | doc_mask_np\n",
            "train.py:228: DeprecationWarning: `np.bool` is a deprecated alias for the builtin `bool`. To silence this warning, use `bool` by itself. Doing this will not modify any behavior and is safe. If you specifically wanted the numpy scalar type, use `np.bool_` here.\n",
            "Deprecated in NumPy 1.20; for more details and guidance: https://numpy.org/devdocs/release/1.20.0-notes.html#deprecations\n",
            "  extraction_mask_np = np.zeros_like( doc_mask_np ).astype( np.bool ) | doc_mask_np\n",
            "24it [00:34,  1.38s/it]Starting validation ...\n",
            "train.py:308: DeprecationWarning: `np.bool` is a deprecated alias for the builtin `bool`. To silence this warning, use `bool` by itself. Doing this will not modify any behavior and is safe. If you specifically wanted the numpy scalar type, use `np.bool_` here.\n",
            "Deprecated in NumPy 1.20; for more details and guidance: https://numpy.org/devdocs/release/1.20.0-notes.html#deprecations\n",
            "  remaining_mask_np = np.ones_like( doc_mask ).astype( np.bool ) | doc_mask\n",
            "train.py:309: DeprecationWarning: `np.bool` is a deprecated alias for the builtin `bool`. To silence this warning, use `bool` by itself. Doing this will not modify any behavior and is safe. If you specifically wanted the numpy scalar type, use `np.bool_` here.\n",
            "Deprecated in NumPy 1.20; for more details and guidance: https://numpy.org/devdocs/release/1.20.0-notes.html#deprecations\n",
            "  extraction_mask_np = np.zeros_like( doc_mask ).astype( np.bool ) | doc_mask\n",
            "val: 0.3103, 0.0874, 0.2774\n",
            "25it [00:48,  1.95s/it]\n",
            "24it [00:37,  1.63s/it]Starting validation ...\n",
            "val: 0.3175, 0.0926, 0.2828\n",
            "25it [00:53,  2.12s/it]\n",
            "24it [00:37,  1.54s/it]Starting validation ...\n",
            "val: 0.3223, 0.0957, 0.2860\n",
            "25it [00:53,  2.13s/it]\n",
            "24it [00:38,  1.62s/it][current_batch: 00100] loss: 0.485, learning rate: 0.000100\n",
            "Starting validation ...\n",
            "val: 0.3287, 0.1040, 0.2935\n",
            "25it [00:54,  2.17s/it]\n",
            "24it [00:38,  1.57s/it]Starting validation ...\n",
            "val: 0.3359, 0.1081, 0.3000\n",
            "25it [00:53,  2.13s/it]\n",
            "24it [00:38,  1.62s/it]Starting validation ...\n",
            "val: 0.3427, 0.1117, 0.3064\n",
            "25it [00:53,  2.16s/it]\n",
            "24it [00:38,  1.60s/it]Starting validation ...\n",
            "val: 0.3472, 0.1140, 0.3107\n",
            "25it [00:54,  2.17s/it]\n",
            "24it [00:38,  1.61s/it][current_batch: 00200] loss: 0.469, learning rate: 0.000100\n",
            "Starting validation ...\n",
            "val: 0.3524, 0.1136, 0.3137\n",
            "25it [00:55,  2.20s/it]\n",
            "24it [00:38,  1.61s/it]Starting validation ...\n",
            "val: 0.3603, 0.1184, 0.3216\n",
            "25it [00:53,  2.15s/it]\n",
            "24it [00:39,  1.66s/it]Starting validation ...\n",
            "val: 0.3635, 0.1206, 0.3258\n",
            "25it [00:54,  2.19s/it]\n"
          ]
        }
      ],
      "source": [
        "!cd src/MemSum_Full; python train.py -training_corpus_file_name ../../data/custom_data/train_CUSTOM_labelled.jsonl -validation_corpus_file_name ../../data/custom_data/val_CUSTOM_raw.jsonl -model_folder ../../model/MemSum_Full/custom_data/200dim/run0/ -log_folder ../../log/MemSum_Full/custom_data/200dim/run0/ -vocabulary_file_name ../../model/glove/vocabulary_200dim.pkl -pretrained_unigram_embeddings_file_name ../../model/glove/unigram_embeddings_200dim.pkl -max_seq_len 100 -max_doc_len 500 -num_of_epochs 10 -save_every 1000 -n_device 1 -batch_size_per_device 4 -max_extracted_sentences_per_document 7 -moving_average_decay 0.999 -p_stop_thres 0.6"
      ]
    },
    {
      "attachments": {},
      "cell_type": "markdown",
      "metadata": {
        "id": "47uWDs5nSZqA"
      },
      "source": [
        "# Testing trained model on custom dataset"
      ]
    },
    {
      "cell_type": "code",
      "execution_count": 2,
      "metadata": {
        "id": "5ziC45_cSfu9"
      },
      "outputs": [
        {
          "name": "stderr",
          "output_type": "stream",
          "text": [
            "/home/jisoo/anaconda3/envs/memsum/lib/python3.7/site-packages/tqdm/auto.py:21: TqdmWarning: IProgress not found. Please update jupyter and ipywidgets. See https://ipywidgets.readthedocs.io/en/stable/user_install.html\n",
            "  from .autonotebook import tqdm as notebook_tqdm\n"
          ]
        }
      ],
      "source": [
        "from summarizers import MemSum\n",
        "from tqdm import tqdm\n",
        "from rouge_score import rouge_scorer\n",
        "import json\n",
        "import numpy as np"
      ]
    },
    {
      "cell_type": "code",
      "execution_count": 3,
      "metadata": {
        "id": "bcAh047kSjLj"
      },
      "outputs": [
        {
          "ename": "FileNotFoundError",
          "evalue": "[Errno 2] No such file or directory: 'model/MemSum_Full/custom_data/200dim/run0/model_batch_250.pt'",
          "output_type": "error",
          "traceback": [
            "\u001b[0;31m---------------------------------------------------------------------------\u001b[0m",
            "\u001b[0;31mFileNotFoundError\u001b[0m                         Traceback (most recent call last)",
            "\u001b[0;32m<ipython-input-3-d07d8ae3dcfe>\u001b[0m in \u001b[0;36m<module>\u001b[0;34m\u001b[0m\n\u001b[1;32m      3\u001b[0m memsum_custom_data = MemSum(  \"model/MemSum_Full/custom_data/200dim/run0/model_batch_250.pt\", \n\u001b[1;32m      4\u001b[0m                   \u001b[0;34m\"model/glove/vocabulary_200dim.pkl\"\u001b[0m\u001b[0;34m,\u001b[0m\u001b[0;34m\u001b[0m\u001b[0;34m\u001b[0m\u001b[0m\n\u001b[0;32m----> 5\u001b[0;31m                   gpu = 0 ,  max_doc_len = 500  )\n\u001b[0m",
            "\u001b[0;32m~/VScode/MemSum/summarizers.py\u001b[0m in \u001b[0;36m__init__\u001b[0;34m(self, model_path, vocabulary_path, gpu, embed_dim, num_heads, hidden_dim, N_enc_l, N_enc_g, N_dec, max_seq_len, max_doc_len)\u001b[0m\n\u001b[1;32m     28\u001b[0m         \u001b[0mself\u001b[0m\u001b[0;34m.\u001b[0m\u001b[0mextraction_context_decoder\u001b[0m \u001b[0;34m=\u001b[0m \u001b[0mExtractionContextDecoder_MemSum_Full\u001b[0m\u001b[0;34m(\u001b[0m \u001b[0membed_dim\u001b[0m\u001b[0;34m,\u001b[0m \u001b[0mnum_heads\u001b[0m\u001b[0;34m,\u001b[0m \u001b[0mhidden_dim\u001b[0m\u001b[0;34m,\u001b[0m \u001b[0mN_dec\u001b[0m \u001b[0;34m)\u001b[0m\u001b[0;34m\u001b[0m\u001b[0;34m\u001b[0m\u001b[0m\n\u001b[1;32m     29\u001b[0m         \u001b[0mself\u001b[0m\u001b[0;34m.\u001b[0m\u001b[0mextractor\u001b[0m \u001b[0;34m=\u001b[0m \u001b[0mExtractor_MemSum_Full\u001b[0m\u001b[0;34m(\u001b[0m \u001b[0membed_dim\u001b[0m\u001b[0;34m,\u001b[0m \u001b[0mnum_heads\u001b[0m \u001b[0;34m)\u001b[0m\u001b[0;34m\u001b[0m\u001b[0;34m\u001b[0m\u001b[0m\n\u001b[0;32m---> 30\u001b[0;31m         \u001b[0mckpt\u001b[0m \u001b[0;34m=\u001b[0m \u001b[0mtorch\u001b[0m\u001b[0;34m.\u001b[0m\u001b[0mload\u001b[0m\u001b[0;34m(\u001b[0m \u001b[0mmodel_path\u001b[0m\u001b[0;34m,\u001b[0m \u001b[0mmap_location\u001b[0m \u001b[0;34m=\u001b[0m \u001b[0;34m\"cpu\"\u001b[0m \u001b[0;34m)\u001b[0m\u001b[0;34m\u001b[0m\u001b[0;34m\u001b[0m\u001b[0m\n\u001b[0m\u001b[1;32m     31\u001b[0m         \u001b[0mself\u001b[0m\u001b[0;34m.\u001b[0m\u001b[0mlocal_sentence_encoder\u001b[0m\u001b[0;34m.\u001b[0m\u001b[0mload_state_dict\u001b[0m\u001b[0;34m(\u001b[0m \u001b[0mckpt\u001b[0m\u001b[0;34m[\u001b[0m\u001b[0;34m\"local_sentence_encoder\"\u001b[0m\u001b[0;34m]\u001b[0m \u001b[0;34m)\u001b[0m\u001b[0;34m\u001b[0m\u001b[0;34m\u001b[0m\u001b[0m\n\u001b[1;32m     32\u001b[0m         \u001b[0mself\u001b[0m\u001b[0;34m.\u001b[0m\u001b[0mglobal_context_encoder\u001b[0m\u001b[0;34m.\u001b[0m\u001b[0mload_state_dict\u001b[0m\u001b[0;34m(\u001b[0m \u001b[0mckpt\u001b[0m\u001b[0;34m[\u001b[0m\u001b[0;34m\"global_context_encoder\"\u001b[0m\u001b[0;34m]\u001b[0m \u001b[0;34m)\u001b[0m\u001b[0;34m\u001b[0m\u001b[0;34m\u001b[0m\u001b[0m\n",
            "\u001b[0;32m~/anaconda3/envs/memsum/lib/python3.7/site-packages/torch/serialization.py\u001b[0m in \u001b[0;36mload\u001b[0;34m(f, map_location, pickle_module, weights_only, **pickle_load_args)\u001b[0m\n\u001b[1;32m    769\u001b[0m         \u001b[0mpickle_load_args\u001b[0m\u001b[0;34m[\u001b[0m\u001b[0;34m'encoding'\u001b[0m\u001b[0;34m]\u001b[0m \u001b[0;34m=\u001b[0m \u001b[0;34m'utf-8'\u001b[0m\u001b[0;34m\u001b[0m\u001b[0;34m\u001b[0m\u001b[0m\n\u001b[1;32m    770\u001b[0m \u001b[0;34m\u001b[0m\u001b[0m\n\u001b[0;32m--> 771\u001b[0;31m     \u001b[0;32mwith\u001b[0m \u001b[0m_open_file_like\u001b[0m\u001b[0;34m(\u001b[0m\u001b[0mf\u001b[0m\u001b[0;34m,\u001b[0m \u001b[0;34m'rb'\u001b[0m\u001b[0;34m)\u001b[0m \u001b[0;32mas\u001b[0m \u001b[0mopened_file\u001b[0m\u001b[0;34m:\u001b[0m\u001b[0;34m\u001b[0m\u001b[0;34m\u001b[0m\u001b[0m\n\u001b[0m\u001b[1;32m    772\u001b[0m         \u001b[0;32mif\u001b[0m \u001b[0m_is_zipfile\u001b[0m\u001b[0;34m(\u001b[0m\u001b[0mopened_file\u001b[0m\u001b[0;34m)\u001b[0m\u001b[0;34m:\u001b[0m\u001b[0;34m\u001b[0m\u001b[0;34m\u001b[0m\u001b[0m\n\u001b[1;32m    773\u001b[0m             \u001b[0;31m# The zipfile reader is going to advance the current file position.\u001b[0m\u001b[0;34m\u001b[0m\u001b[0;34m\u001b[0m\u001b[0;34m\u001b[0m\u001b[0m\n",
            "\u001b[0;32m~/anaconda3/envs/memsum/lib/python3.7/site-packages/torch/serialization.py\u001b[0m in \u001b[0;36m_open_file_like\u001b[0;34m(name_or_buffer, mode)\u001b[0m\n\u001b[1;32m    268\u001b[0m \u001b[0;32mdef\u001b[0m \u001b[0m_open_file_like\u001b[0m\u001b[0;34m(\u001b[0m\u001b[0mname_or_buffer\u001b[0m\u001b[0;34m,\u001b[0m \u001b[0mmode\u001b[0m\u001b[0;34m)\u001b[0m\u001b[0;34m:\u001b[0m\u001b[0;34m\u001b[0m\u001b[0;34m\u001b[0m\u001b[0m\n\u001b[1;32m    269\u001b[0m     \u001b[0;32mif\u001b[0m \u001b[0m_is_path\u001b[0m\u001b[0;34m(\u001b[0m\u001b[0mname_or_buffer\u001b[0m\u001b[0;34m)\u001b[0m\u001b[0;34m:\u001b[0m\u001b[0;34m\u001b[0m\u001b[0;34m\u001b[0m\u001b[0m\n\u001b[0;32m--> 270\u001b[0;31m         \u001b[0;32mreturn\u001b[0m \u001b[0m_open_file\u001b[0m\u001b[0;34m(\u001b[0m\u001b[0mname_or_buffer\u001b[0m\u001b[0;34m,\u001b[0m \u001b[0mmode\u001b[0m\u001b[0;34m)\u001b[0m\u001b[0;34m\u001b[0m\u001b[0;34m\u001b[0m\u001b[0m\n\u001b[0m\u001b[1;32m    271\u001b[0m     \u001b[0;32melse\u001b[0m\u001b[0;34m:\u001b[0m\u001b[0;34m\u001b[0m\u001b[0;34m\u001b[0m\u001b[0m\n\u001b[1;32m    272\u001b[0m         \u001b[0;32mif\u001b[0m \u001b[0;34m'w'\u001b[0m \u001b[0;32min\u001b[0m \u001b[0mmode\u001b[0m\u001b[0;34m:\u001b[0m\u001b[0;34m\u001b[0m\u001b[0;34m\u001b[0m\u001b[0m\n",
            "\u001b[0;32m~/anaconda3/envs/memsum/lib/python3.7/site-packages/torch/serialization.py\u001b[0m in \u001b[0;36m__init__\u001b[0;34m(self, name, mode)\u001b[0m\n\u001b[1;32m    249\u001b[0m \u001b[0;32mclass\u001b[0m \u001b[0m_open_file\u001b[0m\u001b[0;34m(\u001b[0m\u001b[0m_opener\u001b[0m\u001b[0;34m)\u001b[0m\u001b[0;34m:\u001b[0m\u001b[0;34m\u001b[0m\u001b[0;34m\u001b[0m\u001b[0m\n\u001b[1;32m    250\u001b[0m     \u001b[0;32mdef\u001b[0m \u001b[0m__init__\u001b[0m\u001b[0;34m(\u001b[0m\u001b[0mself\u001b[0m\u001b[0;34m,\u001b[0m \u001b[0mname\u001b[0m\u001b[0;34m,\u001b[0m \u001b[0mmode\u001b[0m\u001b[0;34m)\u001b[0m\u001b[0;34m:\u001b[0m\u001b[0;34m\u001b[0m\u001b[0;34m\u001b[0m\u001b[0m\n\u001b[0;32m--> 251\u001b[0;31m         \u001b[0msuper\u001b[0m\u001b[0;34m(\u001b[0m\u001b[0m_open_file\u001b[0m\u001b[0;34m,\u001b[0m \u001b[0mself\u001b[0m\u001b[0;34m)\u001b[0m\u001b[0;34m.\u001b[0m\u001b[0m__init__\u001b[0m\u001b[0;34m(\u001b[0m\u001b[0mopen\u001b[0m\u001b[0;34m(\u001b[0m\u001b[0mname\u001b[0m\u001b[0;34m,\u001b[0m \u001b[0mmode\u001b[0m\u001b[0;34m)\u001b[0m\u001b[0;34m)\u001b[0m\u001b[0;34m\u001b[0m\u001b[0;34m\u001b[0m\u001b[0m\n\u001b[0m\u001b[1;32m    252\u001b[0m \u001b[0;34m\u001b[0m\u001b[0m\n\u001b[1;32m    253\u001b[0m     \u001b[0;32mdef\u001b[0m \u001b[0m__exit__\u001b[0m\u001b[0;34m(\u001b[0m\u001b[0mself\u001b[0m\u001b[0;34m,\u001b[0m \u001b[0;34m*\u001b[0m\u001b[0margs\u001b[0m\u001b[0;34m)\u001b[0m\u001b[0;34m:\u001b[0m\u001b[0;34m\u001b[0m\u001b[0;34m\u001b[0m\u001b[0m\n",
            "\u001b[0;31mFileNotFoundError\u001b[0m: [Errno 2] No such file or directory: 'model/MemSum_Full/custom_data/200dim/run0/model_batch_250.pt'"
          ]
        }
      ],
      "source": [
        "rouge_cal = rouge_scorer.RougeScorer(['rouge1','rouge2', 'rougeLsum'], use_stemmer=True)\n",
        "\n",
        "memsum_custom_data = MemSum(  \"model/MemSum_Full/custom_data/200dim/run0/model_batch_250.pt\", \n",
        "                  \"model/glove/vocabulary_200dim.pkl\", \n",
        "                  gpu = 0 ,  max_doc_len = 500  )"
      ]
    },
    {
      "cell_type": "code",
      "execution_count": null,
      "metadata": {
        "id": "FJODv4CcUVwb"
      },
      "outputs": [],
      "source": [
        "test_corpus_custom_data = [ json.loads(line) for line in open(\"data/custom_data/test_CUSTOM_raw.jsonl\")]"
      ]
    },
    {
      "cell_type": "code",
      "execution_count": null,
      "metadata": {
        "id": "c6f3Up_1UiWz"
      },
      "outputs": [],
      "source": [
        "def evaluate( model, corpus, p_stop, max_extracted_sentences, rouge_cal ):\n",
        "    scores = []\n",
        "    for data in tqdm(corpus):\n",
        "        gold_summary = data[\"summary\"]\n",
        "        extracted_summary = model.extract( [data[\"text\"]], p_stop_thres = p_stop, max_extracted_sentences_per_document = max_extracted_sentences )[0]\n",
        "        \n",
        "        score = rouge_cal.score( \"\\n\".join( gold_summary ), \"\\n\".join(extracted_summary)  )\n",
        "        scores.append( [score[\"rouge1\"].fmeasure, score[\"rouge2\"].fmeasure, score[\"rougeLsum\"].fmeasure ] )\n",
        "    \n",
        "    return np.asarray(scores).mean(axis = 0)"
      ]
    },
    {
      "cell_type": "code",
      "execution_count": null,
      "metadata": {
        "colab": {
          "base_uri": "https://localhost:8080/"
        },
        "id": "JaUWUcW0Ul9t",
        "outputId": "6c435b2f-11c5-4f65-e135-ad145058658b"
      },
      "outputs": [
        {
          "name": "stderr",
          "output_type": "stream",
          "text": [
            "100%|██████████| 100/100 [00:16<00:00,  5.90it/s]\n"
          ]
        },
        {
          "data": {
            "text/plain": [
              "array([0.37957819, 0.13561023, 0.3435555 ])"
            ]
          },
          "execution_count": 24,
          "metadata": {},
          "output_type": "execute_result"
        }
      ],
      "source": [
        "evaluate( memsum_custom_data, test_corpus_custom_data, 0.6, 7, rouge_cal )"
      ]
    },
    {
      "cell_type": "code",
      "execution_count": null,
      "metadata": {
        "id": "H86zC0sMWVhF"
      },
      "outputs": [],
      "source": []
    },
    {
      "attachments": {},
      "cell_type": "markdown",
      "metadata": {
        "id": "n1ra5Yp2Vj2O"
      },
      "source": [
        "To cite MemSum, please use the following bibtex:\n",
        "\n",
        "```\n",
        "@inproceedings{gu-etal-2022-memsum,\n",
        "    title = \"{M}em{S}um: Extractive Summarization of Long Documents Using Multi-Step Episodic {M}arkov Decision Processes\",\n",
        "    author = \"Gu, Nianlong  and\n",
        "      Ash, Elliott  and\n",
        "      Hahnloser, Richard\",\n",
        "    booktitle = \"Proceedings of the 60th Annual Meeting of the Association for Computational Linguistics (Volume 1: Long Papers)\",\n",
        "    month = may,\n",
        "    year = \"2022\",\n",
        "    address = \"Dublin, Ireland\",\n",
        "    publisher = \"Association for Computational Linguistics\",\n",
        "    url = \"https://aclanthology.org/2022.acl-long.450\",\n",
        "    doi = \"10.18653/v1/2022.acl-long.450\",\n",
        "    pages = \"6507--6522\",\n",
        "    abstract = \"We introduce MemSum (Multi-step Episodic Markov decision process extractive SUMmarizer), a reinforcement-learning-based extractive summarizer enriched at each step with information on the current extraction history. When MemSum iteratively selects sentences into the summary, it considers a broad information set that would intuitively also be used by humans in this task: 1) the text content of the sentence, 2) the global text context of the rest of the document, and 3) the extraction history consisting of the set of sentences that have already been extracted. With a lightweight architecture, MemSum obtains state-of-the-art test-set performance (ROUGE) in summarizing long documents taken from PubMed, arXiv, and GovReport. Ablation studies demonstrate the importance of local, global, and history information. A human evaluation confirms the high quality and low redundancy of the generated summaries, stemming from MemSum{'}s awareness of extraction history.\",\n",
        "}\n",
        "```"
      ]
    },
    {
      "attachments": {},
      "cell_type": "markdown",
      "metadata": {},
      "source": [
        "#Test"
      ]
    },
    {
      "cell_type": "code",
      "execution_count": 1,
      "metadata": {
        "id": "chvAK3HPV6I3"
      },
      "outputs": [
        {
          "name": "stderr",
          "output_type": "stream",
          "text": [
            "/home/jisoo/anaconda3/envs/memsum/lib/python3.7/site-packages/tqdm/auto.py:21: TqdmWarning: IProgress not found. Please update jupyter and ipywidgets. See https://ipywidgets.readthedocs.io/en/stable/user_install.html\n",
            "  from .autonotebook import tqdm as notebook_tqdm\n"
          ]
        }
      ],
      "source": [
        "from summarizers import MemSum\n",
        "from tqdm import tqdm\n",
        "from rouge_score import rouge_scorer\n",
        "import json\n",
        "import numpy as np"
      ]
    },
    {
      "cell_type": "code",
      "execution_count": 2,
      "metadata": {},
      "outputs": [],
      "source": [
        "from sentence_transformers import SentenceTransformer\n",
        "\n",
        "def cos_sim(A, B):\n",
        "    return dot(A, B)/(norm(A)*norm(B))\n",
        "\n",
        "model2 = SentenceTransformer('jhgan/ko-sbert-multitask')"
      ]
    },
    {
      "cell_type": "code",
      "execution_count": 6,
      "metadata": {},
      "outputs": [],
      "source": [
        "import numpy as np\n",
        "from tqdm import tqdm\n",
        "from numpy import dot\n",
        "from numpy.linalg import norm"
      ]
    },
    {
      "cell_type": "code",
      "execution_count": 13,
      "metadata": {},
      "outputs": [],
      "source": [
        "rouge_cal = rouge_scorer.RougeScorer(['rouge1','rouge2','rougeL', 'rougeLsum'], use_stemmer=True)\n"
      ]
    },
    {
      "cell_type": "code",
      "execution_count": 14,
      "metadata": {},
      "outputs": [],
      "source": [
        "\n",
        "model = MemSum(\"/home/jisoo/VScode/MemSum/model_batch_29000.pt\", \"/home/jisoo/VScode/MemSum/vocabulary_100dim.pkl\",embed_dim=100,gpu = 0 ,  max_doc_len = 500  )"
      ]
    },
    {
      "cell_type": "code",
      "execution_count": 15,
      "metadata": {},
      "outputs": [],
      "source": [
        "test_corpus_custom_data = [ json.loads(line) for line in open(\"/home/jisoo/VScode/MemSum/train_CUSTOM_raw.jsonl\")]"
      ]
    },
    {
      "cell_type": "code",
      "execution_count": 8,
      "metadata": {},
      "outputs": [],
      "source": [
        "import pandas as pd"
      ]
    },
    {
      "cell_type": "code",
      "execution_count": 21,
      "metadata": {},
      "outputs": [
        {
          "ename": "TypeError",
          "evalue": "list indices must be integers or slices, not str",
          "output_type": "error",
          "traceback": [
            "\u001b[0;31m---------------------------------------------------------------------------\u001b[0m",
            "\u001b[0;31mTypeError\u001b[0m                                 Traceback (most recent call last)",
            "\u001b[0;32m<ipython-input-21-c5b60d5813c6>\u001b[0m in \u001b[0;36m<module>\u001b[0;34m\u001b[0m\n\u001b[0;32m----> 1\u001b[0;31m \u001b[0mtest_corpus_custom_data\u001b[0m\u001b[0;34m[\u001b[0m\u001b[0;34m'data'\u001b[0m\u001b[0;34m]\u001b[0m\u001b[0;34m\u001b[0m\u001b[0;34m\u001b[0m\u001b[0m\n\u001b[0m",
            "\u001b[0;31mTypeError\u001b[0m: list indices must be integers or slices, not str"
          ]
        }
      ],
      "source": [
        "\n",
        "test_corpus_custom_data['data']"
      ]
    },
    {
      "cell_type": "code",
      "execution_count": 28,
      "metadata": {},
      "outputs": [
        {
          "name": "stderr",
          "output_type": "stream",
          "text": [
            "100%|██████████| 660/660 [00:14<00:00, 45.78it/s]\n"
          ]
        },
        {
          "data": {
            "text/plain": [
              "array([0.56303489, 0.26086584, 0.56190751])"
            ]
          },
          "execution_count": 28,
          "metadata": {},
          "output_type": "execute_result"
        }
      ],
      "source": [
        "p_stop = 0.6\n",
        "max_extracted_sentences=4\n",
        "\n",
        "scores = []\n",
        "cnt = 0\n",
        "ans = 0\n",
        "scores = []\n",
        "for data in tqdm(test_corpus_custom_data):\n",
        "    gold_summary = data[\"summary\"]\n",
        "    extracted_summary = model.extract( [data[\"text\"]], p_stop_thres = p_stop, max_extracted_sentences_per_document = max_extracted_sentences )[0]\n",
        "    \n",
        "    score = rouge_cal.score( \"\\n\".join( gold_summary ), \"\\n\".join(extracted_summary)  )\n",
        "    scores.append( [score[\"rouge1\"].fmeasure, score[\"rouge2\"].fmeasure,score[\"rougeL\"].fmeasure, score[\"rougeLsum\"].fmeasure ] )\n",
        "    \n",
        "np.asarray(scores).mean(axis = 0)"
      ]
    },
    {
      "cell_type": "code",
      "execution_count": null,
      "metadata": {},
      "outputs": [],
      "source": [
        "p_stop = 0.6\n",
        "max_extracted_sentences=4\n",
        "\n",
        "scores = []\n",
        "cnt = 0\n",
        "ans = 0\n",
        "\n",
        "for data in tqdm(test_corpus_custom_data):\n",
        "    gold_summary = data[\"summary\"]\n",
        "    extracted_summary = model.extract( [data[\"text\"]], p_stop_thres = p_stop, max_extracted_sentences_per_document = max_extracted_sentences )[0]\n",
        "    scores+=extracted_summary\n",
        "    score = rouge_cal.score( \"\\n\".join( gold_summary ), \"\\n\".join(extracted_summary)  )\n",
        "    scores.append( [score[\"rouge1\"].fmeasure, score[\"rouge2\"].fmeasure, score[\"rougeLsum\"].fmeasure ] )\n",
        "    "
      ]
    },
    {
      "cell_type": "code",
      "execution_count": 32,
      "metadata": {},
      "outputs": [
        {
          "data": {
            "text/plain": [
              "660"
            ]
          },
          "execution_count": 32,
          "metadata": {},
          "output_type": "execute_result"
        }
      ],
      "source": [
        "len(test_corpus_custom_data)"
      ]
    },
    {
      "cell_type": "code",
      "execution_count": 40,
      "metadata": {},
      "outputs": [],
      "source": [
        "result_df = pd.DataFrame(index= range(660),columns = ['ans'])"
      ]
    },
    {
      "cell_type": "code",
      "execution_count": null,
      "metadata": {},
      "outputs": [],
      "source": [
        "\n",
        "ans = 0\n",
        "cnt = 0\n",
        "cnt2 = 0\n",
        "for data in tqdm(test_corpus_custom_data):\n",
        "    \n",
        "    gold_summary = data[\"summary\"]\n",
        "    extracted_summary = model.extract( [data[\"text\"]], p_stop_thres = p_stop, max_extracted_sentences_per_document = max_extracted_sentences )[0]\n",
        "    scores+=extracted_summary\n",
        "    score = rouge_cal.score( \"\\n\".join( gold_summary ), \"\\n\".join(extracted_summary)  )\n",
        "    scores.append( [score[\"rouge1\"].fmeasure, score[\"rouge2\"].fmeasure, score[\"rougeLsum\"].fmeasure ] )\n",
        "    sent_sum_embed =  pd.Series(data['summary']).apply(lambda x: model2.encode(x))\n",
        "    sent_cn_embed =  pd.Series(extracted_summary).apply(lambda x: model2.encode(x))\n",
        "    for i, (cn_embeds, summ_embeds) in enumerate(zip(sent_cn_embed,sent_sum_embed)):\n",
        "        #label = [0]*(cn_embeds.shape[0])\n",
        "        ans1 = [0]*summ_embeds.shape[0]\n",
        "        print(summ_embeds.shape[0])\n",
        "        for k, summ_embed in enumerate(summ_embeds):\n",
        "            cos_similarity = list(map(lambda x: cos_sim(x,summ_embed), cn_embeds))\n",
        "            index = np.argmax(cos_similarity)\n",
        "            cnt+=1\n",
        "            #print(cos_similarity[index],\"simm\")\n",
        "            if cos_similarity[index] >= 1.0:\n",
        "                ans+=1\n",
        "                ans1[k]=1\n",
        "    result_df['ans'][cnt2] = ans1\n",
        "    cnt2 +=1\n",
        "            \n",
        "print(ans / cnt, \"accuracy 다~\" )"
      ]
    },
    {
      "cell_type": "code",
      "execution_count": 47,
      "metadata": {},
      "outputs": [
        {
          "data": {
            "text/html": [
              "<div>\n",
              "<style scoped>\n",
              "    .dataframe tbody tr th:only-of-type {\n",
              "        vertical-align: middle;\n",
              "    }\n",
              "\n",
              "    .dataframe tbody tr th {\n",
              "        vertical-align: top;\n",
              "    }\n",
              "\n",
              "    .dataframe thead th {\n",
              "        text-align: right;\n",
              "    }\n",
              "</style>\n",
              "<table border=\"1\" class=\"dataframe\">\n",
              "  <thead>\n",
              "    <tr style=\"text-align: right;\">\n",
              "      <th></th>\n",
              "      <th>ans</th>\n",
              "      <th>cnt</th>\n",
              "      <th>len</th>\n",
              "    </tr>\n",
              "  </thead>\n",
              "  <tbody>\n",
              "    <tr>\n",
              "      <th>0</th>\n",
              "      <td>[1, 1, 1, 1, 1, 1, 1, 1, 1, 1, 1, 1, 1, 1, 1, ...</td>\n",
              "      <td>768</td>\n",
              "      <td>768</td>\n",
              "    </tr>\n",
              "    <tr>\n",
              "      <th>1</th>\n",
              "      <td>[1, 1, 1, 1, 1, 1, 1, 1, 1, 1, 1, 1, 1, 1, 1, ...</td>\n",
              "      <td>768</td>\n",
              "      <td>768</td>\n",
              "    </tr>\n",
              "    <tr>\n",
              "      <th>2</th>\n",
              "      <td>[1, 1, 1, 1, 1, 1, 1, 1, 1, 1, 1, 1, 1, 1, 1, ...</td>\n",
              "      <td>768</td>\n",
              "      <td>768</td>\n",
              "    </tr>\n",
              "    <tr>\n",
              "      <th>3</th>\n",
              "      <td>[1, 1, 1, 1, 1, 1, 1, 1, 1, 1, 1, 1, 1, 1, 1, ...</td>\n",
              "      <td>768</td>\n",
              "      <td>768</td>\n",
              "    </tr>\n",
              "    <tr>\n",
              "      <th>4</th>\n",
              "      <td>[1, 1, 1, 1, 1, 1, 1, 1, 1, 1, 1, 1, 1, 1, 1, ...</td>\n",
              "      <td>768</td>\n",
              "      <td>768</td>\n",
              "    </tr>\n",
              "    <tr>\n",
              "      <th>...</th>\n",
              "      <td>...</td>\n",
              "      <td>...</td>\n",
              "      <td>...</td>\n",
              "    </tr>\n",
              "    <tr>\n",
              "      <th>655</th>\n",
              "      <td>[1, 1, 1, 1, 1, 1, 1, 1, 1, 1, 1, 1, 1, 1, 1, ...</td>\n",
              "      <td>768</td>\n",
              "      <td>768</td>\n",
              "    </tr>\n",
              "    <tr>\n",
              "      <th>656</th>\n",
              "      <td>[1, 1, 1, 1, 1, 1, 1, 1, 1, 1, 1, 1, 1, 1, 1, ...</td>\n",
              "      <td>768</td>\n",
              "      <td>768</td>\n",
              "    </tr>\n",
              "    <tr>\n",
              "      <th>657</th>\n",
              "      <td>[1, 1, 1, 1, 1, 1, 1, 1, 1, 1, 1, 1, 1, 1, 1, ...</td>\n",
              "      <td>768</td>\n",
              "      <td>768</td>\n",
              "    </tr>\n",
              "    <tr>\n",
              "      <th>658</th>\n",
              "      <td>[1, 1, 1, 1, 1, 1, 1, 1, 1, 1, 1, 1, 1, 1, 1, ...</td>\n",
              "      <td>768</td>\n",
              "      <td>768</td>\n",
              "    </tr>\n",
              "    <tr>\n",
              "      <th>659</th>\n",
              "      <td>[1, 1, 1, 1, 1, 1, 1, 1, 1, 1, 1, 1, 1, 1, 1, ...</td>\n",
              "      <td>768</td>\n",
              "      <td>768</td>\n",
              "    </tr>\n",
              "  </tbody>\n",
              "</table>\n",
              "<p>660 rows × 3 columns</p>\n",
              "</div>"
            ],
            "text/plain": [
              "                                                   ans  cnt  len\n",
              "0    [1, 1, 1, 1, 1, 1, 1, 1, 1, 1, 1, 1, 1, 1, 1, ...  768  768\n",
              "1    [1, 1, 1, 1, 1, 1, 1, 1, 1, 1, 1, 1, 1, 1, 1, ...  768  768\n",
              "2    [1, 1, 1, 1, 1, 1, 1, 1, 1, 1, 1, 1, 1, 1, 1, ...  768  768\n",
              "3    [1, 1, 1, 1, 1, 1, 1, 1, 1, 1, 1, 1, 1, 1, 1, ...  768  768\n",
              "4    [1, 1, 1, 1, 1, 1, 1, 1, 1, 1, 1, 1, 1, 1, 1, ...  768  768\n",
              "..                                                 ...  ...  ...\n",
              "655  [1, 1, 1, 1, 1, 1, 1, 1, 1, 1, 1, 1, 1, 1, 1, ...  768  768\n",
              "656  [1, 1, 1, 1, 1, 1, 1, 1, 1, 1, 1, 1, 1, 1, 1, ...  768  768\n",
              "657  [1, 1, 1, 1, 1, 1, 1, 1, 1, 1, 1, 1, 1, 1, 1, ...  768  768\n",
              "658  [1, 1, 1, 1, 1, 1, 1, 1, 1, 1, 1, 1, 1, 1, 1, ...  768  768\n",
              "659  [1, 1, 1, 1, 1, 1, 1, 1, 1, 1, 1, 1, 1, 1, 1, ...  768  768\n",
              "\n",
              "[660 rows x 3 columns]"
            ]
          },
          "execution_count": 47,
          "metadata": {},
          "output_type": "execute_result"
        }
      ],
      "source": [
        "result_df['cnt'] = result_df['ans'].map(lambda x:x.count(1))\n",
        "result_df['len'] = result_df['ans'].map(lambda x:len(x))\n",
        "result_df"
      ]
    },
    {
      "cell_type": "code",
      "execution_count": 49,
      "metadata": {},
      "outputs": [],
      "source": [
        "result_df.to_csv('check.csv')"
      ]
    },
    {
      "cell_type": "code",
      "execution_count": 43,
      "metadata": {},
      "outputs": [
        {
          "data": {
            "text/plain": [
              "(857088, 857088)"
            ]
          },
          "execution_count": 43,
          "metadata": {},
          "output_type": "execute_result"
        }
      ],
      "source": [
        "ans, cnt"
      ]
    },
    {
      "cell_type": "code",
      "execution_count": 44,
      "metadata": {},
      "outputs": [
        {
          "data": {
            "text/plain": [
              "{'rouge1': Score(precision=0.6363636363636364, recall=0.875, fmeasure=0.7368421052631579),\n",
              " 'rouge2': Score(precision=0.5, recall=0.7142857142857143, fmeasure=0.588235294117647),\n",
              " 'rougeLsum': Score(precision=0.6363636363636364, recall=0.875, fmeasure=0.7368421052631579)}"
            ]
          },
          "execution_count": 44,
          "metadata": {},
          "output_type": "execute_result"
        }
      ],
      "source": [
        "score"
      ]
    },
    {
      "cell_type": "code",
      "execution_count": 45,
      "metadata": {},
      "outputs": [
        {
          "data": {
            "text/plain": [
              "[[0.8000000000000002, 0.75, 0.8000000000000002],\n",
              " [0.8000000000000002, 0.75, 0.8000000000000002],\n",
              " [0.4, 0.0, 0.4],\n",
              " [0.8333333333333334, 0.6, 0.8333333333333334],\n",
              " [0.4, 0.0, 0.4],\n",
              " [1.0, 0.0, 1.0],\n",
              " [0.8, 0.0, 0.8],\n",
              " [1.0, 0.0, 1.0],\n",
              " [0.6666666666666666, 0.5, 0.6666666666666666],\n",
              " [0.0, 0.0, 0.0],\n",
              " [0.875, 0.8571428571428571, 0.875],\n",
              " [1.0, 0.0, 1.0],\n",
              " [0.75, 0.6666666666666666, 0.75],\n",
              " [0.888888888888889, 0.8571428571428571, 0.888888888888889],\n",
              " [0.0, 0.0, 0.0],\n",
              " [0.9090909090909091, 0.6666666666666665, 0.9090909090909091],\n",
              " [0.0, 0.0, 0.0],\n",
              " [1.0, 0.0, 1.0],\n",
              " [0.8333333333333334, 0.6, 0.8333333333333334],\n",
              " [0.6666666666666666, 0.5, 0.6666666666666666],\n",
              " [1.0, 0.0, 1.0],\n",
              " [0.5, 0.0, 0.5],\n",
              " [0.6666666666666666, 0.5, 0.6666666666666666],\n",
              " [0.6, 0.5, 0.6],\n",
              " [0.0, 0.0, 0.0],\n",
              " [0.5, 0.0, 0.5],\n",
              " [0.8333333333333334, 0.6, 0.8333333333333334],\n",
              " [0.6666666666666666, 0.5, 0.6666666666666666],\n",
              " [0.6666666666666666, 0.0, 0.6666666666666666],\n",
              " [0.6666666666666666, 0.5, 0.6666666666666666],\n",
              " [0.6666666666666666, 0.0, 0.6666666666666666],\n",
              " [0.0, 0.0, 0.0],\n",
              " [0.8571428571428571, 0.4, 0.8571428571428571],\n",
              " [0.3076923076923077, 0.0, 0.3076923076923077],\n",
              " [0.8571428571428571, 0.4, 0.8571428571428571],\n",
              " [0.0, 0.0, 0.0],\n",
              " [0.6153846153846154, 0.5454545454545454, 0.6153846153846154],\n",
              " [0.0, 0.0, 0.0],\n",
              " [0.6666666666666666, 0.0, 0.6666666666666666],\n",
              " [0.5, 0.0, 0.5],\n",
              " [0.5, 0.0, 0.5],\n",
              " [0.6666666666666666, 0.5, 0.6666666666666666],\n",
              " [0.4000000000000001, 0.0, 0.4000000000000001],\n",
              " [1.0, 0.0, 1.0],\n",
              " [0.5, 0.0, 0.5],\n",
              " [0.6666666666666666, 0.0, 0.6666666666666666],\n",
              " [0.4, 0.0, 0.4],\n",
              " [0.6666666666666666, 0.0, 0.6666666666666666],\n",
              " [0.5714285714285715, 0.4, 0.5714285714285715],\n",
              " [0.9090909090909091, 0.6666666666666665, 0.9090909090909091],\n",
              " [0.6666666666666666, 0.5, 0.6666666666666666],\n",
              " [1.0, 1.0, 1.0],\n",
              " [1.0, 0.6666666666666666, 0.75],\n",
              " [0.0, 0.0, 0.0],\n",
              " [1.0, 0.0, 1.0],\n",
              " [0.3333333333333333, 0.0, 0.3333333333333333],\n",
              " [0.5, 0.0, 0.5],\n",
              " [0.8571428571428571, 0.4, 0.8571428571428571],\n",
              " [0.0, 0.0, 0.0],\n",
              " [0.5, 0.0, 0.5],\n",
              " [0.9090909090909091, 0.6666666666666665, 0.9090909090909091],\n",
              " [0.5, 0.0, 0.5],\n",
              " [1.0, 0.5, 1.0],\n",
              " [0.5, 0.0, 0.5],\n",
              " [0.0, 0.0, 0.0],\n",
              " [0.0, 0.0, 0.0],\n",
              " [0.5714285714285715, 0.0, 0.5714285714285715],\n",
              " [0.75, 0.6666666666666666, 0.75],\n",
              " [0.2857142857142857, 0.0, 0.2857142857142857],\n",
              " [0.8000000000000002, 0.75, 0.8000000000000002],\n",
              " [0.8000000000000002, 0.5, 0.8000000000000002],\n",
              " [0.6666666666666666, 0.5, 0.6666666666666666],\n",
              " [0.5714285714285715, 0.0, 0.5714285714285715],\n",
              " [0.8, 0.6666666666666666, 0.8],\n",
              " [0.7692307692307693, 0.7272727272727273, 0.7692307692307693],\n",
              " [1.0, 0.0, 1.0],\n",
              " [0.5, 0.0, 0.5],\n",
              " [0.5, 0.0, 0.5],\n",
              " [0.0, 0.0, 0.0],\n",
              " [0.6666666666666666, 0.5, 0.6666666666666666],\n",
              " [0.5, 0.0, 0.5],\n",
              " [1.0, 0.7142857142857143, 1.0],\n",
              " [0.5, 0.0, 0.5],\n",
              " [0.0, 0.0, 0.0],\n",
              " [0.3333333333333333, 0.0, 0.3333333333333333],\n",
              " [1.0, 0.0, 1.0],\n",
              " [0.6, 0.5, 0.6],\n",
              " [0.9090909090909091, 0.6666666666666665, 0.9090909090909091],\n",
              " [0.3333333333333333, 0.0, 0.3333333333333333],\n",
              " [1.0, 0.0, 1.0],\n",
              " [0.8, 0.6666666666666666, 0.8],\n",
              " [0.0, 0.0, 0.0],\n",
              " [0.5, 0.0, 0.5],\n",
              " [0.5, 0.0, 0.5],\n",
              " [0.5, 0.0, 0.5],\n",
              " [0.6666666666666666, 0.5, 0.6666666666666666],\n",
              " [0.0, 0.0, 0.0],\n",
              " [1.0, 0.0, 1.0],\n",
              " [0.0, 0.0, 0.0],\n",
              " [0.9090909090909091, 0.888888888888889, 0.9090909090909091],\n",
              " [0.6, 0.5, 0.6],\n",
              " [0.0, 0.0, 0.0],\n",
              " [0.5, 0.3333333333333333, 0.5],\n",
              " [0.75, 0.6666666666666666, 0.75],\n",
              " [0.4444444444444444, 0.28571428571428575, 0.4444444444444444],\n",
              " [0.5, 0.0, 0.5],\n",
              " [0.75, 0.6666666666666666, 0.75],\n",
              " [0.6666666666666666, 0.5, 0.6666666666666666],\n",
              " [0.5, 0.0, 0.5],\n",
              " [0.5, 0.0, 0.5],\n",
              " [0.888888888888889, 0.8571428571428571, 0.888888888888889],\n",
              " [0.4210526315789474, 0.23529411764705882, 0.4210526315789474],\n",
              " [1.0, 1.0, 1.0],\n",
              " [0.0, 0.0, 0.0],\n",
              " [1.0, 0.0, 1.0],\n",
              " [0.5, 0.0, 0.5],\n",
              " [0.6666666666666666, 0.0, 0.6666666666666666],\n",
              " [0.0, 0.0, 0],\n",
              " [0.4, 0.0, 0.4],\n",
              " [0.5714285714285715, 0.4, 0.5714285714285715],\n",
              " [1.0, 0.0, 1.0],\n",
              " [0.75, 0.6666666666666666, 0.75],\n",
              " [0.5, 0.0, 0.5],\n",
              " [0.75, 0.6666666666666666, 0.75],\n",
              " [0.6666666666666666, 0.0, 0.6666666666666666],\n",
              " [0.5, 0.0, 0.5],\n",
              " [0.75, 0.6666666666666666, 0.75],\n",
              " [1.0, 0.5, 1.0],\n",
              " [0.4, 0.0, 0.4],\n",
              " [0.8000000000000002, 0.75, 0.8000000000000002],\n",
              " [0.0, 0.0, 0.0],\n",
              " [0.6666666666666666, 0.5, 0.6666666666666666],\n",
              " [0.5, 0.0, 0.5],\n",
              " [0.5, 0.0, 0.5],\n",
              " [1.0, 0.6, 1.0],\n",
              " [1.0, 1.0, 1.0],\n",
              " [0.5714285714285715, 0.4, 0.5714285714285715],\n",
              " [0.33333333333333337, 0.0, 0.33333333333333337],\n",
              " [0.4, 0.0, 0.4],\n",
              " [0.0, 0.0, 0.0],\n",
              " [0.3333333333333333, 0.2, 0.3333333333333333],\n",
              " [0.5454545454545454, 0.22222222222222224, 0.5454545454545454],\n",
              " [0.5714285714285715, 0.4, 0.5714285714285715],\n",
              " [0.5, 0.0, 0.5],\n",
              " [0.6666666666666666, 0.5, 0.6666666666666666],\n",
              " [0.5, 0.0, 0.5],\n",
              " [0.5, 0.0, 0.5],\n",
              " [0.4, 0.0, 0.4],\n",
              " [0.3333333333333333, 0.0, 0.3333333333333333],\n",
              " [1.0, 0.0, 1.0],\n",
              " [0.8333333333333334, 0.8000000000000002, 0.8333333333333334],\n",
              " [0.5714285714285715, 0.4, 0.5714285714285715],\n",
              " [0.888888888888889, 0.8571428571428571, 0.888888888888889],\n",
              " [1.0, 0.0, 1.0],\n",
              " [0.5, 0.0, 0.5],\n",
              " [0.0, 0.0, 0.0],\n",
              " [0.36363636363636365, 0.2222222222222222, 0.36363636363636365],\n",
              " [0.5, 0.0, 0.5],\n",
              " [0.5, 0.0, 0.5],\n",
              " [0.8000000000000002, 0.75, 0.8000000000000002],\n",
              " [0.0, 0.0, 0.0],\n",
              " [0.5, 0.0, 0.5],\n",
              " [0.0, 0.0, 0.0],\n",
              " [0.8, 0.0, 0.8],\n",
              " [0.8571428571428571, 0.8, 0.8571428571428571],\n",
              " [0.0, 0.0, 0.0],\n",
              " [0.6666666666666666, 0.5, 0.6666666666666666],\n",
              " [0.0, 0.0, 0.0],\n",
              " [0.0, 0.0, 0.0],\n",
              " [1.0, 1.0, 1.0],\n",
              " [0.0, 0.0, 0.0],\n",
              " [0.5, 0.2857142857142857, 0.5],\n",
              " [0.7999999999999999, 0.7692307692307692, 0.7999999999999999],\n",
              " [0.5, 0.0, 0.5],\n",
              " [0.75, 0.6666666666666666, 0.75],\n",
              " [0.6666666666666665, 0.5714285714285715, 0.6666666666666665],\n",
              " [0.5, 0.0, 0.5],\n",
              " [0.6666666666666666, 0.5, 0.6666666666666666],\n",
              " [0.75, 0.6666666666666666, 0.75],\n",
              " [0.6666666666666666, 0.5, 0.6666666666666666],\n",
              " [0.5, 0.0, 0.5],\n",
              " [1.0, 1.0, 1.0],\n",
              " [0.0, 0.0, 0.0],\n",
              " [0.0, 0.0, 0.0],\n",
              " [0.6666666666666666, 0.5, 0.6666666666666666],\n",
              " [0.5714285714285715, 0.4, 0.5714285714285715],\n",
              " [0.8571428571428571, 0.8, 0.8571428571428571],\n",
              " [0.6666666666666666, 0.0, 0.6666666666666666],\n",
              " [0.6666666666666666, 0.0, 0.6666666666666666],\n",
              " [0.8750000000000001, 0.7142857142857143, 0.8750000000000001],\n",
              " [0.75, 0.3333333333333333, 0.75],\n",
              " [0.0, 0.0, 0.0],\n",
              " [0.4, 0.0, 0.4],\n",
              " [1.0, 0.0, 1.0],\n",
              " [0.25, 0.0, 0.25],\n",
              " [0.5, 0.0, 0.5],\n",
              " [0.8000000000000002, 0.75, 0.8000000000000002],\n",
              " [0.3333333333333333, 0.0, 0.3333333333333333],\n",
              " [0.5, 0.0, 0.5],\n",
              " [0.9142857142857143, 0.9090909090909091, 0.9142857142857143],\n",
              " [1.0, 0.0, 1.0],\n",
              " [0.8, 0.6666666666666666, 0.8],\n",
              " [0.75, 0.6666666666666666, 0.75],\n",
              " [0.0, 0.0, 0.0],\n",
              " [0.75, 0.6666666666666666, 0.75],\n",
              " [0.8, 0.0, 0.8],\n",
              " [0.888888888888889, 0.5714285714285715, 0.888888888888889],\n",
              " [0.0, 0.0, 0.0],\n",
              " [0.6666666666666666, 0.5, 0.6666666666666666],\n",
              " [0.6666666666666666, 0.5, 0.6666666666666666],\n",
              " [0.5, 0.0, 0.5],\n",
              " [0.5454545454545454, 0.22222222222222224, 0.5454545454545454],\n",
              " [0.75, 0.6666666666666666, 0.75],\n",
              " [0.4, 0.0, 0.4],\n",
              " [0.8, 0.6666666666666666, 0.8],\n",
              " [0.16666666666666669, 0.0, 0.16666666666666669],\n",
              " [0.0, 0.0, 0],\n",
              " [0.5, 0.0, 0.5],\n",
              " [0.5, 0.0, 0.5],\n",
              " [0.1904761904761905, 0.09999999999999999, 0.1904761904761905],\n",
              " [0.7142857142857143, 0.5, 0.7142857142857143],\n",
              " [0.0, 0.0, 0.0],\n",
              " [0.5, 0.0, 0.5],\n",
              " [0.0, 0.0, 0.0],\n",
              " [0.5, 0.0, 0.5],\n",
              " [0.6666666666666666, 0.0, 0.6666666666666666],\n",
              " [0.3, 0.1111111111111111, 0.3],\n",
              " [0.0, 0.0, 0.0],\n",
              " [0.9090909090909091, 0.6666666666666665, 0.9090909090909091],\n",
              " [0.8571428571428571, 0.4, 0.8571428571428571],\n",
              " [0.4, 0.0, 0.4],\n",
              " [0.6666666666666666, 0.5, 0.6666666666666666],\n",
              " [0.2857142857142857, 0.0, 0.2857142857142857],\n",
              " [0.5714285714285714, 0.3333333333333333, 0.5714285714285714],\n",
              " [1.0, 1.0, 1.0],\n",
              " [0.6666666666666666, 0.0, 0.6666666666666666],\n",
              " [0.5714285714285715, 0.0, 0.5714285714285715],\n",
              " [0.3333333333333333, 0.2, 0.3333333333333333],\n",
              " [1.0, 0.0, 1.0],\n",
              " [0.6666666666666666, 0.0, 0.6666666666666666],\n",
              " [0.5, 0.0, 0.5],\n",
              " [1.0, 1.0, 1.0],\n",
              " [0.6666666666666666, 0.5, 0.6666666666666666],\n",
              " [0.8571428571428571, 0.8, 0.8571428571428571],\n",
              " [0.4, 0.0, 0.4],\n",
              " [0.0, 0.0, 0.0],\n",
              " [0.6666666666666666, 0.0, 0.6666666666666666],\n",
              " [0.75, 0.6666666666666666, 0.75],\n",
              " [0.30769230769230765, 0.1818181818181818, 0.30769230769230765],\n",
              " [1.0, 1.0, 1.0],\n",
              " [0.33333333333333337, 0.0, 0.33333333333333337],\n",
              " [1.0, 0.0, 1.0],\n",
              " [0.875, 0.7142857142857143, 0.875],\n",
              " [0.0, 0.0, 0.0],\n",
              " [0.0, 0.0, 0.0],\n",
              " [1.0, 1.0, 1.0],\n",
              " [1.0, 1.0, 1.0],\n",
              " [0.8000000000000002, 0.75, 0.8000000000000002],\n",
              " [0.5, 0.0, 0.5],\n",
              " [0.9090909090909091, 0.9, 0.9090909090909091],\n",
              " [0.5714285714285715, 0.4, 0.5714285714285715],\n",
              " [0.4186046511627908, 0.29268292682926833, 0.37209302325581395],\n",
              " [0.6666666666666666, 0.5, 0.6666666666666666],\n",
              " [1.0, 0.0, 1.0],\n",
              " [0.9333333333333333, 0.7692307692307692, 0.9333333333333333],\n",
              " [1.0, 0.0, 1.0],\n",
              " [0.8333333333333334, 0.6, 0.8333333333333334],\n",
              " [0.75, 0.6666666666666666, 0.75],\n",
              " [1.0, 0.0, 1.0],\n",
              " [0.5, 0.0, 0.5],\n",
              " [0.0, 0.0, 0.0],\n",
              " [0.8571428571428571, 0.4, 0.8571428571428571],\n",
              " [0.3333333333333333, 0.0, 0.3333333333333333],\n",
              " [0.8, 0.6666666666666666, 0.8],\n",
              " [0.6666666666666666, 0.5, 0.6666666666666666],\n",
              " [1.0, 0.0, 1.0],\n",
              " [0.5, 0.3333333333333333, 0.5],\n",
              " [0.5714285714285715, 0.4, 0.5714285714285715],\n",
              " [1.0, 1.0, 1.0],\n",
              " [1.0, 1.0, 1.0],\n",
              " [1.0, 0.5, 1.0],\n",
              " [0.7499999999999999, 0.3333333333333333, 0.7499999999999999],\n",
              " [0.42857142857142855, 0.3846153846153846, 0.42857142857142855],\n",
              " [0.5, 0.0, 0.5],\n",
              " [0.0, 0.0, 0.0],\n",
              " [1.0, 0.8571428571428571, 1.0],\n",
              " [0.0, 0.0, 0.0],\n",
              " [1.0, 1.0, 1.0],\n",
              " [0.8000000000000002, 0.75, 0.8000000000000002],\n",
              " [0.75, 0.6666666666666666, 0.75],\n",
              " [0.5714285714285715, 0.4, 0.5714285714285715],\n",
              " [0.4, 0.0, 0.4],\n",
              " [0.8000000000000002, 0.75, 0.8000000000000002],\n",
              " [0.6666666666666666, 0.0, 0.6666666666666666],\n",
              " [0.5, 0.0, 0.5],\n",
              " [1.0, 0.5, 1.0],\n",
              " [1.0, 0.0, 1.0],\n",
              " [1.0, 1.0, 1.0],\n",
              " [0.0, 0.0, 0.0],\n",
              " [0.5714285714285715, 0.0, 0.5714285714285715],\n",
              " [0.0, 0.0, 0.0],\n",
              " [0.0, 0.0, 0.0],\n",
              " [0.5, 0.0, 0.5],\n",
              " [1.0, 1.0, 1.0],\n",
              " [0.9, 0.7777777777777778, 0.9],\n",
              " [0.6666666666666666, 0.0, 0.6666666666666666],\n",
              " [0.7272727272727273, 0.6666666666666666, 0.7272727272727273],\n",
              " [0.5714285714285715, 0.0, 0.5714285714285715],\n",
              " [0.0, 0.0, 0.0],\n",
              " [0.0, 0.0, 0.0],\n",
              " [0.5, 0.0, 0.5],\n",
              " [0.5, 0.0, 0.5],\n",
              " [0.6666666666666666, 0.0, 0.6666666666666666],\n",
              " [0.5, 0.0, 0.5],\n",
              " [0.9090909090909091, 0.6666666666666665, 0.9090909090909091],\n",
              " [0.0, 0.0, 0.0],\n",
              " [0.5714285714285715, 0.0, 0.5714285714285715],\n",
              " [0.5714285714285715, 0.4, 0.5714285714285715],\n",
              " [0.0, 0.0, 0.0],\n",
              " [0.6666666666666666, 0.0, 0.6666666666666666],\n",
              " [0.4, 0.0, 0.4],\n",
              " [0.4, 0.0, 0.2],\n",
              " [1.0, 0.0, 1.0],\n",
              " [0.5, 0.0, 0.5],\n",
              " [0.33333333333333337, 0.0, 0.33333333333333337],\n",
              " [1.0, 0.0, 1.0],\n",
              " [0.0, 0.0, 0.0],\n",
              " [0.75, 0.6666666666666666, 0.75],\n",
              " [0.5, 0.0, 0.5],\n",
              " [0.0, 0.0, 0.0],\n",
              " [0.7272727272727272, 0.6666666666666665, 0.7272727272727272],\n",
              " [0.5, 0.0, 0.5],\n",
              " [0.0, 0.0, 0.0],\n",
              " [0.0, 0.0, 0],\n",
              " [1.0, 1.0, 1.0],\n",
              " [0.0, 0.0, 0.0],\n",
              " [0.5, 0.0, 0.5],\n",
              " [0.0, 0.0, 0.0],\n",
              " [0.75, 0.6666666666666666, 0.75],\n",
              " [1.0, 1.0, 1.0],\n",
              " [0.5, 0.0, 0.5],\n",
              " [0.9411764705882353, 0.9333333333333333, 0.9411764705882353],\n",
              " [0.6, 0.0, 0.6],\n",
              " [0.25, 0.0, 0.25],\n",
              " [0.8, 0.0, 0.8],\n",
              " [0.8000000000000002, 0.75, 0.8000000000000002],\n",
              " [0.0, 0.0, 0.0],\n",
              " [0.5, 0.0, 0.5],\n",
              " [0.5, 0.0, 0.5],\n",
              " [1.0, 0.0, 1.0],\n",
              " [0.0, 0.0, 0.0],\n",
              " [1.0, 1.0, 1.0],\n",
              " [0.8333333333333334, 0.8000000000000002, 0.8333333333333334],\n",
              " [0.6666666666666666, 0.0, 0.6666666666666666],\n",
              " [0.4, 0.0, 0.4],\n",
              " [0.5, 0.0, 0.5],\n",
              " [0.6666666666666665, 0.5714285714285715, 0.6666666666666665],\n",
              " [0.28571428571428575, 0.0, 0.28571428571428575],\n",
              " [1.0, 0.0, 1.0],\n",
              " [0.0, 0.0, 0.0],\n",
              " [0.4, 0.0, 0.4],\n",
              " [0.75, 0.6666666666666666, 0.75],\n",
              " [1.0, 0.0, 1.0],\n",
              " [0.4, 0.0, 0.4],\n",
              " [0.6666666666666666, 0.5, 0.6666666666666666],\n",
              " [0.888888888888889, 0.5714285714285715, 0.888888888888889],\n",
              " [0.7142857142857143, 0.6666666666666666, 0.7142857142857143],\n",
              " [0.25, 0.0, 0.25],\n",
              " [0.5, 0.0, 0.5],\n",
              " [1.0, 0.0, 1.0],\n",
              " [0.4, 0.0, 0.4],\n",
              " [1.0, 1.0, 1.0],\n",
              " [1.0, 0.0, 1.0],\n",
              " [0.6666666666666666, 0.5, 0.6666666666666666],\n",
              " [1.0, 0.6666666666666666, 1.0],\n",
              " [0.7499999999999999, 0.3333333333333333, 0.7499999999999999],\n",
              " [1.0, 0.7142857142857143, 1.0],\n",
              " [1.0, 0.0, 1.0],\n",
              " [0.5, 0.0, 0.5],\n",
              " [0.75, 0.6666666666666666, 0.75],\n",
              " [0.4, 0.0, 0.4],\n",
              " [0.0, 0.0, 0.0],\n",
              " [1.0, 1.0, 1.0],\n",
              " [0.4444444444444445, 0.0, 0.4444444444444445],\n",
              " [0.4, 0.0, 0.4],\n",
              " [1.0, 1.0, 1.0],\n",
              " [0.9, 0.8888888888888888, 0.9],\n",
              " [0.0, 0.0, 0.0],\n",
              " [1.0, 0.0, 1.0],\n",
              " [0.5714285714285715, 0.0, 0.5714285714285715],\n",
              " [0.5, 0.0, 0.5],\n",
              " [1.0, 0.5, 1.0],\n",
              " [0.0, 0.0, 0.0],\n",
              " [0.25, 0.0, 0.25],\n",
              " [0.24390243902439027, 0.05128205128205128, 0.14634146341463414],\n",
              " [0.5, 0.3333333333333333, 0.5],\n",
              " [0.0, 0.0, 0.0],\n",
              " [0.3333333333333333, 0.0, 0.3333333333333333],\n",
              " [1.0, 0.0, 1.0],\n",
              " [1.0, 0.0, 1.0],\n",
              " [0.75, 0.6666666666666666, 0.75],\n",
              " [0.6, 0.3333333333333333, 0.6],\n",
              " [0.5, 0.0, 0.5],\n",
              " [1.0, 1.0, 1.0],\n",
              " [0.0, 0.0, 0.0],\n",
              " [0.0, 0.0, 0.0],\n",
              " [0.4, 0.0, 0.4],\n",
              " [0.8, 0.0, 0.8],\n",
              " [0.0, 0.0, 0.0],\n",
              " [0.5, 0.0, 0.5],\n",
              " [0.0, 0.0, 0.0],\n",
              " [0.0, 0.0, 0.0],\n",
              " [0.5294117647058825, 0.5, 0.5294117647058825],\n",
              " [0.8571428571428571, 0.8, 0.8571428571428571],\n",
              " [0.6666666666666666, 0.0, 0.6666666666666666],\n",
              " [0.5, 0.0, 0.5],\n",
              " [1.0, 1.0, 1.0],\n",
              " [0.5, 0.0, 0.5],\n",
              " [0.4, 0.0, 0.4],\n",
              " [0.4, 0.0, 0.4],\n",
              " [1.0, 1.0, 1.0],\n",
              " [0.3, 0.1111111111111111, 0.2],\n",
              " [0.4, 0.0, 0.4],\n",
              " [0.75, 0.6666666666666666, 0.75],\n",
              " [0.4, 0.0, 0.4],\n",
              " [0.6666666666666666, 0.5, 0.6666666666666666],\n",
              " [0.0, 0.0, 0.0],\n",
              " [0.4, 0.0, 0.4],\n",
              " [0.7272727272727273, 0.4444444444444444, 0.7272727272727273],\n",
              " [0.75, 0.6666666666666666, 0.75],\n",
              " [0.8571428571428571, 0.8333333333333334, 0.8571428571428571],\n",
              " [0.8000000000000002, 0.5, 0.8000000000000002],\n",
              " [0.8695652173913043, 0.8571428571428572, 0.8695652173913043],\n",
              " [0.6, 0.0, 0.6],\n",
              " [0.7272727272727272, 0.6666666666666665, 0.7272727272727272],\n",
              " [1.0, 0.0, 1.0],\n",
              " [0.8571428571428571, 0.4, 0.8571428571428571],\n",
              " [0.5, 0.0, 0.5],\n",
              " [0.0, 0.0, 0.0],\n",
              " [0.8000000000000002, 0.75, 0.8000000000000002],\n",
              " [0.6666666666666666, 0.0, 0.6666666666666666],\n",
              " [0.6666666666666666, 0.5, 0.6666666666666666],\n",
              " [0.0, 0.0, 0.0],\n",
              " [1.0, 0.0, 1.0],\n",
              " [1.0, 0.0, 1.0],\n",
              " [0.4, 0.0, 0.4],\n",
              " [1.0, 1.0, 1.0],\n",
              " [0.6666666666666666, 0.0, 0.6666666666666666],\n",
              " [0.0, 0.0, 0.0],\n",
              " [0.5, 0.0, 0.5],\n",
              " [0.5, 0.0, 0.5],\n",
              " [0.8571428571428571, 0.4, 0.8571428571428571],\n",
              " [0.5, 0.0, 0.5],\n",
              " [0.0, 0.0, 0.0],\n",
              " [0.0, 0.0, 0.0],\n",
              " [0.5, 0.0, 0.5],\n",
              " [0.5, 0.0, 0.5],\n",
              " [0.28571428571428575, 0.0, 0.28571428571428575],\n",
              " [0.5, 0.0, 0.5],\n",
              " [0.8000000000000002, 0.75, 0.8000000000000002],\n",
              " [1.0, 0.6666666666666666, 1.0],\n",
              " [0.5, 0.0, 0.5],\n",
              " [0.8, 0.6666666666666666, 0.8],\n",
              " [0.0, 0.0, 0.0],\n",
              " [0.8, 0.0, 0.8],\n",
              " [0.22222222222222224, 0.0, 0.22222222222222224],\n",
              " [1.0, 0.5, 1.0],\n",
              " [0.5454545454545454, 0.22222222222222224, 0.5454545454545454],\n",
              " [0.6666666666666666, 0.5, 0.6666666666666666],\n",
              " [1.0, 0.6666666666666666, 1.0],\n",
              " [0.5, 0.0, 0.5],\n",
              " [0.0, 0.0, 0.0],\n",
              " [0.25, 0.0, 0.25],\n",
              " [0.75, 0.6666666666666666, 0.75],\n",
              " [0.3333333333333333, 0.0, 0.3333333333333333],\n",
              " [0.6666666666666666, 0.0, 0.6666666666666666],\n",
              " [0.5, 0.0, 0.5],\n",
              " [0.5, 0.0, 0.5],\n",
              " [0.5714285714285715, 0.4, 0.5714285714285715],\n",
              " [1.0, 0.5, 1.0],\n",
              " [0.6666666666666666, 0.5, 0.6666666666666666],\n",
              " [0.6666666666666666, 0.5, 0.6666666666666666],\n",
              " [0.5, 0.0, 0.5],\n",
              " [0.0, 0.0, 0.0],\n",
              " [0.5, 0.0, 0.5],\n",
              " [1.0, 0.5, 1.0],\n",
              " [0.8571428571428571, 0.4, 0.8571428571428571],\n",
              " [0.4444444444444445, 0.28571428571428575, 0.4444444444444445],\n",
              " [0.4, 0.0, 0.4],\n",
              " [0.0, 0.0, 0.0],\n",
              " [0.75, 0.6666666666666666, 0.75],\n",
              " [0.4, 0.0, 0.4],\n",
              " [0.0, 0.0, 0.0],\n",
              " [0.5, 0.0, 0.5],\n",
              " [1.0, 0.0, 1.0],\n",
              " [0.0, 0.0, 0.0],\n",
              " [1.0, 0.6666666666666666, 1.0],\n",
              " [0.75, 0.6666666666666666, 0.75],\n",
              " [0.0, 0.0, 0.0],\n",
              " [1.0, 0.0, 1.0],\n",
              " [0.5, 0.0, 0.5],\n",
              " [0.75, 0.6666666666666666, 0.75],\n",
              " [0.0, 0.0, 0.0],\n",
              " [1.0, 0.6666666666666666, 1.0],\n",
              " [0.0, 0.0, 0.0],\n",
              " [0.3636363636363636, 0.0, 0.3636363636363636],\n",
              " [0.6, 0.5, 0.6],\n",
              " [1.0, 0.0, 1.0],\n",
              " [0.5, 0.0, 0.5],\n",
              " [1.0, 1.0, 1.0],\n",
              " [0.6666666666666666, 0.0, 0.6666666666666666],\n",
              " [0.0, 0.0, 0.0],\n",
              " [0.4, 0.25, 0.4],\n",
              " [0.25, 0.0, 0.25],\n",
              " [0.6666666666666666, 0.5, 0.6666666666666666],\n",
              " [0.5, 0.0, 0.5],\n",
              " [0.6666666666666666, 0.5, 0.6666666666666666],\n",
              " [0.5, 0.3333333333333333, 0.5],\n",
              " [0.8571428571428571, 0.8, 0.8571428571428571],\n",
              " [0.0, 0.0, 0.0],\n",
              " [1.0, 0.0, 1.0],\n",
              " [0.5, 0.0, 0.5],\n",
              " [0.8, 0.6666666666666666, 0.8],\n",
              " [0.5, 0.0, 0.5],\n",
              " [0.3333333333333333, 0.0, 0.3333333333333333],\n",
              " [0.0, 0.0, 0.0],\n",
              " [0.7826086956521738, 0.761904761904762, 0.7826086956521738],\n",
              " [0.8333333333333334, 0.6, 0.8333333333333334],\n",
              " [0.8571428571428571, 0.4, 0.8571428571428571],\n",
              " [0.4444444444444444, 0.28571428571428575, 0.4444444444444444],\n",
              " [0.15, 0.05263157894736842, 0.09999999999999999],\n",
              " [0.0, 0.0, 0.0],\n",
              " [0.5, 0.20000000000000004, 0.5],\n",
              " [0.3333333333333333, 0.0, 0.3333333333333333],\n",
              " [0.4, 0.0, 0.4],\n",
              " [0.5, 0.0, 0.5],\n",
              " [0.75, 0.6666666666666666, 0.75],\n",
              " [0.5, 0.0, 0.5],\n",
              " [0.0, 0.0, 0.0],\n",
              " [1.0, 1.0, 1.0],\n",
              " [0.6666666666666666, 0.0, 0.6666666666666666],\n",
              " [0.5, 0.0, 0.5],\n",
              " [0.6666666666666666, 0.5, 0.6666666666666666],\n",
              " [0.4, 0.0, 0.4],\n",
              " [0.6666666666666666, 0.5, 0.6666666666666666],\n",
              " [1.0, 1.0, 1.0],\n",
              " [0.5, 0.0, 0.5],\n",
              " [0.0, 0.0, 0.0],\n",
              " [0.4, 0.0, 0.4],\n",
              " [0.36363636363636365, 0.22222222222222224, 0.36363636363636365],\n",
              " [0.75, 0.6666666666666666, 0.75],\n",
              " [1.0, 0.0, 1.0],\n",
              " [1.0, 1.0, 1.0],\n",
              " [0.75, 0.6666666666666666, 0.75],\n",
              " [0.9090909090909091, 0.6666666666666665, 0.9090909090909091],\n",
              " [0.5, 0.0, 0.5],\n",
              " [0.5454545454545454, 0.4444444444444444, 0.5454545454545454],\n",
              " [0.5, 0.3333333333333333, 0.5],\n",
              " [0.5, 0.0, 0.5],\n",
              " [0.33333333333333337, 0.0, 0.33333333333333337],\n",
              " [1.0, 1.0, 1.0],\n",
              " [0.4, 0.0, 0.4],\n",
              " [0.0, 0.0, 0.0],\n",
              " [0.25, 0.0, 0.25],\n",
              " [0.5, 0.0, 0.5],\n",
              " [0.9090909090909091, 0.6666666666666665, 0.9090909090909091],\n",
              " [0.5, 0.0, 0.5],\n",
              " [0.875, 0.8571428571428571, 0.875],\n",
              " [0.5, 0.0, 0.5],\n",
              " [1.0, 0.0, 1.0],\n",
              " [0.75, 0.6666666666666666, 0.75],\n",
              " [0.6666666666666666, 0.0, 0.6666666666666666],\n",
              " [0.7272727272727273, 0.6666666666666666, 0.7272727272727273],\n",
              " [0.6666666666666666, 0.5, 0.6666666666666666],\n",
              " [0.28571428571428575, 0.0, 0.28571428571428575],\n",
              " [0.0, 0.0, 0.0],\n",
              " [0.28571428571428575, 0.0, 0.28571428571428575],\n",
              " [0.5, 0.0, 0.5],\n",
              " [0.5, 0.0, 0.5],\n",
              " [0.6153846153846153, 0.36363636363636365, 0.6153846153846153],\n",
              " [0.5, 0.0, 0.5],\n",
              " [0.0, 0.0, 0.0],\n",
              " [0.5, 0.0, 0.5],\n",
              " [0.6666666666666665, 0.5714285714285715, 0.6666666666666665],\n",
              " [0.5, 0.0, 0.5],\n",
              " [0.5, 0.0, 0.5],\n",
              " [0.5714285714285715, 0.4, 0.5714285714285715],\n",
              " [0.0, 0.0, 0.0],\n",
              " [0.6666666666666666, 0.5, 0.6666666666666666],\n",
              " [0.5, 0.0, 0.5],\n",
              " [0.5, 0.0, 0.5],\n",
              " [0.0, 0.0, 0.0],\n",
              " [0.0, 0.0, 0.0],\n",
              " [0.8, 0.0, 0.8],\n",
              " [0.888888888888889, 0.5714285714285715, 0.888888888888889],\n",
              " [0.25, 0.0, 0.25],\n",
              " [1.0, 1.0, 1.0],\n",
              " [0.0, 0.0, 0.0],\n",
              " [1.0, 1.0, 1.0],\n",
              " [0.75, 0.6666666666666666, 0.75],\n",
              " [0.5, 0.0, 0.5],\n",
              " [0.4, 0.0, 0.4],\n",
              " [0.6666666666666665, 0.5714285714285715, 0.6666666666666665],\n",
              " [0.5, 0.0, 0.5],\n",
              " [0.5, 0.0, 0.5],\n",
              " [1.0, 1.0, 1.0],\n",
              " [0.6666666666666666, 0.5, 0.6666666666666666],\n",
              " [0.8000000000000002, 0.75, 0.8000000000000002],\n",
              " [0.5, 0.3333333333333333, 0.5],\n",
              " [0.6666666666666666, 0.5, 0.6666666666666666],\n",
              " [0.5, 0.0, 0.5],\n",
              " [0.5454545454545454, 0.2222222222222222, 0.5454545454545454],\n",
              " [1.0, 1.0, 1.0],\n",
              " [1.0, 1.0, 1.0],\n",
              " [0.5, 0.3333333333333333, 0.5],\n",
              " [0.6666666666666666, 0.5, 0.6666666666666666],\n",
              " [0.5, 0.0, 0.5],\n",
              " [0.75, 0.6666666666666666, 0.75],\n",
              " [1.0, 0.0, 1.0],\n",
              " [0.8000000000000002, 0.75, 0.8000000000000002],\n",
              " [0.8333333333333334, 0.8000000000000002, 0.8333333333333334],\n",
              " [0.4, 0.0, 0.4],\n",
              " [0.5, 0.3333333333333333, 0.5],\n",
              " [0.75, 0.6666666666666666, 0.75],\n",
              " [0.75, 0.6666666666666666, 0.75],\n",
              " [0.0, 0.0, 0.0],\n",
              " [0.0, 0.0, 0.0],\n",
              " [0.5454545454545454, 0.22222222222222224, 0.5454545454545454],\n",
              " [0.5, 0.0, 0.5],\n",
              " [0.0, 0.0, 0.0],\n",
              " [0.75, 0.6666666666666666, 0.75],\n",
              " [0.6666666666666666, 0.0, 0.6666666666666666],\n",
              " [1.0, 0.0, 1.0],\n",
              " [0.5, 0.3333333333333333, 0.5],\n",
              " [0.0, 0.0, 0.0],\n",
              " [0.8333333333333333, 0.8, 0.8333333333333333],\n",
              " [0.3333333333333333, 0.0, 0.3333333333333333],\n",
              " [0.875, 0.7142857142857143, 0.875],\n",
              " [1.0, 0.0, 1.0],\n",
              " [0.5, 0.0, 0.5],\n",
              " [1.0, 0.0, 1.0],\n",
              " [1.0, 0.0, 1.0],\n",
              " [0.0, 0.0, 0.0],\n",
              " [0.0, 0.0, 0.0],\n",
              " [0.5, 0.0, 0.5],\n",
              " [0.8333333333333334, 0.6, 0.8333333333333334],\n",
              " [0.0, 0.0, 0.0],\n",
              " [0.7999999999999999, 0.7692307692307692, 0.7999999999999999],\n",
              " [1.0, 1.0, 1.0],\n",
              " [0.5, 0.0, 0.5],\n",
              " [0.8000000000000002, 0.75, 0.8000000000000002],\n",
              " [0.6666666666666666, 0.5, 0.6666666666666666],\n",
              " [0.0, 0.0, 0.0],\n",
              " [0.4, 0.0, 0.4],\n",
              " [0.5, 0.0, 0.5],\n",
              " [0.5, 0.0, 0.5],\n",
              " [0.6666666666666666, 0.5, 0.6666666666666666],\n",
              " [0.5, 0.3333333333333333, 0.5],\n",
              " [0.0, 0.0, 0.0],\n",
              " [0.7368421052631579, 0.588235294117647, 0.7368421052631579],\n",
              " '① 여행사는 최저행사인원이 충족되지 아니하여 여행계약을 해제하는 경우 당일여행의 경우 여행출발 72시간 이전까지, 1박2일 이상인 경우에는 여행출발 72시간 이전까지 여행자에게 통지하여야 합니다.',\n",
              " '제9조(최저행사인원 미 충족시 계약해제)',\n",
              " [0.8000000000000002, 0.75, 0.8000000000000002],\n",
              " '① 여행사는 최저행사인원이 충족되지 아니하여 여행계약을 해제하는 경우 당일여행의 경우 여행출발 72시간 이전까지, 1박2일 이상인 경우에는 여행출발 72시간 이전까지 여행자에게 통지하여야 합니다.',\n",
              " '제9조(최저행사인원 미 충족시 계약해제)',\n",
              " [0.8000000000000002, 0.75, 0.8000000000000002],\n",
              " '① 여행사는 최저행사인원이 충족되지 아니하여 여행계약을 해제하는 경우 당일여행의 경우 여행출발 72시간 이전까지, 1박2일 이상인 경우에는 여행출발 72시간 이전까지 여행자에게 통지하여야 합니다.',\n",
              " '제9조(최저행사인원 미 충족시 계약해제)',\n",
              " [0.8000000000000002, 0.75, 0.8000000000000002],\n",
              " '제16조(사기에 의한 계약) 계약자 또는 피보험자가 대리진단, 약물사용을 수단으로 진단절차를 통과하거나 진단서 위,변조 또는 청약일 이전에 암 또는 인간면역결핍바이러스(HIV) 감염의 진단 확정을 받은 후 이를 숨기고 가입하는 등 사기에 의하여 계약이 성립되었음을 회사가 증명하는 경우에는 계약일부터 5년 2개월 이내(사기사실을 안 날부터 1개월 이내)에 계약을 취소할 수 있습니다.',\n",
              " [0.8000000000000002, 0.75, 0.8000000000000002],\n",
              " '1 여객의 사정에 의하여 계약서에 기재된 사항대로 이행이 불가능한 때에는 출발시간 1일 전까지 사업자에게 변경을 요청하여 쌍방이 합의된 경우에 한하여 운송책임을 진다.',\n",
              " '제72조 (여객에 의한 계약변경)',\n",
              " [0.4, 0.0, 0.4],\n",
              " '② 운송물의 일부 멸실, 훼손 또는 연착에 대한 회사의 손해배상책임은 고객(수화인)이 운송물을 수령한 날로부터 24개월이 경과하면 소멸합니다. 다만, 운송물이 전부 멸실된 경우에는 그 인도예정일로부터 기산합니다.',\n",
              " '③ 제1항과 제2항의 규정은 회사 또는 그 운송 위탁을 받은 자, 기타 운송을 위하여 관여된 자가 이 운송물의 일부 멸실 또는 훼손의 사실을 알면서 이를 숨기고 운송물을 인도한 경우에는 적용되지 아니합니다. 이 경우에는 회사의 손해배상책임은 고객(수화인)이 운송물을 수령한 날로부터 5년간 존속합니다.',\n",
              " '① 운송물의 일부 멸실 또는 훼손에 대한 회사의 손해배상책임은 고객(수화인)이 운송물을 수령한 날로부터 14일 이내에 그 일부 멸실 또는 훼손에 대한 사실을 고객(송화인)이 회사에게 통지를 발송하지 아니하면 소멸합니다.',\n",
              " '제21조(책임의 특별소멸 사유와 시효)',\n",
              " [0.8333333333333334, 0.6, 0.8333333333333334],\n",
              " '③ 갑은 본 계약이 해지 되거나 종료된 경우 을의 등록상표 및 로고, 서비스 업무 문구를 갑의 온라인쇼핑몰에서 즉시삭제하여야 한다.',\n",
              " '제15조 (등록상표의 사용)',\n",
              " '② 갑은 이용자에게 본 계약에 따라 구매대금은 을의 가맹점명인 000으로 청구된다는 사실을 구두 또는 서면으로 공지하여야 한다.',\n",
              " [0.4, 0.0, 0.4],\n",
              " '4. 그 밖의 전자지급수단으로 지급하는 경우, 거래지시 된 금액의 정보가 수취인의 계좌가 개설되어 있는 금융기관의 전자적 장치에 입력이 끝난 때',\n",
              " '제14조(전자지급거래의 효력발생시기 등)',\n",
              " [1.0, 0.0, 1.0],\n",
              " '1. 피보험자가 피해자에게 지급할 책임을 지는 법률상의 손해배상금',\n",
              " '제 3 조(보상하는 손해) 회사는 피보험자가 보험증권상의 보장지역 내에서 보험기간 중에 발생한 특별약관에 기재된 보험사고(이하  사고 라 합니다)로 인하여 타인의 신체에 장해(이하  신체장해 라 합니다)를 입히거나 타인의 재물을 망그러뜨려(이하  재물손해 라 합니다) 법률적인 배상책임을 부담함으로써 입은 아래의 손해를 보상하여 드립니다.',\n",
              " '2. 계약자 또는 피보험자가 지출한 아래의 비용',\n",
              " [0.8, 0.0, 0.8],\n",
              " '① 정보주체는 협회에 대해 언제든지 다음 각 호의 개인정보 보호 관련 권리를 행사할 수 있습니다.',\n",
              " '제5조(정보주체의 권리․의무 및 행사방법)',\n",
              " [1.0, 0.0, 1.0],\n",
              " '제24조(청약의 철회) 가입자는  금융소비자 보호에 관한 법률 제46조 및 관련 규정이 정하는 바에 따라 청약철회가 가능한 수익증권에 한하여 계약서류를 제공받은 날(계약서류를 제공받지 아니한 경우에는 계약체결일)로부터 21일 이내 청약을 철회할 수 있다.',\n",
              " [0.6666666666666666, 0.5, 0.6666666666666666],\n",
              " '1. 본 계약에 관한 소송의 관할 법원은 (서울) 지방법원으로 한다.',\n",
              " [0.0, 0.0, 0.0],\n",
              " '제6조 (계약의 해제)계약의 해지시 예약금의 환불은 불가합니다. 또한 고객의 사정에 의해 취소할 경우 예식일로부터 60일이 남지 않은 시점에는 다음과 같이 위약금이 적용됩니다.(위약금 적용기준)식비용 전액완불 및 예약시 인원대비 매출액의 예식 30일전 예상금액의 30퍼센트 적용 예식 15일전  예상금액의 50퍼센트 적용예식 1일전  예상금액의 70퍼센트 적용',\n",
              " [0.875, 0.8571428571428571, 0.875],\n",
              " '① 회사가 제공하는 상조서비스는 계약 시에 예정된 지역에서 제공함을 원칙으로 하며, 회사의 사정으로 서비스 제공지역을 변경하고자 하는 경우에는 적용일을 명시하여 변경지역과 그 적용일로부터 75일 전에 해당지역 회원에게 통지하여야 한다.',\n",
              " '제12조 상조서비스의 제공지역',\n",
              " [1.0, 0.0, 1.0],\n",
              " '2. 유료서비스 이용을 신청한 회원은 게임서비스 이용요금을 신청 후 회사에서 제공하는 방법으로 지급하여야 합니다. 단, 무통장입금의 방식으로 신청한 회원은 신청 완료 후 5일 이내에 해당 금액을 입금하여야 하며, 5일 이내에 입금하지 않을시에는 그 신청을 철회한 것으로 봅니다.',\n",
              " '1. 유료서비스 이용을 신청한 회원은 게임서비스 이용요금을 성실히 납부하여야 합니다.',\n",
              " [0.75, 0.6666666666666666, 0.75],\n",
              " '제7조 제3항과 제4항 각 호에 의하여 기한이익이 상실되는 경우, 은행은 기한의 이익이 상실된 날로부터 10영업일 이내에 연대보증인에게 서면으로 그 내용을 통지하여야 합니다.',\n",
              " [0.888888888888889, 0.8571428571428571, 0.888888888888889],\n",
              " '1. 가맹계약 기간 중 가맹본부와 동일한 업종을 영위하여서는 아니되며, 갑의 경쟁 가맹사업자의 점포를 개설하여서는 아니된다.',\n",
              " [0.0, 0.0, 0.0],\n",
              " '② 운송물의 일부 멸실, 훼손 또는 연착에 대한 사업자의 손해배상책임은 고객(수화인)이 운송물을 수령한 날로부터 18개월이 경과하면 소멸합니다. 다만, 운송물이 전부 멸실된 경우에는 그 인도예정일로부터 기산합니다.',\n",
              " '③ 제1항과 제2항의 규정은 사업자 또는 그 운송 위탁을 받은 자, 기타 운송을 위하여 관여된 자가 이 운송물의 일부 멸실 또는 훼손의 사실을 알면서 이를 숨기고 운송물을 인도한 경우에는 적용되지 아니합니다. 이 경우에는 사업자의 손해배상책임은 고객(수화인)이 운송물을 수령한 날로부터 6년간 존속합니다.',\n",
              " '① 운송물의 일부 멸실 또는 훼손에 대한 사업자의 손해배상책임은 고객(수화인)이 운송물을 수령한 날로부터 15일 이내에 그 일부 멸실 또는 훼손에 대한 사실을 고객(송화인)이 사업자에게 통지를 발송하지 아니하면 소멸합니다.',\n",
              " [0.9090909090909091, 0.6666666666666665, 0.9090909090909091],\n",
              " '제15조(약관 교부 및 설명의무 등)',\n",
              " '1 회사는 계약자가 청약할 때에 계약자에게 약관의 중요한 내용을 설명하여야 하며, 청약 후에 다음 각 호의 방법 중 계약자가 원하는 방법을 확인하여 지체 없이 약관 및 계약자 보관용 청약서를 제공하여 드립니다. 만약, 회사가 전자우편 및 전자적 의사표시로 제공한 경우 계약자 또는 그 대리인이 약관 및 계약자 보관용 청약서 등을 수신하였을 때에는 해당 문서를 드린 것으로 봅니다.',\n",
              " [0.0, 0.0, 0.0],\n",
              " '① 채무자는 채무자의 기한도래한 예금 기타의 채권과 은행에 대한 채무와를, 그 채무의 기한도래 여부에 불구하고, 서면통지에 의하여 상계할 수 있습니다. 이 경우, 상계한 예금 기타 채권의 증서, 통장은, 채무자가 그 거래용으로 신고한 도장을 찍거나 서명을 하여, 지체없이 은행에 제출하여야 합니다.',\n",
              " '제11조(채무자로부터의 상계)',\n",
              " [1.0, 0.0, 1.0],\n",
              " '② 운송물의 일부 멸실, 훼손 또는 연착에 대한 택배사의 손해배상책임은 고객(수화인)이 운송물을 수령한 날로부터 1년이 경과하면 소멸합니다. 다만, 운송물이 전부 멸실된 경우에는 그 인도예정일로부터 기산합니다.',\n",
              " '③ 제1항과 제2항의 규정은 택배사 또는 그 운송 위탁을 받은 자, 기타 운송을 위하여 관여된 자가 이 운송물의 일부 멸실 또는 훼손의 사실을 알면서 이를 숨기고 운송물을 인도한 경우에는 적용되지 아니합니다. 이 경우에는 택배사의 손해배상책임은 고객(수화인)이 운송물을 수령한 날로부터 7년간 존속합니다.',\n",
              " '① 운송물의 일부 멸실 또는 훼손에 대한 택배사의 손해배상책임은 고객(수화인)이 운송물을 수령한 날로부터 15일 이내에 그 일부 멸실 또는 훼손에 대한 사실을 고객(송화인)이 택배사에게 통지를 발송하지 아니하면 소멸합니다.',\n",
              " '제26조 (책임의 특별소멸 사유와 시효)',\n",
              " [0.8333333333333334, 0.6, 0.8333333333333334],\n",
              " '제 18 조 (배송기한)갑은 거래승인 건에 대하여 입금 후 취소되는 경우와 현금이 아닌 수표로 입금되는 경우를 고려하여 거래승인일로부터 2일 이상 경과 후 해당 거래내용의 결제상의 정상여부를 확인하여야 하며, 정상적으로 결제된 거래에 한하여 확인일로부터 2일 이내에 구매자에 상품이 인도될 수 있도록 배송의 책임을 지며, 배송 완료 즉시 을에게 데이터로 전송하여야 한다.',\n",
              " [0.6666666666666666, 0.5, 0.6666666666666666],\n",
              " '⑤ 회원은 회사가 주최하는 각종 행사에 무료 또는 할인 혜택을 받아 참가할 수 있다.',\n",
              " '제7조 (회원의 권리)',\n",
              " [1.0, 0.0, 1.0],\n",
              " '② 회사는 제1항에 따른 전자금융거래계약을 체결함에 있어 고객에게 약관의 내용을 분명하게 밝혀야 하며, 고객의 요청이 있는 경우 다음 각 호의 어느 하나에 해당하는 방법으로 고객에게 약관을 내주어야 하여야 한다.',\n",
              " '제16조(전자금융거래계약의 체결 및 해지)',\n",
              " [0.5, 0.0, 0.5],\n",
              " '1. 물가 기타 경제적 여건의 변동이 있을 때',\n",
              " '제5조(임대조건 등의 변경) 갑과 을은 다음 각호의 1에 해당할 경우에는 임대보증금, 임대료, 관리비 또는 사용료 및 제납입금을 조정할 수 있다.  다만, 임대보증금과 임대료의 조정은 임대주택법 및 주택임대차보호법에서 정하는 바를 위배하여서는 아니된다.',\n",
              " [0.6666666666666666, 0.5, 0.6666666666666666],\n",
              " '제9조(보험금의 지급) 1 피보험자가 보험금을 청구할 때에는 다음의 서류를 회사에 제출하  여야 합니다.',\n",
              " '4 회사는 제6조(보험금의 청구)에서 정한 서류를 접수한 때에는 접수증을 교부하고, 그 서류를 접수받은 후 지체없이 지급할 보험금을 결정하고 지급할 보험금이 결정되면 3일 이내에 이를 지급하여 드립니다. 또한, 지급할 보험금이 결정되기 전이라도 피보험자의 청구가 있을 때에는 회사가 추정한 보험금의 90퍼센트 상당액을 가지급보험금으로 지급합니다.',\n",
              " [0.6, 0.5, 0.6],\n",
              " '제16조(고객정보에 대한 비밀보장) 회사는 관계법령에서 정한 경우를 제외하고는 전자금융거래를 수행함에 있어 알게 된 다음 각 호의 어느 하나에 해당하는 고객정보를 고객의 동의를 얻지 아니하고 타인에게 제공하거나 업무상 목적 외에 사용하지 아니한다.',\n",
              " [0.0, 0.0, 0.0],\n",
              " '① 회사는 약관을 변경하고자 하는 경우 회사의 영업점과 인터넷 홈페이지, 온라인 거래를 위한 컴퓨터 화면, 그 밖에 이와 유사한 전자통신매체에 변경내용을 변경되는 약관의 시행일 5일전에 비치 또는 게시한다.',\n",
              " '제19조(약관의 변경 등)',\n",
              " [0.5, 0.0, 0.5],\n",
              " '② 운송물의 일부 멸실, 훼손 또는 연착에 대한 사업자의 손해배상책임은 고객(수화인)이 운송물을 수령한 날로부터 24개월이 경과하면 소멸합니다. 다만, 운송물이 전부 멸실된 경우에는 그 인도예정일로부터 기산합니다.',\n",
              " '③ 제1항과 제2항의 규정은 사업자 또는 그 운송 위탁을 받은 자, 기타 운송을 위하여 관여된 자가 이 운송물의 일부 멸실 또는 훼손의 사실을 알면서 이를 숨기고 운송물을 인도한 경우에는 적용되지 아니합니다. 이 경우에는 사업자의 손해배상책임은 고객(수화인)이 운송물을 수령한 날로부터 6년간 존속합니다.',\n",
              " '① 운송물의 일부 멸실 또는 훼손에 대한 사업자의 손해배상책임은 고객(수화인)이 운송물을 수령한 날로부터 14일 이내에 그 일부 멸실 또는 훼손에 대한 사실을 고객(송화인)이 사업자에게 통지를 발송하지 아니하면 소멸합니다.',\n",
              " '제23조 (책임의 특별소멸 사유와 시효)',\n",
              " [0.8333333333333334, 0.6, 0.8333333333333334],\n",
              " '① 계약자는 보험증권을 받은 날부터 18일 이내에 그 청약을 철회할 수 있습니다. 다만, 의무보험의 경우에는 철회의사를 표시한 시점에 동종의 다른 의무보험에 가입된 경우에만 철회할 수 있으며, 보험기간이 80일 이내인 계약 또는 전문금융소비자가 체결한 계약은 청약을 철회할 수 없습니다.',\n",
              " '제18조(청약의 철회)',\n",
              " [0.6666666666666666, 0.5, 0.6666666666666666],\n",
              " '제3조(해약 및 불이익보상) 갑 은 다음의 경우 최고등 다른 법적절차 없이  갑 의 임의대로 해약할 수 있으며 이 경우 계약금은  갑 에게 귀속 된다.',\n",
              " [0.6666666666666666, 0.0, 0.6666666666666666],\n",
              " '제16조(손해배상)가맹점이 해지된 을이 갑의 상표권을 무단으로 사용할 시에는 1일당 30만원씩 손해배상 해야 한다. 또한 갑은 을에게 형사고발 및 민사소송을 통한 손해배상을 청구할 수 있다.',\n",
              " [0.6666666666666666, 0.5, 0.6666666666666666],\n",
              " '제14조(기타사항) 고객과 웨딩업체 간의 거래에 대한 책임은 양자 간에 있으며, 당사는 컨설팅사로서 중재 및 고객의 입장에서 최선을 다합니다.',\n",
              " '제3장  투자신탁재산의 운용',\n",
              " [0.6666666666666666, 0.0, 0.6666666666666666],\n",
              " '① 을이 아래 각호에 해당하는 행위를 하였을 경우에는 갑은 이 계약을 해제 또는 해지하거나 임대차계약의 갱신을 거절할 수 있다.',\n",
              " '제6조 (임대차계약의 해제 및 해지)',\n",
              " [0.0, 0.0, 0.0],\n",
              " '2. 최초의 대출과 분할대출이 이 보증서발급일로부터 30일이내에 실행될 것.',\n",
              " '제4조 (보증책임의 부담)보증조건에 부합하는 운전자금대출이 분할되어 실행되는 경우에는 제1항에 불구하고 다음 각 호의 요건을 모두 충족하는 때에 한하여 분할대출도 최초의 대출과 합하여 보증책임을 부담합니다.',\n",
              " [0.8571428571428571, 0.4, 0.8571428571428571],\n",
              " '제14조(서비스의 제한) ㅇ다음 사항 중 어느 하나에 해당할 경우 상호저축은행은 해당 이용자에 대한 서비스의 일부 또는 전부를 제한할 수 있다.',\n",
              " '1. 이용자가 3회 이상 연속하여 잘못된 접근수단을 제시하거나 입력한 경우. 단, 간편비밀번호,PIN,생체인증,패턴의 경우 5회이상 연속하여 잘못 입력한 경우 개정 2018.4.30.',\n",
              " [0.3076923076923077, 0.0, 0.3076923076923077],\n",
              " '제6조 (계약의 해제)사용자는 계약한 시간으로부터 24시간 이내에 계약을 해약 또는 연기할 수 있습니다.  24시간 경과 후의 해약, 연기의 경우는 계약금을 반환하지 않습니다.',\n",
              " [0.8571428571428571, 0.4, 0.8571428571428571],\n",
              " '① 사업자는 모자보건법이 정하는 인력과 시설을 갖추고, 화재 및 안전사고 등 예방을 위해 관계법령이 정하는 기준에 적합하게 시설을 설치․운영해야 합니다.',\n",
              " '제17조(사업자의 의무)',\n",
              " [0.0, 0.0, 0.0],\n",
              " '1 계좌이체 및 추심이체의 경우에는 이용자가 입력한 거래지시의 내용을 상호저축은행이 확인하고 출금자금(수수료를 포함한다. 이하 같다.)을 출금계좌원장에 출금기록한 때',\n",
              " '제11조(거래의 성립) 이용자가 전자금융거래를 하고자 하는 경우에는 다음 각호의 시기에 거래가 성립합니다. (개정 2018.4.30.)',\n",
              " [0.6153846153846154, 0.5454545454545454, 0.6153846153846154],\n",
              " '제 11 조 (공유물 및 부대시설 공동사용)동일 아파트단지내에  갑 이 추가로 아파트를 건설, 분양하게 될 경우   을 은 새로운 아파트에  대하여 보일러실, 전기배전실 등을  공동으로 이용하는데 조건없이 동의하여야 한다.',\n",
              " [0.0, 0.0, 0.0],\n",
              " '② 회사는 해지요구를 받은 날부터 9일 이내에 수락여부를 계약자에 통지하여야 하며, 거절할 때에는 거절 사유를 함께 통지하여야 합니다.',\n",
              " '제28조의2 (위법계약의 해지)',\n",
              " [0.6666666666666666, 0.0, 0.6666666666666666],\n",
              " '제1항 본 가맹 계약은 갑과 을 간에 합의, 체결된 어떠한 계약 또는 합의보다 우선적으로 적용한다.',\n",
              " [0.5, 0.0, 0.5],\n",
              " '제8조(대지지분 및 분양면적의 증감)갑은 시공, 분양 및 상가활성화의 목적상 필요에 의하여 을의 사전동의 없이 증축, 감축 및 동선의 변경을 할 수 있으며, 이때 공유면적 및 대지지분이 증감이 있거나 전용면적의 증감이 5퍼센트의 범위 내에 있을 때에는 분양가격에는 그 어떠한 영향도 미치지 않는다.',\n",
              " [0.5, 0.0, 0.5],\n",
              " '① 회사가 제1항에 따라 제공될 약관 및 계약자 보관용 청약서를 청약할 때 계약자에게 전달하지 않거나 약관의 중요한 내용을 설명하지 않은 때 또는 계약을 체결할 때 계약자가 청약서에 자필서명을 하지 않은 때에는 계약자는 계약이 성립한 날부터 4개월 이내에 계약을 취소할 수 있습니다.',\n",
              " '제5조(약관 교부 및 설명의무 등)',\n",
              " [0.6666666666666666, 0.5, 0.6666666666666666],\n",
              " '제2조(보험금 지급에 관한 세부규정)',\n",
              " '① 제1조(보험금의 지급사유)에서 장해지급률이 상해 발생일부터 180일 이내에 확정되지 않는 경우에는 상해  발생일부터 180일이 되는 날의 의사 진단에 기초하여 고정될 것으로 인정되  는 상태를 장해지급률로 결정합니다. 다만, 장해분류표((별표1)참조)에 장해판정시기를 별도로 정한 경우에는 그에 따릅니다.',\n",
              " [0.4000000000000001, 0.0, 0.4000000000000001],\n",
              " '② 제1항의 경우 이용자가 의료기관이 발급한 진단서, 진료비 영수증 등 객관적 자료를 사업자에게 제시하면 사업자는 이용자가 지출한 진료비 등의 손해를 배상하여야 합니다. 단, 사업자가 고의 또는 과실이 없음을 입증한 경우에는 배상하지 않습니다.',\n",
              " '제12조 (손해배상)',\n",
              " [1.0, 0.0, 1.0],\n",
              " '제22조(렌터카의 반환시기 등) 고객은 약정한 대여기간 종료시점 또는 대여계약 중도해지시 3일 후에 렌터카를 회사에 반환하여야 합니다.',\n",
              " [0.5, 0.0, 0.5],\n",
              " '제5조(가맹점 운영권의 사용한계)을 권리를 행사함에 있어 다음의 행위를 하여서는 아니 되며, 갑의 사전동의 없이 아래의 행위시, 갑은 관련법률(가맹사업거래의 공정화에 관한 법률 및 동법 시행령 등 가맹사업관련 법률로서 이하 일함)에 의거 본 계약을 해제 할 수 있다. 이 경우 을은 일체의 이의를 제기할 수 없다.',\n",
              " [0.6666666666666666, 0.0, 0.6666666666666666],\n",
              " '제19조 (이용계약의 변경 및 조정) (3) 이용자가 입실 예정일에 입실하지 못할 경우에는 15일전까지 연락하여 기간을 변경할 수 있다.',\n",
              " [0.4, 0.0, 0.4],\n",
              " '제8조 (계약의 해제)  본 계약 내용을 영업주가 위반할 시는 계약금을 배상하고 혼주측이 위반할 시는 계약금을 반환하지 아니한다.',\n",
              " [0.6666666666666666, 0.0, 0.6666666666666666],\n",
              " '① 갑은 보수계산기간중 위탁판매보수를 매일 위탁자산계정원장에 계상하고 다음 각호의 1의 사실이 발생하는 날로부터 5일이내에 을이 지정하는 은행계좌에 입금처리한다.',\n",
              " '제 19 조(수수료) 위탁판매 수수료와 관련하여 다음 방법중 하나를 선택할 수 있다.',\n",
              " [0.5714285714285715, 0.4, 0.5714285714285715],\n",
              " '② 운송물의 일부 멸실, 훼손 또는 연착에 대한 회사의 손해배상책임은 고객(수화인)이 운송물을 수령한 날로부터 18개월이 경과하면 소멸합니다. 다만, 운송물이 전부 멸실된 경우에는 그 인도예정일로부터 기산합니다.',\n",
              " '③ 제1항과 제2항의 규정은 회사 또는 그 운송 위탁을 받은 자, 기타 운송을 위하여 관여된 자가 이 운송물의 일부 멸실 또는 훼손의 사실을 알면서 이를 숨기고 운송물을 인도한 경우에는 적용되지 아니합니다. 이 경우에는 회사의 손해배상책임은 고객(수화인)이 운송물을 수령한 날로부터 6년간 존속합니다.',\n",
              " '① 운송물의 일부 멸실 또는 훼손에 대한 회사의 손해배상책임은 고객(수화인)이 운송물을 수령한 날로부터 14일 이내에 그 일부 멸실 또는 훼손에 대한 사실을 고객(송화인)이 회사에게 통지를 발송하지 아니하면 소멸합니다.',\n",
              " [0.9090909090909091, 0.6666666666666665, 0.9090909090909091],\n",
              " '① 위탁판매보수의 계산기간(이하 보수계산기간이라 한다)은 갑이 법에 의해 금감위에 증권투자회사로 등록후 일반공모에 의한 자금이 자산보관회사의 계좌로 납입된 날로부터 ( )개월 단위로 한다. 다만, 제3항의 보수지급사유가 발생하는 시점이 최근 보수계산기간 말일부터 3월이 경과하지 않은 경우에는 보수지급사유 발생일까지를 보수계산기간으로 본다.',\n",
              " '제12조(수수료) 위탁판매 수수료와 관련하여 다음 방법중 하나를 선택할 수 있다.',\n",
              " [0.6666666666666666, 0.5, 0.6666666666666666],\n",
              " '제 4조(카드의 유효기한 및 재발급)',\n",
              " '④ 갱신발급,거절예정일전 6개월 이내에 카드를 사용한 적이 있는 회원은 회사가 갱신발급,거절예정일부터 1개월 이전에 회원에게 서면, 전화, 이용대금명세서, 전자우편(이메일), 휴대폰 문자메세지 서비스 중 3가지 이상의 방법으로 발급,거절예정사실을 통보하고 통보 후 30일 이내에 회원으로부터 이의제기가 없는 경우 새로운 유효기한이 기재된 카드를 갱신 발급하거나, 갱신이 거절됩니다.',\n",
              " [1.0, 1.0, 1.0],\n",
              " '① 회사는 제6조(보험금의 청구)에서 정한 서류를 접수한 때에는 접수증을 교부하고, 그 서류를 접수받은 후 지체없이 지급할 보험금을 결정하고 지급할 보험금이 결정되면',\n",
              " '제7조(보험금의 지급절차)',\n",
              " '6일 이내에 이를 지급하여 드립니다. 또한, 지급할 보험금이 결정되기 전이라도 피보험자의 청구가 있을 때에는 회사가 추정한 보험금의 50퍼센트 상당액을 가지급보험금으로 지급합니다.',\n",
              " [1.0, 0.6666666666666666, 0.75],\n",
              " '제휴업체를 통해 업무를 대행할 경우 사업자는 제휴업체의 상호 및 대표자, 연락처, 담당자, 처리할 업무의 내용 등을 계약 전에 회원에게 미리 고지하고 충분히 설명하여야 한다.',\n",
              " '제9조 사업자의 의무',\n",
              " [0.0, 0.0, 0.0],\n",
              " '⑥ 회원은 언제든지 회사의 월납입금납부증빙내역에 대해 확인을 요구할 수 있다.',\n",
              " '제5조 (회원의 월납입금 납부의무)',\n",
              " [1.0, 0.0, 1.0],\n",
              " '① 회사는 계약자 또는 피보험자가 제13조(계약 전 알릴 의무)에도 불구하고 고의 또는 중대한 과실로 중요한 사항에 대하여 사실과 다르게 알린 경우에는 회사가 별도로 정하는 방법에 따라 계약을 해지하거나 보장을 제한할 수 있습니다. 그러나 다음 중 한 가지에 해당되는 때에는 계약을 해지하거나 보장을 제한할 수 없습니다.',\n",
              " '제 13 조 (계약 전 알릴 의무 위반의 효과)',\n",
              " [0.3333333333333333, 0.0, 0.3333333333333333],\n",
              " '① 계약을 맺은 후 보험의 목적에 아래와 같은 사실이 생긴 경우에는 계약자나 피보험자는 지체없이 서면으로 보험사에 알리고 보험증권에 확인을 받아야만 한다.',\n",
              " '제16조(계약 후 알릴 의무)',\n",
              " [0.5, 0.0, 0.5],\n",
              " '1. 분양대금(중도금, 잔금)을 납부기일로부터 9월 이상 납부치 않았을 때',\n",
              " '제 5 조 (계약해제)을은 갑의 귀책사유로 인하여 입점이 당초 입점예정일로부터 3개월 이상 지연된 경우 또는 계약기간중 갑의 계약이행이 불능하게 된 때에는 본 계약을 해제할 수 있다.',\n",
              " [0.8571428571428571, 0.4, 0.8571428571428571],\n",
              " '③ 회사는 위험노출액이 위험노출액한도를 초과할 우려가 있거나 초과하는지를 파악하고 초과한 때에는 그 사실을 고객에게 서면 등으로 지체 없이 통지한다.',\n",
              " '제31조 (적격기관투자자 위험관리 등)',\n",
              " [0.0, 0.0, 0.0],\n",
              " '제15조(약관, 부속약관 변경)은행이 이 약관을 변경하거나 부속약관을 채무자에게 불리하게 변경하고자 할 경우, 은행은 변경예정일 직전 1개월간 회사의 영업점 및 홈페이지에 변경내용을 게시합니다.',\n",
              " [0.5, 0.0, 0.5],\n",
              " '1 계약자는 금융소비자 보호에 관한 법률 제47조 및 관련규정이 정하는 바에 따라 계약체결에 대한 회사의 법위반사항이 있는 경우 계약체결일부터 10년 이내의 범위에서 계약자가 위반사항을 안 날부터 4년 이내에 계약해지요구서에 증빙서류를 첨부하여 위법계약의 해지를 요구할 수 있습니다. 다만, 의무보험의 해지를 요구하려는 경우에는동종의 다른 의무보험에 가입되어 있어야 합니다.',\n",
              " '제30조의2(위법계약의 해지)',\n",
              " [0.9090909090909091, 0.6666666666666665, 0.9090909090909091],\n",
              " '제12조 (면책) 천재지변 등 불가항력적인 사유로 이용자에게 손해가 발생한 경우에는 사업자는 이에 대해 40프로 책임을 진다.',\n",
              " [0.5, 0.0, 0.5],\n",
              " '③ 을은 계약기간 만료 21일 전에 갑(또는 병)에게 재계약 여부를 확인하여야 하며, 갑(또는 병)은 이후 15일 이내에 을에게 회신 하여야 한다.',\n",
              " '제2조 (계약 유효기간)',\n",
              " [1.0, 0.5, 1.0],\n",
              " '① 회사는 약관을 변경하고자 하는 경우 시행일 11개월 전에 변경되는 약관을 전자금융거래를 수행하는 전자적 장치(해당 전자적 장치에 게시하기 어려운 경우에는 고객이 접근하기 쉬운 전자적 장치로서 회사가 지정하는 대체장치를 포함한다. 이하 이 조에서 같다)에 게시하고 고객에게 전자문서 등 고객과 사전에 합의된 방법으로 통지하여야 한다. 다만, 고객이 이의를 제기할 경우 회사는 고객에게 적절한 방법으로 약관 변경내용을 통지하였음을 확인해 주어야 한다.',\n",
              " '제24조(약관의 변경 등)',\n",
              " [0.5, 0.0, 0.5],\n",
              " '① 이용자는 입실 전에 계약을 해제할 수 있다. 이 경우 사업자는 다음 각 호에 따라 계약금을 환급할 수 있다.',\n",
              " '제 18 조 (입실 전 계약의 해제)',\n",
              " [0.0, 0.0, 0.0],\n",
              " '① 센터는 가맹사업법상 가맹금 반환 사용에 해당하는 행위를 하여 가맹점이 가맹금 반환 청구 절차에 따라 적법하게 가맹금 반환 청구를 하는 경우 가맹금 중 일부가 반환될 수 있습니다.',\n",
              " '② 반환되는 금전이 있을 경우 그 범위에 대하여는 가맹계약의 체결경위, 지급된 금전의 성격, 가맹계약기간, 가맹사업자의 귀책정도 등을 고려하여 그 반환의 범위가 변경될 수 있습니다.',\n",
              " '제11조(가맹금 반환의 예외)',\n",
              " [0.0, 0.0, 0.0],\n",
              " '1. 갑은 본 계약과 관련하여 발생되는 을에 대한 모든 채무의 담보로 현금, 부동산, 유가증권, 정기예금증서, 각종 지급보증서, 기타담보중에서 상호 협의된 것을 을에게 제공하여야 한다',\n",
              " '2. 담보는 무이자로 하며, 담보설정에 대한 제비용은 갑이 부담한다',\n",
              " [0.5714285714285715, 0.0, 0.5714285714285715],\n",
              " '② 보험사는 계약의 청약을 받고 보험료 전액 또는 제1회 보험료(이하 제1회 보험료 등이라 합니다)를 받은 경우에는 청약일부터 60일 이내에 승낙 또는 거절의 통지를 하며 통지가 없으면 승낙한 것으로 봅니다.',\n",
              " '제1조(보험계약의 성립)',\n",
              " [0.75, 0.6666666666666666, 0.75],\n",
              " '제 4 조(카드의 유효기한 및 재발급)',\n",
              " '4. 갱신발급, 거절예정일전 6개월 이내에 카드를 사용한 적이 있는 회원은 카드사가 갱신발급, 거절예정일부터 1개월 이전에 회원에게 서면, 전화, 이용대금명세서, 전자우편(이메일), 휴대폰 문자메세지 서비스 중 2가지 이상의 방법으로 발급·거절예정사실을 통보하고 통보 후 30일 이내에 회원으로부터 이의제기가 없는 경우 새로운 유효기한이 기재된 카드를 갱신 발급하거나, 갱신이 거절됩니다.',\n",
              " [0.2857142857142857, 0.0, 0.2857142857142857],\n",
              " '제5조(카드의 유효기한 및 재발급)',\n",
              " '④ 갱신발급,거절예정일전 12개월 이내에 카드를 사용한 적이 있는 회원은 회사가 갱신발급,거절예정일부터 6개월 이전에 회원에게 서면, 전화, 이용대금명세서, 전자우편(이메일), 휴대폰 문자메세지 서비스 중 3가지 이상의 방법으로 발급,거절예정사실을 통보하고 통보 후 30일 이내에 회원으로부터 이의제기가 없는 경우 새로운 유효기한이 기재된 카드를 갱신 발급하거나, 갱신이 거절됩니다.',\n",
              " [0.8000000000000002, 0.75, 0.8000000000000002],\n",
              " '① 여행사는 최저행사인원이 충족되지 아니하여 여행계약을 해제하는 경우 당일여행의 경우 여행출발 72시간 이전까지, 1박2일 이상인 경우에는 여행출발 72시간 이전까지 여행자에게 통지하여야 합니다.',\n",
              " '제9조(최저행사인원 미 충족시 계약해제)',\n",
              " [0.8000000000000002, 0.75, 0.8000000000000002],\n",
              " '① 여행사는 최저행사인원이 충족되지 아니하여 여행계약을 해제하는 경우 당일여행의 경우 여행출발 72시간 이전까지, 1박2일 이상인 경우에는 여행출발 72시간 이전까지 여행자에게 통지하여야 합니다.',\n",
              " '제9조(최저행사인원 미 충족시 계약해제)',\n",
              " [0.8000000000000002, 0.75, 0.8000000000000002],\n",
              " '① 여행사는 최저행사인원이 충족되지 아니하여 여행계약을 해제하는 경우 당일여행의 경우 여행출발 72시간 이전까지, 1박2일 이상인 경우에는 여행출발 72시간 이전까지 여행자에게 통지하여야 합니다.',\n",
              " '제9조(최저행사인원 미 충족시 계약해제)',\n",
              " [0.8000000000000002, 0.75, 0.8000000000000002],\n",
              " '① 여행사는 최저행사인원이 충족되지 아니하여 여행계약을 해제하는 경우 당일여행의 경우 여행출발 72시간 이전까지, 1박2일 이상인 경우에는 여행출발 72시간 이전까지 여행자에게 통지하여야 합니다.',\n",
              " '제9조(최저행사인원 미 충족시 계약해제)',\n",
              " [0.8000000000000002, 0.75, 0.8000000000000002],\n",
              " '① 여행사는 최저행사인원이 충족되지 아니하여 여행계약을 해제하는 경우 당일여행의 경우 여행출발 72시간 이전까지, 1박2일 이상인 경우에는 여행출발 72시간 이전까지 여행자에게 통지하여야 합니다.',\n",
              " '제9조(최저행사인원 미 충족시 계약해제)',\n",
              " [0.8000000000000002, 0.75, 0.8000000000000002],\n",
              " '① 여행사는 최저행사인원이 충족되지 아니하여 여행계약을 해제하는 경우 당일여행의 경우 여행출발 72시간 이전까지, 1박2일 이상인 경우에는 여행출발 72시간 이전까지 여행자에게 통지하여야 합니다.',\n",
              " '제9조(최저행사인원 미 충족시 계약해제)',\n",
              " [0.8000000000000002, 0.75, 0.8000000000000002],\n",
              " '제16조(사기에 의한 계약) 계약자 또는 피보험자가 대리진단, 약물사용을 수단으로 진단절차를 통과하거나 진단서 위,변조 또는 청약일 이전에 암 또는 인간면역결핍바이러스(HIV) 감염의 진단 확정을 받은 후 이를 숨기고 가입하는 등 사기에 의하여 계약이 성립되었음을 회사가 증명하는 경우에는 계약일부터 5년 2개월 이내(사기사실을 안 날부터 1개월 이내)에 계약을 취소할 수 있습니다.',\n",
              " [0.8000000000000002, 0.75, 0.8000000000000002],\n",
              " '1 여객의 사정에 의하여 계약서에 기재된 사항대로 이행이 불가능한 때에는 출발시간 1일 전까지 사업자에게 변경을 요청하여 쌍방이 합의된 경우에 한하여 운송책임을 진다.',\n",
              " '제72조 (여객에 의한 계약변경)',\n",
              " [0.4, 0.0, 0.4],\n",
              " '② 운송물의 일부 멸실, 훼손 또는 연착에 대한 회사의 손해배상책임은 고객(수화인)이 운송물을 수령한 날로부터 24개월이 경과하면 소멸합니다. 다만, 운송물이 전부 멸실된 경우에는 그 인도예정일로부터 기산합니다.',\n",
              " '③ 제1항과 제2항의 규정은 회사 또는 그 운송 위탁을 받은 자, 기타 운송을 위하여 관여된 자가 이 운송물의 일부 멸실 또는 훼손의 사실을 알면서 이를 숨기고 운송물을 인도한 경우에는 적용되지 아니합니다. 이 경우에는 회사의 손해배상책임은 고객(수화인)이 운송물을 수령한 날로부터 5년간 존속합니다.',\n",
              " '① 운송물의 일부 멸실 또는 훼손에 대한 회사의 손해배상책임은 고객(수화인)이 운송물을 수령한 날로부터 14일 이내에 그 일부 멸실 또는 훼손에 대한 사실을 고객(송화인)이 회사에게 통지를 발송하지 아니하면 소멸합니다.',\n",
              " '제21조(책임의 특별소멸 사유와 시효)',\n",
              " [0.8333333333333334, 0.6, 0.8333333333333334],\n",
              " '③ 갑은 본 계약이 해지 되거나 종료된 경우 을의 등록상표 및 로고, 서비스 업무 문구를 갑의 온라인쇼핑몰에서 즉시삭제하여야 한다.',\n",
              " '제15조 (등록상표의 사용)',\n",
              " '② 갑은 이용자에게 본 계약에 따라 구매대금은 을의 가맹점명인 000으로 청구된다는 사실을 구두 또는 서면으로 공지하여야 한다.',\n",
              " [0.4, 0.0, 0.4],\n",
              " '4. 그 밖의 전자지급수단으로 지급하는 경우, 거래지시 된 금액의 정보가 수취인의 계좌가 개설되어 있는 금융기관의 전자적 장치에 입력이 끝난 때',\n",
              " '제14조(전자지급거래의 효력발생시기 등)',\n",
              " [1.0, 0.0, 1.0],\n",
              " '1. 피보험자가 피해자에게 지급할 책임을 지는 법률상의 손해배상금',\n",
              " '제 3 조(보상하는 손해) 회사는 피보험자가 보험증권상의 보장지역 내에서 보험기간 중에 발생한 특별약관에 기재된 보험사고(이하  사고 라 합니다)로 인하여 타인의 신체에 장해(이하  신체장해 라 합니다)를 입히거나 타인의 재물을 망그러뜨려(이하  재물손해 라 합니다) 법률적인 배상책임을 부담함으로써 입은 아래의 손해를 보상하여 드립니다.',\n",
              " '2. 계약자 또는 피보험자가 지출한 아래의 비용',\n",
              " [0.8, 0.0, 0.8],\n",
              " '① 정보주체는 협회에 대해 언제든지 다음 각 호의 개인정보 보호 관련 권리를 행사할 수 있습니다.',\n",
              " '제5조(정보주체의 권리․의무 및 행사방법)',\n",
              " [1.0, 0.0, 1.0],\n",
              " '제24조(청약의 철회) 가입자는  금융소비자 보호에 관한 법률 제46조 및 관련 규정이 정하는 바에 따라 청약철회가 가능한 수익증권에 한하여 계약서류를 제공받은 날(계약서류를 제공받지 아니한 경우에는 계약체결일)로부터 21일 이내 청약을 철회할 수 있다.',\n",
              " [0.6666666666666666, 0.5, 0.6666666666666666],\n",
              " '1. 본 계약에 관한 소송의 관할 법원은 (서울) 지방법원으로 한다.',\n",
              " [0.0, 0.0, 0.0],\n",
              " '제6조 (계약의 해제)계약의 해지시 예약금의 환불은 불가합니다. 또한 고객의 사정에 의해 취소할 경우 예식일로부터 60일이 남지 않은 시점에는 다음과 같이 위약금이 적용됩니다.(위약금 적용기준)식비용 전액완불 및 예약시 인원대비 매출액의 예식 30일전 예상금액의 30퍼센트 적용 예식 15일전  예상금액의 50퍼센트 적용예식 1일전  예상금액의 70퍼센트 적용',\n",
              " [0.875, 0.8571428571428571, 0.875],\n",
              " '① 회사가 제공하는 상조서비스는 계약 시에 예정된 지역에서 제공함을 원칙으로 하며, 회사의 사정으로 서비스 제공지역을 변경하고자 하는 경우에는 적용일을 명시하여 변경지역과 그 적용일로부터 75일 전에 해당지역 회원에게 통지하여야 한다.',\n",
              " '제12조 상조서비스의 제공지역',\n",
              " [1.0, 0.0, 1.0],\n",
              " '2. 유료서비스 이용을 신청한 회원은 게임서비스 이용요금을 신청 후 회사에서 제공하는 방법으로 지급하여야 합니다. 단, 무통장입금의 방식으로 신청한 회원은 신청 완료 후 5일 이내에 해당 금액을 입금하여야 하며, 5일 이내에 입금하지 않을시에는 그 신청을 철회한 것으로 봅니다.',\n",
              " '1. 유료서비스 이용을 신청한 회원은 게임서비스 이용요금을 성실히 납부하여야 합니다.',\n",
              " [0.75, 0.6666666666666666, 0.75],\n",
              " '제7조 제3항과 제4항 각 호에 의하여 기한이익이 상실되는 경우, 은행은 기한의 이익이 상실된 날로부터 10영업일 이내에 연대보증인에게 서면으로 그 내용을 통지하여야 합니다.',\n",
              " [0.888888888888889, 0.8571428571428571, 0.888888888888889],\n",
              " '1. 가맹계약 기간 중 가맹본부와 동일한 업종을 영위하여서는 아니되며, 갑의 경쟁 가맹사업자의 점포를 개설하여서는 아니된다.',\n",
              " [0.0, 0.0, 0.0],\n",
              " '② 운송물의 일부 멸실, 훼손 또는 연착에 대한 사업자의 손해배상책임은 고객(수화인)이 운송물을 수령한 날로부터 18개월이 경과하면 소멸합니다. 다만, 운송물이 전부 멸실된 경우에는 그 인도예정일로부터 기산합니다.',\n",
              " '③ 제1항과 제2항의 규정은 사업자 또는 그 운송 위탁을 받은 자, 기타 운송을 위하여 관여된 자가 이 운송물의 일부 멸실 또는 훼손의 사실을 알면서 이를 숨기고 운송물을 인도한 경우에는 적용되지 아니합니다. 이 경우에는 사업자의 손해배상책임은 고객(수화인)이 운송물을 수령한 날로부터 6년간 존속합니다.',\n",
              " '① 운송물의 일부 멸실 또는 훼손에 대한 사업자의 손해배상책임은 고객(수화인)이 운송물을 수령한 날로부터 15일 이내에 그 일부 멸실 또는 훼손에 대한 사실을 고객(송화인)이 사업자에게 통지를 발송하지 아니하면 소멸합니다.',\n",
              " [0.9090909090909091, 0.6666666666666665, 0.9090909090909091],\n",
              " '제15조(약관 교부 및 설명의무 등)',\n",
              " '1 회사는 계약자가 청약할 때에 계약자에게 약관의 중요한 내용을 설명하여야 하며, 청약 후에 다음 각 호의 방법 중 계약자가 원하는 방법을 확인하여 지체 없이 약관 및 계약자 보관용 청약서를 제공하여 드립니다. 만약, 회사가 전자우편 및 전자적 의사표시로 제공한 경우 계약자 또는 그 대리인이 약관 및 계약자 보관용 청약서 등을 수신하였을 때에는 해당 문서를 드린 것으로 봅니다.',\n",
              " [0.0, 0.0, 0.0],\n",
              " '① 채무자는 채무자의 기한도래한 예금 기타의 채권과 은행에 대한 채무와를, 그 채무의 기한도래 여부에 불구하고, 서면통지에 의하여 상계할 수 있습니다. 이 경우, 상계한 예금 기타 채권의 증서, 통장은, 채무자가 그 거래용으로 신고한 도장을 찍거나 서명을 하여, 지체없이 은행에 제출하여야 합니다.',\n",
              " '제11조(채무자로부터의 상계)',\n",
              " [1.0, 0.0, 1.0],\n",
              " '② 운송물의 일부 멸실, 훼손 또는 연착에 대한 택배사의 손해배상책임은 고객(수화인)이 운송물을 수령한 날로부터 1년이 경과하면 소멸합니다. 다만, 운송물이 전부 멸실된 경우에는 그 인도예정일로부터 기산합니다.',\n",
              " '③ 제1항과 제2항의 규정은 택배사 또는 그 운송 위탁을 받은 자, 기타 운송을 위하여 관여된 자가 이 운송물의 일부 멸실 또는 훼손의 사실을 알면서 이를 숨기고 운송물을 인도한 경우에는 적용되지 아니합니다. 이 경우에는 택배사의 손해배상책임은 고객(수화인)이 운송물을 수령한 날로부터 7년간 존속합니다.',\n",
              " '① 운송물의 일부 멸실 또는 훼손에 대한 택배사의 손해배상책임은 고객(수화인)이 운송물을 수령한 날로부터 15일 이내에 그 일부 멸실 또는 훼손에 대한 사실을 고객(송화인)이 택배사에게 통지를 발송하지 아니하면 소멸합니다.',\n",
              " '제26조 (책임의 특별소멸 사유와 시효)',\n",
              " [0.8333333333333334, 0.6, 0.8333333333333334],\n",
              " '제 18 조 (배송기한)갑은 거래승인 건에 대하여 입금 후 취소되는 경우와 현금이 아닌 수표로 입금되는 경우를 고려하여 거래승인일로부터 2일 이상 경과 후 해당 거래내용의 결제상의 정상여부를 확인하여야 하며, 정상적으로 결제된 거래에 한하여 확인일로부터 2일 이내에 구매자에 상품이 인도될 수 있도록 배송의 책임을 지며, 배송 완료 즉시 을에게 데이터로 전송하여야 한다.',\n",
              " [0.6666666666666666, 0.5, 0.6666666666666666],\n",
              " '⑤ 회원은 회사가 주최하는 각종 행사에 무료 또는 할인 혜택을 받아 참가할 수 있다.',\n",
              " '제7조 (회원의 권리)',\n",
              " [1.0, 0.0, 1.0],\n",
              " '② 회사는 제1항에 따른 전자금융거래계약을 체결함에 있어 고객에게 약관의 내용을 분명하게 밝혀야 하며, 고객의 요청이 있는 경우 다음 각 호의 어느 하나에 해당하는 방법으로 고객에게 약관을 내주어야 하여야 한다.',\n",
              " '제16조(전자금융거래계약의 체결 및 해지)',\n",
              " [0.5, 0.0, 0.5],\n",
              " '1. 물가 기타 경제적 여건의 변동이 있을 때',\n",
              " '제5조(임대조건 등의 변경) 갑과 을은 다음 각호의 1에 해당할 경우에는 임대보증금, 임대료, 관리비 또는 사용료 및 제납입금을 조정할 수 있다.  다만, 임대보증금과 임대료의 조정은 임대주택법 및 주택임대차보호법에서 정하는 바를 위배하여서는 아니된다.',\n",
              " [0.6666666666666666, 0.5, 0.6666666666666666],\n",
              " '제9조(보험금의 지급) 1 피보험자가 보험금을 청구할 때에는 다음의 서류를 회사에 제출하  여야 합니다.',\n",
              " '4 회사는 제6조(보험금의 청구)에서 정한 서류를 접수한 때에는 접수증을 교부하고, 그 서류를 접수받은 후 지체없이 지급할 보험금을 결정하고 지급할 보험금이 결정되면 3일 이내에 이를 지급하여 드립니다. 또한, 지급할 보험금이 결정되기 전이라도 피보험자의 청구가 있을 때에는 회사가 추정한 보험금의 90퍼센트 상당액을 가지급보험금으로 지급합니다.',\n",
              " [0.6, 0.5, 0.6],\n",
              " '제16조(고객정보에 대한 비밀보장) 회사는 관계법령에서 정한 경우를 제외하고는 전자금융거래를 수행함에 있어 알게 된 다음 각 호의 어느 하나에 해당하는 고객정보를 고객의 동의를 얻지 아니하고 타인에게 제공하거나 업무상 목적 외에 사용하지 아니한다.',\n",
              " [0.0, 0.0, 0.0],\n",
              " '① 회사는 약관을 변경하고자 하는 경우 회사의 영업점과 인터넷 홈페이지, 온라인 거래를 위한 컴퓨터 화면, 그 밖에 이와 유사한 전자통신매체에 변경내용을 변경되는 약관의 시행일 5일전에 비치 또는 게시한다.',\n",
              " '제19조(약관의 변경 등)',\n",
              " [0.5, 0.0, 0.5],\n",
              " '② 운송물의 일부 멸실, 훼손 또는 연착에 대한 사업자의 손해배상책임은 고객(수화인)이 운송물을 수령한 날로부터 24개월이 경과하면 소멸합니다. 다만, 운송물이 전부 멸실된 경우에는 그 인도예정일로부터 기산합니다.',\n",
              " '③ 제1항과 제2항의 규정은 사업자 또는 그 운송 위탁을 받은 자, 기타 운송을 위하여 관여된 자가 이 운송물의 일부 멸실 또는 훼손의 사실을 알면서 이를 숨기고 운송물을 인도한 경우에는 적용되지 아니합니다. 이 경우에는 사업자의 손해배상책임은 고객(수화인)이 운송물을 수령한 날로부터 6년간 존속합니다.',\n",
              " '① 운송물의 일부 멸실 또는 훼손에 대한 사업자의 손해배상책임은 고객(수화인)이 운송물을 수령한 날로부터 14일 이내에 그 일부 멸실 또는 훼손에 대한 사실을 고객(송화인)이 사업자에게 통지를 발송하지 아니하면 소멸합니다.',\n",
              " '제23조 (책임의 특별소멸 사유와 시효)',\n",
              " [0.8333333333333334, 0.6, 0.8333333333333334],\n",
              " '① 계약자는 보험증권을 받은 날부터 18일 이내에 그 청약을 철회할 수 있습니다. 다만, 의무보험의 경우에는 철회의사를 표시한 시점에 동종의 다른 의무보험에 가입된 경우에만 철회할 수 있으며, 보험기간이 80일 이내인 계약 또는 전문금융소비자가 체결한 계약은 청약을 철회할 수 없습니다.',\n",
              " '제18조(청약의 철회)',\n",
              " [0.6666666666666666, 0.5, 0.6666666666666666],\n",
              " '제3조(해약 및 불이익보상) 갑 은 다음의 경우 최고등 다른 법적절차 없이  갑 의 임의대로 해약할 수 있으며 이 경우 계약금은  갑 에게 귀속 된다.',\n",
              " [0.6666666666666666, 0.0, 0.6666666666666666],\n",
              " '제16조(손해배상)가맹점이 해지된 을이 갑의 상표권을 무단으로 사용할 시에는 1일당 30만원씩 손해배상 해야 한다. 또한 갑은 을에게 형사고발 및 민사소송을 통한 손해배상을 청구할 수 있다.',\n",
              " [0.6666666666666666, 0.5, 0.6666666666666666],\n",
              " '제14조(기타사항) 고객과 웨딩업체 간의 거래에 대한 책임은 양자 간에 있으며, 당사는 컨설팅사로서 중재 및 고객의 입장에서 최선을 다합니다.',\n",
              " '제3장  투자신탁재산의 운용',\n",
              " [0.6666666666666666, 0.0, 0.6666666666666666],\n",
              " '① 을이 아래 각호에 해당하는 행위를 하였을 경우에는 갑은 이 계약을 해제 또는 해지하거나 임대차계약의 갱신을 거절할 수 있다.',\n",
              " '제6조 (임대차계약의 해제 및 해지)',\n",
              " [0.0, 0.0, 0.0],\n",
              " '2. 최초의 대출과 분할대출이 이 보증서발급일로부터 30일이내에 실행될 것.',\n",
              " '제4조 (보증책임의 부담)보증조건에 부합하는 운전자금대출이 분할되어 실행되는 경우에는 제1항에 불구하고 다음 각 호의 요건을 모두 충족하는 때에 한하여 분할대출도 최초의 대출과 합하여 보증책임을 부담합니다.',\n",
              " [0.8571428571428571, 0.4, 0.8571428571428571],\n",
              " '제14조(서비스의 제한) ㅇ다음 사항 중 어느 하나에 해당할 경우 상호저축은행은 해당 이용자에 대한 서비스의 일부 또는 전부를 제한할 수 있다.',\n",
              " '1. 이용자가 3회 이상 연속하여 잘못된 접근수단을 제시하거나 입력한 경우. 단, 간편비밀번호,PIN,생체인증,패턴의 경우 5회이상 연속하여 잘못 입력한 경우 개정 2018.4.30.',\n",
              " [0.3076923076923077, 0.0, 0.3076923076923077],\n",
              " '제6조 (계약의 해제)사용자는 계약한 시간으로부터 24시간 이내에 계약을 해약 또는 연기할 수 있습니다.  24시간 경과 후의 해약, 연기의 경우는 계약금을 반환하지 않습니다.',\n",
              " [0.8571428571428571, 0.4, 0.8571428571428571],\n",
              " '① 사업자는 모자보건법이 정하는 인력과 시설을 갖추고, 화재 및 안전사고 등 예방을 위해 관계법령이 정하는 기준에 적합하게 시설을 설치․운영해야 합니다.',\n",
              " '제17조(사업자의 의무)',\n",
              " [0.0, 0.0, 0.0],\n",
              " '1 계좌이체 및 추심이체의 경우에는 이용자가 입력한 거래지시의 내용을 상호저축은행이 확인하고 출금자금(수수료를 포함한다. 이하 같다.)을 출금계좌원장에 출금기록한 때',\n",
              " '제11조(거래의 성립) 이용자가 전자금융거래를 하고자 하는 경우에는 다음 각호의 시기에 거래가 성립합니다. (개정 2018.4.30.)',\n",
              " [0.6153846153846154, 0.5454545454545454, 0.6153846153846154],\n",
              " '제 11 조 (공유물 및 부대시설 공동사용)동일 아파트단지내에  갑 이 추가로 아파트를 건설, 분양하게 될 경우   을 은 새로운 아파트에  대하여 보일러실, 전기배전실 등을  공동으로 이용하는데 조건없이 동의하여야 한다.',\n",
              " [0.0, 0.0, 0.0],\n",
              " '② 회사는 해지요구를 받은 날부터 9일 이내에 수락여부를 계약자에 통지하여야 하며, 거절할 때에는 거절 사유를 함께 통지하여야 합니다.',\n",
              " '제28조의2 (위법계약의 해지)',\n",
              " [0.6666666666666666, 0.0, 0.6666666666666666],\n",
              " '제1항 본 가맹 계약은 갑과 을 간에 합의, 체결된 어떠한 계약 또는 합의보다 우선적으로 적용한다.',\n",
              " [0.5, 0.0, 0.5],\n",
              " '제8조(대지지분 및 분양면적의 증감)갑은 시공, 분양 및 상가활성화의 목적상 필요에 의하여 을의 사전동의 없이 증축, 감축 및 동선의 변경을 할 수 있으며, 이때 공유면적 및 대지지분이 증감이 있거나 전용면적의 증감이 5퍼센트의 범위 내에 있을 때에는 분양가격에는 그 어떠한 영향도 미치지 않는다.',\n",
              " ...]"
            ]
          },
          "execution_count": 45,
          "metadata": {},
          "output_type": "execute_result"
        }
      ],
      "source": [
        "scores"
      ]
    },
    {
      "cell_type": "code",
      "execution_count": 14,
      "metadata": {},
      "outputs": [
        {
          "name": "stderr",
          "output_type": "stream",
          "text": [
            "/home/jisoo/anaconda3/envs/memsum/lib/python3.7/site-packages/ipykernel_launcher.py:1: VisibleDeprecationWarning: Creating an ndarray from ragged nested sequences (which is a list-or-tuple of lists-or-tuples-or ndarrays with different lengths or shapes) is deprecated. If you meant to do this, you must specify 'dtype=object' when creating the ndarray.\n",
            "  \"\"\"Entry point for launching an IPython kernel.\n"
          ]
        },
        {
          "ename": "TypeError",
          "evalue": "can only concatenate str (not \"list\") to str",
          "output_type": "error",
          "traceback": [
            "\u001b[0;31m---------------------------------------------------------------------------\u001b[0m",
            "\u001b[0;31mTypeError\u001b[0m                                 Traceback (most recent call last)",
            "\u001b[0;32m<ipython-input-14-97ace3837762>\u001b[0m in \u001b[0;36m<module>\u001b[0;34m\u001b[0m\n\u001b[0;32m----> 1\u001b[0;31m \u001b[0mnp\u001b[0m\u001b[0;34m.\u001b[0m\u001b[0masarray\u001b[0m\u001b[0;34m(\u001b[0m\u001b[0mscores\u001b[0m\u001b[0;34m)\u001b[0m\u001b[0;34m.\u001b[0m\u001b[0mmean\u001b[0m\u001b[0;34m(\u001b[0m\u001b[0maxis\u001b[0m \u001b[0;34m=\u001b[0m \u001b[0;36m0\u001b[0m\u001b[0;34m)\u001b[0m\u001b[0;34m\u001b[0m\u001b[0;34m\u001b[0m\u001b[0m\n\u001b[0m",
            "\u001b[0;32m~/anaconda3/envs/memsum/lib/python3.7/site-packages/numpy/core/_methods.py\u001b[0m in \u001b[0;36m_mean\u001b[0;34m(a, axis, dtype, out, keepdims, where)\u001b[0m\n\u001b[1;32m    177\u001b[0m             \u001b[0mis_float16_result\u001b[0m \u001b[0;34m=\u001b[0m \u001b[0;32mTrue\u001b[0m\u001b[0;34m\u001b[0m\u001b[0;34m\u001b[0m\u001b[0m\n\u001b[1;32m    178\u001b[0m \u001b[0;34m\u001b[0m\u001b[0m\n\u001b[0;32m--> 179\u001b[0;31m     \u001b[0mret\u001b[0m \u001b[0;34m=\u001b[0m \u001b[0mumr_sum\u001b[0m\u001b[0;34m(\u001b[0m\u001b[0marr\u001b[0m\u001b[0;34m,\u001b[0m \u001b[0maxis\u001b[0m\u001b[0;34m,\u001b[0m \u001b[0mdtype\u001b[0m\u001b[0;34m,\u001b[0m \u001b[0mout\u001b[0m\u001b[0;34m,\u001b[0m \u001b[0mkeepdims\u001b[0m\u001b[0;34m,\u001b[0m \u001b[0mwhere\u001b[0m\u001b[0;34m=\u001b[0m\u001b[0mwhere\u001b[0m\u001b[0;34m)\u001b[0m\u001b[0;34m\u001b[0m\u001b[0;34m\u001b[0m\u001b[0m\n\u001b[0m\u001b[1;32m    180\u001b[0m     \u001b[0;32mif\u001b[0m \u001b[0misinstance\u001b[0m\u001b[0;34m(\u001b[0m\u001b[0mret\u001b[0m\u001b[0;34m,\u001b[0m \u001b[0mmu\u001b[0m\u001b[0;34m.\u001b[0m\u001b[0mndarray\u001b[0m\u001b[0;34m)\u001b[0m\u001b[0;34m:\u001b[0m\u001b[0;34m\u001b[0m\u001b[0;34m\u001b[0m\u001b[0m\n\u001b[1;32m    181\u001b[0m         ret = um.true_divide(\n",
            "\u001b[0;31mTypeError\u001b[0m: can only concatenate str (not \"list\") to str"
          ]
        }
      ],
      "source": [
        "np.asarray(score).mean(axis = 0)"
      ]
    },
    {
      "cell_type": "code",
      "execution_count": 16,
      "metadata": {},
      "outputs": [],
      "source": [
        "def evaluate( model, corpus, p_stop, max_extracted_sentences, rouge_cal ):\n",
        "    scores = []\n",
        "    for data in tqdm(corpus):\n",
        "        gold_summary = data[\"summary\"]\n",
        "        extracted_summary = model.extract( [data[\"text\"]], p_stop_thres = p_stop, max_extracted_sentences_per_document = max_extracted_sentences )[0]\n",
        "        \n",
        "        score = rouge_cal.score( \"\\n\".join( gold_summary ), \"\\n\".join(extracted_summary)  )\n",
        "        scores.append( [score[\"rouge1\"].fmeasure, score[\"rouge2\"].fmeasure,score[\"rougeL\"].fmeasure, score[\"rougeLsum\"].fmeasure ] )\n",
        "    \n",
        "    return np.asarray(scores).mean(axis = 0)"
      ]
    },
    {
      "cell_type": "code",
      "execution_count": 21,
      "metadata": {},
      "outputs": [],
      "source": [
        "test_corpus_custom_data = [ json.loads(line) for line in open(\"/home/jisoo/VScode/MemSum/train_CUSTOM_raw.jsonl\")]"
      ]
    },
    {
      "cell_type": "code",
      "execution_count": 22,
      "metadata": {},
      "outputs": [
        {
          "name": "stderr",
          "output_type": "stream",
          "text": [
            "100%|██████████| 660/660 [00:14<00:00, 46.12it/s]\n"
          ]
        },
        {
          "data": {
            "text/plain": [
              "array([0.56303489, 0.26086584, 0.51533395, 0.56190751])"
            ]
          },
          "execution_count": 22,
          "metadata": {},
          "output_type": "execute_result"
        }
      ],
      "source": [
        "evaluate( model, test_corpus_custom_data, 0.6, 7, rouge_cal )\n"
      ]
    },
    {
      "cell_type": "code",
      "execution_count": null,
      "metadata": {},
      "outputs": [],
      "source": []
    }
  ],
  "metadata": {
    "accelerator": "GPU",
    "colab": {
      "authorship_tag": "ABX9TyNnt5iE3SWhcUyMT6RH+9EX",
      "collapsed_sections": [],
      "include_colab_link": true,
      "provenance": []
    },
    "kernelspec": {
      "display_name": "Python 3",
      "name": "python3"
    },
    "language_info": {
      "codemirror_mode": {
        "name": "ipython",
        "version": 3
      },
      "file_extension": ".py",
      "mimetype": "text/x-python",
      "name": "python",
      "nbconvert_exporter": "python",
      "pygments_lexer": "ipython3",
      "version": "3.7.16"
    }
  },
  "nbformat": 4,
  "nbformat_minor": 0
}
