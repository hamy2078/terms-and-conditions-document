{
 "cells": [
  {
   "cell_type": "code",
   "execution_count": 1,
   "metadata": {},
   "outputs": [],
   "source": [
    "import pandas as pd\n",
    "from sklearn.model_selection import train_test_split\n",
    "import regex as re"
   ]
  },
  {
   "cell_type": "code",
   "execution_count": 2,
   "metadata": {},
   "outputs": [],
   "source": [
    "df = pd.read_csv('./preprocessed_data/data.csv',index_col=[0])"
   ]
  },
  {
   "cell_type": "code",
   "execution_count": 3,
   "metadata": {},
   "outputs": [],
   "source": [
    "df['cn'] = df['cn'].apply(lambda x: x.replace('\\t',''))\n",
    "df['cn'] = df['cn'].apply(lambda x: x.replace('\\xa0',''))"
   ]
  },
  {
   "cell_type": "code",
   "execution_count": 4,
   "metadata": {},
   "outputs": [
    {
     "name": "stderr",
     "output_type": "stream",
     "text": [
      "C:\\Users\\hyj\\AppData\\Local\\Temp\\ipykernel_4352\\1750625931.py:10: SettingWithCopyWarning: \n",
      "A value is trying to be set on a copy of a slice from a DataFrame\n",
      "\n",
      "See the caveats in the documentation: https://pandas.pydata.org/pandas-docs/stable/user_guide/indexing.html#returning-a-view-versus-a-copy\n",
      "  df['pre_cn'][i] = text\n"
     ]
    }
   ],
   "source": [
    "# 조 살려서 자르기\n",
    "df['pre_cn'] = df['cn']\n",
    "# 조 \n",
    "pattern = '\\\\n([제|0-9 ]{1,}조[\\(|가-힣\\) |A-Z|a-z|0-9|,m]{1,})'\n",
    "for i in range(len(df)):\n",
    "    text = df['pre_cn'][i]\n",
    "    matchedList = re.findall(pattern,text)\n",
    "    for match in matchedList:\n",
    "        text = text.replace(match,'\\n?'+match+'\\n')\n",
    "    df['pre_cn'][i] = text"
   ]
  },
  {
   "cell_type": "code",
   "execution_count": 5,
   "metadata": {},
   "outputs": [],
   "source": [
    "df['article'] = df['pre_cn'].apply(lambda x:x.split('?'))"
   ]
  },
  {
   "cell_type": "code",
   "execution_count": 6,
   "metadata": {},
   "outputs": [],
   "source": [
    "df['pre_cn'] = df['pre_cn'].apply(lambda x: x.replace('\\n',''))\n",
    "df['sent_jo'] = df['pre_cn'].apply(lambda x:x.split('?'))\n",
    "df['sent_jo'] = df['sent_jo'].apply(lambda x: [i.strip() for i in x])\n",
    "\n",
    "df['summary'] = df['summary'].apply(lambda x: eval(x))"
   ]
  },
  {
   "cell_type": "code",
   "execution_count": 7,
   "metadata": {},
   "outputs": [
    {
     "data": {
      "text/plain": [
       "0       1\n",
       "1       1\n",
       "2       1\n",
       "3       1\n",
       "4       1\n",
       "       ..\n",
       "8995    1\n",
       "8996    1\n",
       "8997    2\n",
       "8998    1\n",
       "8999    2\n",
       "Name: summary, Length: 9000, dtype: int64"
      ]
     },
     "execution_count": 7,
     "metadata": {},
     "output_type": "execute_result"
    }
   ],
   "source": [
    "df['summary'].apply(len) # 요약이 여러개 뽑히는 것도 있음"
   ]
  },
  {
   "cell_type": "code",
   "execution_count": 8,
   "metadata": {},
   "outputs": [
    {
     "data": {
      "text/plain": [
       "9000"
      ]
     },
     "execution_count": 8,
     "metadata": {},
     "output_type": "execute_result"
    }
   ],
   "source": [
    "df['name'].nunique() # 고유값으로 사용 가능함"
   ]
  },
  {
   "cell_type": "code",
   "execution_count": 9,
   "metadata": {},
   "outputs": [],
   "source": [
    "tmp_df1 = df[['name','article','sent_jo','summary']]"
   ]
  },
  {
   "cell_type": "code",
   "execution_count": 10,
   "metadata": {},
   "outputs": [],
   "source": [
    "num_article = tmp_df1['article'].apply(len)\n",
    "num_sent_jo = tmp_df1['sent_jo'].apply(len)"
   ]
  },
  {
   "cell_type": "code",
   "execution_count": 11,
   "metadata": {},
   "outputs": [
    {
     "data": {
      "text/plain": [
       "0"
      ]
     },
     "execution_count": 11,
     "metadata": {},
     "output_type": "execute_result"
    }
   ],
   "source": [
    "sum(num_article!=num_sent_jo)"
   ]
  },
  {
   "cell_type": "code",
   "execution_count": 12,
   "metadata": {},
   "outputs": [
    {
     "name": "stderr",
     "output_type": "stream",
     "text": [
      "c:\\Users\\hyj\\Anaconda3\\envs\\virenv39\\lib\\site-packages\\tqdm\\auto.py:22: TqdmWarning: IProgress not found. Please update jupyter and ipywidgets. See https://ipywidgets.readthedocs.io/en/stable/user_install.html\n",
      "  from .autonotebook import tqdm as notebook_tqdm\n"
     ]
    }
   ],
   "source": [
    "# make label\n",
    "import numpy as np\n",
    "from tqdm import tqdm\n",
    "from numpy import dot\n",
    "from numpy.linalg import norm\n",
    "\n",
    "from sentence_transformers import SentenceTransformer\n",
    "\n",
    "def cos_sim(A, B):\n",
    "    return dot(A, B)/(norm(A)*norm(B))\n",
    "\n",
    "model = SentenceTransformer('jhgan/ko-sbert-multitask')"
   ]
  },
  {
   "cell_type": "code",
   "execution_count": 13,
   "metadata": {},
   "outputs": [],
   "source": [
    "def make_article(df):\n",
    "    sent_sum_embed =  df['summary'].apply(lambda x: model.encode(x))\n",
    "    sent_cn_embed =  df['sent_jo'].apply(lambda x: model.encode(x))\n",
    "\n",
    "    df['label'] = df['sent_jo']\n",
    "    for i, (cn_embeds, summ_embeds) in enumerate(zip(sent_cn_embed,sent_sum_embed)):\n",
    "        label = [0]*(cn_embeds.shape[0])\n",
    "        for summ_embed in summ_embeds:\n",
    "            cos_similarity = list(map(lambda x: cos_sim(x,summ_embed), cn_embeds))\n",
    "            index = np.argmax(cos_similarity)\n",
    "            if cos_similarity[index] >= 0.80:\n",
    "                label[index]=1\n",
    "        df['label'][i] = label\n",
    "    return df"
   ]
  },
  {
   "cell_type": "code",
   "execution_count": 14,
   "metadata": {},
   "outputs": [
    {
     "name": "stderr",
     "output_type": "stream",
     "text": [
      "C:\\Users\\hyj\\AppData\\Local\\Temp\\ipykernel_4352\\410252438.py:5: SettingWithCopyWarning: \n",
      "A value is trying to be set on a copy of a slice from a DataFrame.\n",
      "Try using .loc[row_indexer,col_indexer] = value instead\n",
      "\n",
      "See the caveats in the documentation: https://pandas.pydata.org/pandas-docs/stable/user_guide/indexing.html#returning-a-view-versus-a-copy\n",
      "  df['label'] = df['sent_jo']\n",
      "C:\\Users\\hyj\\AppData\\Local\\Temp\\ipykernel_4352\\410252438.py:13: SettingWithCopyWarning: \n",
      "A value is trying to be set on a copy of a slice from a DataFrame\n",
      "\n",
      "See the caveats in the documentation: https://pandas.pydata.org/pandas-docs/stable/user_guide/indexing.html#returning-a-view-versus-a-copy\n",
      "  df['label'][i] = label\n"
     ]
    }
   ],
   "source": [
    "article_df = make_article(tmp_df1) # summary를 기준으로 조 추출하기 # 17분"
   ]
  },
  {
   "cell_type": "code",
   "execution_count": 15,
   "metadata": {},
   "outputs": [
    {
     "data": {
      "text/plain": [
       "Int64Index([   4,   17,   24,   28,   36,   37,   40,   41,   42,   48,\n",
       "            ...\n",
       "            8985, 8986, 8987, 8988, 8990, 8991, 8994, 8995, 8996, 8998],\n",
       "           dtype='int64', length=2268)"
      ]
     },
     "execution_count": 15,
     "metadata": {},
     "output_type": "execute_result"
    }
   ],
   "source": [
    "num_article = article_df['label'].apply(sum)\n",
    "drop_row = num_article[num_article==0].index\n",
    "drop_row"
   ]
  },
  {
   "cell_type": "code",
   "execution_count": 16,
   "metadata": {},
   "outputs": [],
   "source": [
    "droped_article_df = article_df.drop(drop_row)"
   ]
  },
  {
   "cell_type": "code",
   "execution_count": 17,
   "metadata": {},
   "outputs": [
    {
     "data": {
      "text/plain": [
       "0"
      ]
     },
     "execution_count": 17,
     "metadata": {},
     "output_type": "execute_result"
    }
   ],
   "source": [
    "num_article = droped_article_df['label'].apply(sum)\n",
    "drop_row = num_article[num_article==0].index\n",
    "len(drop_row)"
   ]
  },
  {
   "cell_type": "code",
   "execution_count": 18,
   "metadata": {},
   "outputs": [],
   "source": [
    "droped_article_df.reset_index(drop=True,inplace=True)"
   ]
  },
  {
   "cell_type": "code",
   "execution_count": 19,
   "metadata": {},
   "outputs": [
    {
     "data": {
      "text/plain": [
       "1    6650\n",
       "2      68\n",
       "3      10\n",
       "4       2\n",
       "6       1\n",
       "8       1\n",
       "Name: label, dtype: int64"
      ]
     },
     "execution_count": 19,
     "metadata": {},
     "output_type": "execute_result"
    }
   ],
   "source": [
    "num_article.value_counts()"
   ]
  },
  {
   "cell_type": "code",
   "execution_count": 20,
   "metadata": {},
   "outputs": [],
   "source": [
    "droped_article_df['extractive'] = droped_article_df['label'].apply(lambda x: np.where(np.array(x) == 1)[0])\n",
    "droped_article_df['extractive'] = droped_article_df['extractive'].apply(lambda x: x.tolist())"
   ]
  },
  {
   "cell_type": "code",
   "execution_count": 21,
   "metadata": {},
   "outputs": [
    {
     "data": {
      "text/plain": [
       "0"
      ]
     },
     "execution_count": 21,
     "metadata": {},
     "output_type": "execute_result"
    }
   ],
   "source": [
    "sum(droped_article_df['extractive'].apply(len) == 0 )"
   ]
  },
  {
   "cell_type": "code",
   "execution_count": 22,
   "metadata": {},
   "outputs": [],
   "source": [
    "arti_df = pd.DataFrame(columns = ['name','article','summary'])\n",
    "\n",
    "for row in range(len(droped_article_df)):\n",
    "    extractives = droped_article_df['extractive'][row]\n",
    "    for ext in extractives:\n",
    "        arti = droped_article_df['article'][row][ext]\n",
    "        name = droped_article_df['name'][row]\n",
    "        summary = droped_article_df['summary'][row]\n",
    "        row_df = {'name': [name], 'article': [arti],'summary':[summary]}\n",
    "        row_df = pd.DataFrame(data=row_df)\n",
    "        arti_df = pd.concat([arti_df,row_df])\n",
    "arti_df.reset_index(inplace=True,drop=True)"
   ]
  },
  {
   "cell_type": "code",
   "execution_count": 23,
   "metadata": {},
   "outputs": [
    {
     "data": {
      "text/html": [
       "<div>\n",
       "<style scoped>\n",
       "    .dataframe tbody tr th:only-of-type {\n",
       "        vertical-align: middle;\n",
       "    }\n",
       "\n",
       "    .dataframe tbody tr th {\n",
       "        vertical-align: top;\n",
       "    }\n",
       "\n",
       "    .dataframe thead th {\n",
       "        text-align: right;\n",
       "    }\n",
       "</style>\n",
       "<table border=\"1\" class=\"dataframe\">\n",
       "  <thead>\n",
       "    <tr style=\"text-align: right;\">\n",
       "      <th></th>\n",
       "      <th>name</th>\n",
       "      <th>article</th>\n",
       "      <th>summary</th>\n",
       "    </tr>\n",
       "  </thead>\n",
       "  <tbody>\n",
       "    <tr>\n",
       "      <th>0</th>\n",
       "      <td>001_개인정보취급방침</td>\n",
       "      <td>제2조(개인정보의 처리 및 보유기간)\\n\\n ① 협회는 법령에 따른 개인정보 보유․...</td>\n",
       "      <td>[제2조(개인정보의 처리 및 보유기간) \\n① 협회는 법령에 따른 개인정보 보유․이...</td>\n",
       "    </tr>\n",
       "    <tr>\n",
       "      <th>1</th>\n",
       "      <td>001_결혼정보서비스</td>\n",
       "      <td>제3조 (회원가입)\\n\\n\\n① 회원이 되려고 하는 사람은 결혼관련 개인정보를 회사...</td>\n",
       "      <td>[제3조 (회원가입)\\n① 회원이 되려고 하는 사람은 결혼관련 개인정보를 회사에 제...</td>\n",
       "    </tr>\n",
       "    <tr>\n",
       "      <th>2</th>\n",
       "      <td>001_보증</td>\n",
       "      <td>제2조(보증금액)\\n\\n1. 이 보증서에 의한 보증금액은 채권자의 채무자에 대한 보...</td>\n",
       "      <td>[제2조(보증금액)\\n ① 이 보증서에 의한 보증금액은 채권자의 채무자에 대한 보증...</td>\n",
       "    </tr>\n",
       "    <tr>\n",
       "      <th>3</th>\n",
       "      <td>001_사이버몰</td>\n",
       "      <td>제25조 (약관 등의 명시와 설명 및 개정)\\n\\n\\n1 몰은 이 약관의 내용과 상...</td>\n",
       "      <td>[제3조 (약관 등의 명시와 설명 및 개정)\\n① 몰은 이 약관의 내용과 상호 및 ...</td>\n",
       "    </tr>\n",
       "    <tr>\n",
       "      <th>4</th>\n",
       "      <td>001_손해보험</td>\n",
       "      <td>제7조(보험금의 지급절차) \\n\\n\\n① 회사는 제6조(보험금의 청구)에서 정한 서...</td>\n",
       "      <td>[제7조(보험금의 지급절차) \\n① 회사는 제6조(보험금의 청구)에서 정한 서류를 ...</td>\n",
       "    </tr>\n",
       "  </tbody>\n",
       "</table>\n",
       "</div>"
      ],
      "text/plain": [
       "           name                                            article  \\\n",
       "0  001_개인정보취급방침  제2조(개인정보의 처리 및 보유기간)\\n\\n ① 협회는 법령에 따른 개인정보 보유․...   \n",
       "1   001_결혼정보서비스  제3조 (회원가입)\\n\\n\\n① 회원이 되려고 하는 사람은 결혼관련 개인정보를 회사...   \n",
       "2        001_보증  제2조(보증금액)\\n\\n1. 이 보증서에 의한 보증금액은 채권자의 채무자에 대한 보...   \n",
       "3      001_사이버몰  제25조 (약관 등의 명시와 설명 및 개정)\\n\\n\\n1 몰은 이 약관의 내용과 상...   \n",
       "4      001_손해보험  제7조(보험금의 지급절차) \\n\\n\\n① 회사는 제6조(보험금의 청구)에서 정한 서...   \n",
       "\n",
       "                                             summary  \n",
       "0  [제2조(개인정보의 처리 및 보유기간) \\n① 협회는 법령에 따른 개인정보 보유․이...  \n",
       "1  [제3조 (회원가입)\\n① 회원이 되려고 하는 사람은 결혼관련 개인정보를 회사에 제...  \n",
       "2  [제2조(보증금액)\\n ① 이 보증서에 의한 보증금액은 채권자의 채무자에 대한 보증...  \n",
       "3  [제3조 (약관 등의 명시와 설명 및 개정)\\n① 몰은 이 약관의 내용과 상호 및 ...  \n",
       "4  [제7조(보험금의 지급절차) \\n① 회사는 제6조(보험금의 청구)에서 정한 서류를 ...  "
      ]
     },
     "execution_count": 23,
     "metadata": {},
     "output_type": "execute_result"
    }
   ],
   "source": [
    "arti_df.head() # 추출되여야하는 조와 그에 해당하는 summary"
   ]
  },
  {
   "cell_type": "code",
   "execution_count": 24,
   "metadata": {},
   "outputs": [],
   "source": [
    "def make_paragraph(df,col):\n",
    "    # 항\n",
    "    list1 = \"⓪ ① ② ③ ④ ⑤ ⑥ ⑦ ⑧ ⑨ ⑩ ⑪ ⑫ ⑬ ⑭ ⑮ ⑯ ⑰ ⑱ ⑲ ⑳ ㉑ ㉒ ㉓ ㉔ ㉕ ㉖ ㉗ ㉘ ㉙ ㉚ ㉛ ㉜ ㉝ ㉞ ㉟ ㊱ ㊲ ㊳ ㊴ ㊵ ㊶ ㊷ ㊸ ㊹ ㊺ ㊻ ㊼ ㊽ ㊾ ㊿\"\n",
    "    list1 = list1.split()\n",
    "    for i in list1:\n",
    "        df[col] = df[col].apply(lambda x: re.sub(f'{i}',f\"?{i}\",x))\n",
    "    # \\n제1항\n",
    "    pattern1 = '\\\\n[제|1-9|항]{1,}'\n",
    "    matched_list = df[col].apply(lambda x: re.findall(pattern1,x))\n",
    "    matched_list = matched_list.apply(lambda x: set(x))\n",
    "    matched_list = matched_list.apply(lambda x: list(x))\n",
    "\n",
    "    for i in tqdm(range(len(df))):\n",
    "        text = df[col][i]\n",
    "        matchedList = matched_list[i]\n",
    "        for match in matchedList:\n",
    "            text = text.replace(match,'\\n?'+match)\n",
    "        df[col][i] = text\n",
    "        \n",
    "    return df"
   ]
  },
  {
   "cell_type": "code",
   "execution_count": 25,
   "metadata": {},
   "outputs": [],
   "source": [
    "def make_subparagraph(df,col):\n",
    "    # 호 \n",
    "    # \\n1 -> \\n?\\n1.\n",
    "    # \\n 1 -> \\n?\\n 1.\n",
    "    pattern1 = '\\\\n[ ]{0,}[1-9]{1,}'\n",
    "    # pattern1 = '\\\\n[ ]{0,}[1-9]{1,}\\.'\n",
    "    matched_list = df[col].apply(lambda x: re.findall(pattern1,x))\n",
    "    matched_list = matched_list.apply(lambda x: set(x))\n",
    "    matched_list = matched_list.apply(lambda x: list(x))\n",
    "\n",
    "    for i in tqdm(range(len(df))):\n",
    "        text = df[col][i]\n",
    "        matchedList = matched_list[i]\n",
    "        for match in matchedList:\n",
    "            text = text.replace(match,'\\n?'+match)\n",
    "        df[col][i] = text\n",
    "    \n",
    "    # \\n제1호\n",
    "    pattern1 = '\\\\n[제|1-9|호]{1,}'\n",
    "    matched_list = df[col].apply(lambda x: re.findall(pattern1,x))\n",
    "    matched_list = matched_list.apply(lambda x: set(x))\n",
    "    matched_list = matched_list.apply(lambda x: list(x))\n",
    "\n",
    "    for i in tqdm(range(len(df))):\n",
    "        text = df[col][i]\n",
    "        matchedList = matched_list[i]\n",
    "        for match in matchedList:\n",
    "            text = text.replace(match,'\\n?'+match)\n",
    "        df[col][i] = text\n",
    "    return df"
   ]
  },
  {
   "cell_type": "code",
   "execution_count": 26,
   "metadata": {},
   "outputs": [],
   "source": [
    "# 목\n",
    "def make_item(df,col):\n",
    "    list2 = \"가 나 다 라 마 바 사 아 자 차 카 타 파 하 거 너 더 러 머 버 서 어 저 처 커 터 퍼 허\"\n",
    "    list3 = \"A B C D E F G H I J K L M N O P Q R S T U V W X Y Z\"\n",
    "    list2 = list2.split()\n",
    "    list3 = list3.split()\n",
    "\n",
    "    for i in tqdm(list2):\n",
    "        # 가. 나. 다.\n",
    "        df[col] = df[col].apply(lambda x: re.sub(f'\\\\n[{i}]\\.',f\"\\n?{i}.\",x))\n",
    "        df[col] = df[col].apply(lambda x: re.sub(f'\\\\n [{i}]\\.',f\"\\n?{i}.\",x))    \n",
    "    for i in tqdm(list3):\n",
    "        # A. B.\n",
    "        df[col] = df[col].apply(lambda x: re.sub(f'\\\\n[{i}]\\.',f\"\\n?{i}.\",x))\n",
    "        df[col] = df[col].apply(lambda x: re.sub(f'\\\\n [{i}]\\.',f\"\\n?{i}.\",x))\n",
    "    return df"
   ]
  },
  {
   "cell_type": "code",
   "execution_count": 27,
   "metadata": {},
   "outputs": [],
   "source": [
    "def make_rest(df,col):\n",
    "    list2 = \"가 나 다 라 마 바 사 아 자 차 카 타 파 하 거 너 더 러 머 버 서 어 저 처 커 터 퍼 허\"\n",
    "    list2 = list2.split()\n",
    "    \n",
    "    for i in tqdm(list2):\n",
    "    # 세분화\n",
    "        # 가), 나), 다)\n",
    "        df[col] = df[col].apply(lambda x: re.sub(f'\\\\n[{i}]\\)',f\"\\n?{i})\",x))\n",
    "        df[col] = df[col].apply(lambda x: re.sub(f'\\\\n [{i}]\\)',f\"\\n?{i})\",x))\n",
    "        # 가 ), 나 ), 다 )\n",
    "        df[col] = df[col].apply(lambda x: re.sub(f'\\\\n[{i}] \\)',f\"\\n?{i})\",x))\n",
    "        df[col] = df[col].apply(lambda x: re.sub(f'\\\\n [{i}] \\)',f\"\\n?{i})\",x))\n",
    "        # (가), (나), (다)\n",
    "        df[col] = df[col].apply(lambda x: re.sub(f'\\\\n\\([{i}]\\)',f\"\\n?({i})\",x))\n",
    "        df[col] = df[col].apply(lambda x: re.sub(f'\\\\n \\([{i}]\\)',f\"\\n?({i})\",x))\n",
    "        # ( 가 ), ( 나 ), ( 다 )\n",
    "        df[col] = df[col].apply(lambda x: re.sub(f'\\\\n\\( [{i}] \\)',f\"\\n?({i})\",x))\n",
    "        df[col] = df[col].apply(lambda x: re.sub(f'\\\\n \\( [{i}] \\)',f\"\\n?({i})\",x))\n",
    "    # 세분화\n",
    "    for i in range(50):\n",
    "        # 1), 2), 3),\n",
    "        df[col] = df[col].apply(lambda x: re.sub(f'\\\\n[{i}]\\)',f\"\\n?{i})\",x))\n",
    "        df[col] = df[col].apply(lambda x: re.sub(f'\\\\n [{i}]\\)',f\"\\n?{i})\",x))\n",
    "        # 1 ), 2 ), 3 ),\n",
    "        df[col] = df[col].apply(lambda x: re.sub(f'\\\\n[{i}] \\)',f\"\\n?{i})\",x))\n",
    "        df[col] = df[col].apply(lambda x: re.sub(f'\\\\n [{i}] \\)',f\"\\n?{i})\",x))\n",
    "        # (1), (2), (3),\n",
    "        df[col] = df[col].apply(lambda x: re.sub(f'\\\\n\\([{i}]\\)',f\"\\n?({i})\",x))\n",
    "        df[col] = df[col].apply(lambda x: re.sub(f'\\\\n \\([{i}]\\)',f\"\\n?({i})\",x))\n",
    "        # ( 1 ), ( 2 ), ( 3 ),\n",
    "        df[col] = df[col].apply(lambda x: re.sub(f'\\\\n\\( [{i}] \\)',f\"\\n?({i})\",x))\n",
    "        df[col] = df[col].apply(lambda x: re.sub(f'\\\\n \\( [{i}] \\)',f\"\\n?({i})\",x))\n",
    "    return df"
   ]
  },
  {
   "cell_type": "code",
   "execution_count": 28,
   "metadata": {},
   "outputs": [
    {
     "name": "stderr",
     "output_type": "stream",
     "text": [
      "100%|██████████| 6838/6838 [00:01<00:00, 5182.25it/s]\n"
     ]
    }
   ],
   "source": [
    "arti_df = make_paragraph(arti_df,'article')"
   ]
  },
  {
   "cell_type": "code",
   "execution_count": 29,
   "metadata": {},
   "outputs": [
    {
     "name": "stderr",
     "output_type": "stream",
     "text": [
      "100%|██████████| 6838/6838 [00:01<00:00, 5131.98it/s]\n",
      "100%|██████████| 6838/6838 [00:01<00:00, 5225.83it/s]\n"
     ]
    }
   ],
   "source": [
    "arti_df = make_subparagraph(arti_df,'article')"
   ]
  },
  {
   "cell_type": "code",
   "execution_count": 30,
   "metadata": {},
   "outputs": [
    {
     "name": "stderr",
     "output_type": "stream",
     "text": [
      "100%|██████████| 28/28 [00:03<00:00,  8.85it/s]\n",
      "100%|██████████| 26/26 [00:02<00:00,  9.15it/s]\n"
     ]
    }
   ],
   "source": [
    "arti_df = make_item(arti_df,'article')"
   ]
  },
  {
   "cell_type": "code",
   "execution_count": 31,
   "metadata": {},
   "outputs": [
    {
     "name": "stderr",
     "output_type": "stream",
     "text": [
      "100%|██████████| 28/28 [00:12<00:00,  2.26it/s]\n"
     ]
    }
   ],
   "source": [
    "arti_df = make_rest(arti_df,'article')"
   ]
  },
  {
   "cell_type": "code",
   "execution_count": 32,
   "metadata": {},
   "outputs": [
    {
     "name": "stderr",
     "output_type": "stream",
     "text": [
      "100%|██████████| 6838/6838 [00:01<00:00, 5298.52it/s]\n",
      "100%|██████████| 6838/6838 [00:01<00:00, 5282.08it/s]\n",
      "100%|██████████| 6838/6838 [00:01<00:00, 5307.49it/s]\n",
      "100%|██████████| 28/28 [00:03<00:00,  9.04it/s]\n",
      "100%|██████████| 26/26 [00:03<00:00,  8.53it/s]\n",
      "100%|██████████| 28/28 [00:12<00:00,  2.21it/s]\n"
     ]
    }
   ],
   "source": [
    "arti_df['article_sent'] = arti_df['article'].apply(lambda x: x.replace('\\n',''))\n",
    "arti_df['article_sent'] = arti_df['article_sent'].apply(lambda x: x.split('?'))\n",
    "\n",
    "arti_df['summary'] = arti_df['summary'].apply(lambda x: '\\n'.join(x))\n",
    "arti_df = make_paragraph(arti_df,'summary')\n",
    "arti_df = make_subparagraph(arti_df,'summary')\n",
    "arti_df = make_item(arti_df,'summary')\n",
    "arti_df = make_rest(arti_df,'summary')\n",
    "arti_df['summary_sent'] = arti_df['summary'].apply(lambda x: x.replace('\\n',''))\n",
    "arti_df['summary_sent'] = arti_df['summary_sent'].apply(lambda x: x.split('?'))"
   ]
  },
  {
   "cell_type": "code",
   "execution_count": 33,
   "metadata": {},
   "outputs": [],
   "source": [
    "arti_df['article_sent'] = arti_df['article_sent'].apply(lambda x: [i.strip() for i in x])\n",
    "arti_df['article_sent'] = arti_df['article_sent'].apply(lambda x: [i for i in x if i not in {''}])\n",
    "\n",
    "arti_df['summary_sent'] = arti_df['summary_sent'].apply(lambda x: [i.strip() for i in x])\n",
    "arti_df['summary_sent'] = arti_df['summary_sent'].apply(lambda x: [i for i in x if i not in {''}])"
   ]
  },
  {
   "cell_type": "code",
   "execution_count": 34,
   "metadata": {},
   "outputs": [],
   "source": [
    "# 4분 45초\n",
    "article_embed = arti_df['article_sent'].apply(lambda x: model.encode(x))\n",
    "summary_embed = arti_df['summary_sent'].apply(lambda x: model.encode(x))\n",
    "\n",
    "arti_df['label'] = arti_df['article_sent']\n",
    "for i, (arti_embeds, summ_embeds) in enumerate(zip(article_embed,summary_embed)):\n",
    "    label = [0]*(arti_embeds.shape[0])\n",
    "    for summ_embed in summ_embeds:\n",
    "        cos_similarity = list(map(lambda x: cos_sim(x,summ_embed), arti_embeds))\n",
    "        index = np.argmax(cos_similarity)\n",
    "        if cos_similarity[index] >= 0.85:\n",
    "            label[index]=1\n",
    "    arti_df['label'][i] = label"
   ]
  },
  {
   "cell_type": "code",
   "execution_count": 35,
   "metadata": {},
   "outputs": [
    {
     "data": {
      "text/html": [
       "<div>\n",
       "<style scoped>\n",
       "    .dataframe tbody tr th:only-of-type {\n",
       "        vertical-align: middle;\n",
       "    }\n",
       "\n",
       "    .dataframe tbody tr th {\n",
       "        vertical-align: top;\n",
       "    }\n",
       "\n",
       "    .dataframe thead th {\n",
       "        text-align: right;\n",
       "    }\n",
       "</style>\n",
       "<table border=\"1\" class=\"dataframe\">\n",
       "  <thead>\n",
       "    <tr style=\"text-align: right;\">\n",
       "      <th></th>\n",
       "      <th>name</th>\n",
       "      <th>article</th>\n",
       "      <th>summary</th>\n",
       "      <th>article_sent</th>\n",
       "      <th>summary_sent</th>\n",
       "      <th>label</th>\n",
       "    </tr>\n",
       "  </thead>\n",
       "  <tbody>\n",
       "    <tr>\n",
       "      <th>0</th>\n",
       "      <td>001_개인정보취급방침</td>\n",
       "      <td>제2조(개인정보의 처리 및 보유기간)\\n\\n ?① 협회는 법령에 따른 개인정보 보유...</td>\n",
       "      <td>제2조(개인정보의 처리 및 보유기간) \\n?① 협회는 법령에 따른 개인정보 보유․이...</td>\n",
       "      <td>[제2조(개인정보의 처리 및 보유기간), ① 협회는 법령에 따른 개인정보 보유․이용...</td>\n",
       "      <td>[제2조(개인정보의 처리 및 보유기간), ① 협회는 법령에 따른 개인정보 보유․이용...</td>\n",
       "      <td>[1, 1, 0, 0]</td>\n",
       "    </tr>\n",
       "    <tr>\n",
       "      <th>1</th>\n",
       "      <td>001_결혼정보서비스</td>\n",
       "      <td>제3조 (회원가입)\\n\\n\\n?① 회원이 되려고 하는 사람은 결혼관련 개인정보를 회...</td>\n",
       "      <td>제3조 (회원가입)\\n?① 회원이 되려고 하는 사람은 결혼관련 개인정보를 회사에 제...</td>\n",
       "      <td>[제3조 (회원가입), ① 회원이 되려고 하는 사람은 결혼관련 개인정보를 회사에 제...</td>\n",
       "      <td>[제3조 (회원가입), ① 회원이 되려고 하는 사람은 결혼관련 개인정보를 회사에 제...</td>\n",
       "      <td>[1, 1]</td>\n",
       "    </tr>\n",
       "    <tr>\n",
       "      <th>2</th>\n",
       "      <td>001_보증</td>\n",
       "      <td>제2조(보증금액)\\n\\n?\\n?\\n?\\n1. 이 보증서에 의한 보증금액은 채권자의 ...</td>\n",
       "      <td>제2조(보증금액)\\n ?① 이 보증서에 의한 보증금액은 채권자의 채무자에 대한 보증...</td>\n",
       "      <td>[제2조(보증금액), 1. 이 보증서에 의한 보증금액은 채권자의 채무자에 대한 보증...</td>\n",
       "      <td>[제2조(보증금액), ① 이 보증서에 의한 보증금액은 채권자의 채무자에 대한 보증부...</td>\n",
       "      <td>[1, 1]</td>\n",
       "    </tr>\n",
       "    <tr>\n",
       "      <th>3</th>\n",
       "      <td>001_사이버몰</td>\n",
       "      <td>제25조 (약관 등의 명시와 설명 및 개정)\\n\\n\\n?\\n?\\n?\\n1 몰은 이 ...</td>\n",
       "      <td>제3조 (약관 등의 명시와 설명 및 개정)\\n?① 몰은 이 약관의 내용과 상호 및 ...</td>\n",
       "      <td>[제25조 (약관 등의 명시와 설명 및 개정), 1 몰은 이 약관의 내용과 상호 및...</td>\n",
       "      <td>[제3조 (약관 등의 명시와 설명 및 개정), ① 몰은 이 약관의 내용과 상호 및 ...</td>\n",
       "      <td>[0, 1]</td>\n",
       "    </tr>\n",
       "    <tr>\n",
       "      <th>4</th>\n",
       "      <td>001_손해보험</td>\n",
       "      <td>제7조(보험금의 지급절차) \\n\\n\\n?① 회사는 제6조(보험금의 청구)에서 정한 ...</td>\n",
       "      <td>제7조(보험금의 지급절차) \\n?① 회사는 제6조(보험금의 청구)에서 정한 서류를 ...</td>\n",
       "      <td>[제7조(보험금의 지급절차), ① 회사는 제6조(보험금의 청구)에서 정한 서류를 접...</td>\n",
       "      <td>[제7조(보험금의 지급절차), ① 회사는 제6조(보험금의 청구)에서 정한 서류를 접...</td>\n",
       "      <td>[1, 1, 0]</td>\n",
       "    </tr>\n",
       "    <tr>\n",
       "      <th>...</th>\n",
       "      <td>...</td>\n",
       "      <td>...</td>\n",
       "      <td>...</td>\n",
       "      <td>...</td>\n",
       "      <td>...</td>\n",
       "      <td>...</td>\n",
       "    </tr>\n",
       "    <tr>\n",
       "      <th>6833</th>\n",
       "      <td>514_임대차계약</td>\n",
       "      <td>제6조 (계약해제 및 위약금)\\n\\n?\\n?\\n?\\n1. 을이 아래 각 호 1에 해...</td>\n",
       "      <td>제30조 (명도대행)\\n?\\n?\\n제1항 갑이 본 계약 종료 후에도 자기 소유물, ...</td>\n",
       "      <td>[제6조 (계약해제 및 위약금), 1. 을이 아래 각 호 1에 해당할 경우에는 을은...</td>\n",
       "      <td>[제30조 (명도대행), 제1항 갑이 본 계약 종료 후에도 자기 소유물, 시설물 등...</td>\n",
       "      <td>[0, 0, 0, 0, 0, 0, 0, 0, 0, 0, 0, 0, 0]</td>\n",
       "    </tr>\n",
       "    <tr>\n",
       "      <th>6834</th>\n",
       "      <td>517_임대차계약</td>\n",
       "      <td>제6조 (계약해제 및 위약금)\\n\\n?\\n?\\n?\\n1. 을이 아래 각 호 1에 해...</td>\n",
       "      <td>제10조(계약의 해지)\\n?\\n?\\n?\\n제2항 다음 각 항에 해당하는 사유가 발생...</td>\n",
       "      <td>[제6조 (계약해제 및 위약금), 1. 을이 아래 각 호 1에 해당할 경우에는 을은...</td>\n",
       "      <td>[제10조(계약의 해지), 제2항 다음 각 항에 해당하는 사유가 발생한 경우 을은 ...</td>\n",
       "      <td>[0, 0, 0, 0, 0, 0, 0, 0, 0, 0, 0, 0, 0]</td>\n",
       "    </tr>\n",
       "    <tr>\n",
       "      <th>6835</th>\n",
       "      <td>625_임대차계약</td>\n",
       "      <td>제6조 (계약해제 및 위약금)\\n\\n?\\n?\\n?\\n1. 을이 아래 각 호 1에 해...</td>\n",
       "      <td>제6조(계약해제권 행사 완화)\\n?\\n?\\n제1항 본계약 및 관리규정상의 업무를 불...</td>\n",
       "      <td>[제6조 (계약해제 및 위약금), 1. 을이 아래 각 호 1에 해당할 경우에는 을은...</td>\n",
       "      <td>[제6조(계약해제권 행사 완화), 제1항 본계약 및 관리규정상의 업무를 불이행 또는...</td>\n",
       "      <td>[0, 0, 0, 0, 0, 0, 0, 0, 0, 0, 0, 0, 0]</td>\n",
       "    </tr>\n",
       "    <tr>\n",
       "      <th>6836</th>\n",
       "      <td>629_임대차계약</td>\n",
       "      <td>제2조 (임 대 료)\\n\\n?\\n?\\n?\\n1. 을은 월 임대료를 매월 일까지 갑에...</td>\n",
       "      <td>제2조 (임대료의 기산등)\\n?\\n?\\n제1항 이계약에 의한 임대료는 다른 약정이 ...</td>\n",
       "      <td>[제2조 (임 대 료), 1. 을은 월 임대료를 매월 일까지 갑에게 당월 분 임대료...</td>\n",
       "      <td>[제2조 (임대료의 기산등), 제1항 이계약에 의한 임대료는 다른 약정이 없는 한 ...</td>\n",
       "      <td>[0, 0, 1, 0, 0, 0, 0]</td>\n",
       "    </tr>\n",
       "    <tr>\n",
       "      <th>6837</th>\n",
       "      <td>631_임대차계약</td>\n",
       "      <td>제6조 (계약해제 및 위약금)\\n\\n?\\n?\\n?\\n1. 을이 아래 각 호 1에 해...</td>\n",
       "      <td>제11조(해약사유)\\n?\\n?\\n제1항 본 계약은 다음 사항에 해당할 때에는 해약한...</td>\n",
       "      <td>[제6조 (계약해제 및 위약금), 1. 을이 아래 각 호 1에 해당할 경우에는 을은...</td>\n",
       "      <td>[제11조(해약사유), 제1항 본 계약은 다음 사항에 해당할 때에는 해약한다., 제...</td>\n",
       "      <td>[0, 0, 0, 0, 0, 0, 0, 0, 0, 0, 0, 0, 0]</td>\n",
       "    </tr>\n",
       "  </tbody>\n",
       "</table>\n",
       "<p>6838 rows × 6 columns</p>\n",
       "</div>"
      ],
      "text/plain": [
       "              name                                            article  \\\n",
       "0     001_개인정보취급방침  제2조(개인정보의 처리 및 보유기간)\\n\\n ?① 협회는 법령에 따른 개인정보 보유...   \n",
       "1      001_결혼정보서비스  제3조 (회원가입)\\n\\n\\n?① 회원이 되려고 하는 사람은 결혼관련 개인정보를 회...   \n",
       "2           001_보증  제2조(보증금액)\\n\\n?\\n?\\n?\\n1. 이 보증서에 의한 보증금액은 채권자의 ...   \n",
       "3         001_사이버몰  제25조 (약관 등의 명시와 설명 및 개정)\\n\\n\\n?\\n?\\n?\\n1 몰은 이 ...   \n",
       "4         001_손해보험  제7조(보험금의 지급절차) \\n\\n\\n?① 회사는 제6조(보험금의 청구)에서 정한 ...   \n",
       "...            ...                                                ...   \n",
       "6833     514_임대차계약  제6조 (계약해제 및 위약금)\\n\\n?\\n?\\n?\\n1. 을이 아래 각 호 1에 해...   \n",
       "6834     517_임대차계약  제6조 (계약해제 및 위약금)\\n\\n?\\n?\\n?\\n1. 을이 아래 각 호 1에 해...   \n",
       "6835     625_임대차계약  제6조 (계약해제 및 위약금)\\n\\n?\\n?\\n?\\n1. 을이 아래 각 호 1에 해...   \n",
       "6836     629_임대차계약  제2조 (임 대 료)\\n\\n?\\n?\\n?\\n1. 을은 월 임대료를 매월 일까지 갑에...   \n",
       "6837     631_임대차계약  제6조 (계약해제 및 위약금)\\n\\n?\\n?\\n?\\n1. 을이 아래 각 호 1에 해...   \n",
       "\n",
       "                                                summary  \\\n",
       "0     제2조(개인정보의 처리 및 보유기간) \\n?① 협회는 법령에 따른 개인정보 보유․이...   \n",
       "1     제3조 (회원가입)\\n?① 회원이 되려고 하는 사람은 결혼관련 개인정보를 회사에 제...   \n",
       "2     제2조(보증금액)\\n ?① 이 보증서에 의한 보증금액은 채권자의 채무자에 대한 보증...   \n",
       "3     제3조 (약관 등의 명시와 설명 및 개정)\\n?① 몰은 이 약관의 내용과 상호 및 ...   \n",
       "4     제7조(보험금의 지급절차) \\n?① 회사는 제6조(보험금의 청구)에서 정한 서류를 ...   \n",
       "...                                                 ...   \n",
       "6833  제30조 (명도대행)\\n?\\n?\\n제1항 갑이 본 계약 종료 후에도 자기 소유물, ...   \n",
       "6834  제10조(계약의 해지)\\n?\\n?\\n?\\n제2항 다음 각 항에 해당하는 사유가 발생...   \n",
       "6835  제6조(계약해제권 행사 완화)\\n?\\n?\\n제1항 본계약 및 관리규정상의 업무를 불...   \n",
       "6836  제2조 (임대료의 기산등)\\n?\\n?\\n제1항 이계약에 의한 임대료는 다른 약정이 ...   \n",
       "6837  제11조(해약사유)\\n?\\n?\\n제1항 본 계약은 다음 사항에 해당할 때에는 해약한...   \n",
       "\n",
       "                                           article_sent  \\\n",
       "0     [제2조(개인정보의 처리 및 보유기간), ① 협회는 법령에 따른 개인정보 보유․이용...   \n",
       "1     [제3조 (회원가입), ① 회원이 되려고 하는 사람은 결혼관련 개인정보를 회사에 제...   \n",
       "2     [제2조(보증금액), 1. 이 보증서에 의한 보증금액은 채권자의 채무자에 대한 보증...   \n",
       "3     [제25조 (약관 등의 명시와 설명 및 개정), 1 몰은 이 약관의 내용과 상호 및...   \n",
       "4     [제7조(보험금의 지급절차), ① 회사는 제6조(보험금의 청구)에서 정한 서류를 접...   \n",
       "...                                                 ...   \n",
       "6833  [제6조 (계약해제 및 위약금), 1. 을이 아래 각 호 1에 해당할 경우에는 을은...   \n",
       "6834  [제6조 (계약해제 및 위약금), 1. 을이 아래 각 호 1에 해당할 경우에는 을은...   \n",
       "6835  [제6조 (계약해제 및 위약금), 1. 을이 아래 각 호 1에 해당할 경우에는 을은...   \n",
       "6836  [제2조 (임 대 료), 1. 을은 월 임대료를 매월 일까지 갑에게 당월 분 임대료...   \n",
       "6837  [제6조 (계약해제 및 위약금), 1. 을이 아래 각 호 1에 해당할 경우에는 을은...   \n",
       "\n",
       "                                           summary_sent  \\\n",
       "0     [제2조(개인정보의 처리 및 보유기간), ① 협회는 법령에 따른 개인정보 보유․이용...   \n",
       "1     [제3조 (회원가입), ① 회원이 되려고 하는 사람은 결혼관련 개인정보를 회사에 제...   \n",
       "2     [제2조(보증금액), ① 이 보증서에 의한 보증금액은 채권자의 채무자에 대한 보증부...   \n",
       "3     [제3조 (약관 등의 명시와 설명 및 개정), ① 몰은 이 약관의 내용과 상호 및 ...   \n",
       "4     [제7조(보험금의 지급절차), ① 회사는 제6조(보험금의 청구)에서 정한 서류를 접...   \n",
       "...                                                 ...   \n",
       "6833  [제30조 (명도대행), 제1항 갑이 본 계약 종료 후에도 자기 소유물, 시설물 등...   \n",
       "6834  [제10조(계약의 해지), 제2항 다음 각 항에 해당하는 사유가 발생한 경우 을은 ...   \n",
       "6835  [제6조(계약해제권 행사 완화), 제1항 본계약 및 관리규정상의 업무를 불이행 또는...   \n",
       "6836  [제2조 (임대료의 기산등), 제1항 이계약에 의한 임대료는 다른 약정이 없는 한 ...   \n",
       "6837  [제11조(해약사유), 제1항 본 계약은 다음 사항에 해당할 때에는 해약한다., 제...   \n",
       "\n",
       "                                        label  \n",
       "0                                [1, 1, 0, 0]  \n",
       "1                                      [1, 1]  \n",
       "2                                      [1, 1]  \n",
       "3                                      [0, 1]  \n",
       "4                                   [1, 1, 0]  \n",
       "...                                       ...  \n",
       "6833  [0, 0, 0, 0, 0, 0, 0, 0, 0, 0, 0, 0, 0]  \n",
       "6834  [0, 0, 0, 0, 0, 0, 0, 0, 0, 0, 0, 0, 0]  \n",
       "6835  [0, 0, 0, 0, 0, 0, 0, 0, 0, 0, 0, 0, 0]  \n",
       "6836                    [0, 0, 1, 0, 0, 0, 0]  \n",
       "6837  [0, 0, 0, 0, 0, 0, 0, 0, 0, 0, 0, 0, 0]  \n",
       "\n",
       "[6838 rows x 6 columns]"
      ]
     },
     "execution_count": 35,
     "metadata": {},
     "output_type": "execute_result"
    }
   ],
   "source": [
    "arti_df"
   ]
  },
  {
   "cell_type": "code",
   "execution_count": 36,
   "metadata": {},
   "outputs": [
    {
     "name": "stdout",
     "output_type": "stream",
     "text": [
      "236\n"
     ]
    }
   ],
   "source": [
    "drop_index = arti_df.loc[arti_df['label'].apply(sum)==0].index\n",
    "print(len(drop_index))\n",
    "arti_df.drop(drop_index,inplace=True)"
   ]
  },
  {
   "cell_type": "code",
   "execution_count": 37,
   "metadata": {},
   "outputs": [
    {
     "data": {
      "text/html": [
       "<div>\n",
       "<style scoped>\n",
       "    .dataframe tbody tr th:only-of-type {\n",
       "        vertical-align: middle;\n",
       "    }\n",
       "\n",
       "    .dataframe tbody tr th {\n",
       "        vertical-align: top;\n",
       "    }\n",
       "\n",
       "    .dataframe thead th {\n",
       "        text-align: right;\n",
       "    }\n",
       "</style>\n",
       "<table border=\"1\" class=\"dataframe\">\n",
       "  <thead>\n",
       "    <tr style=\"text-align: right;\">\n",
       "      <th></th>\n",
       "      <th>name</th>\n",
       "      <th>article</th>\n",
       "      <th>summary</th>\n",
       "      <th>article_sent</th>\n",
       "      <th>summary_sent</th>\n",
       "      <th>label</th>\n",
       "    </tr>\n",
       "  </thead>\n",
       "  <tbody>\n",
       "  </tbody>\n",
       "</table>\n",
       "</div>"
      ],
      "text/plain": [
       "Empty DataFrame\n",
       "Columns: [name, article, summary, article_sent, summary_sent, label]\n",
       "Index: []"
      ]
     },
     "execution_count": 37,
     "metadata": {},
     "output_type": "execute_result"
    }
   ],
   "source": [
    "arti_df.loc[arti_df['label'].apply(sum)==0]"
   ]
  },
  {
   "cell_type": "code",
   "execution_count": 38,
   "metadata": {},
   "outputs": [],
   "source": [
    "arti_df.reset_index(drop=True,inplace=True)"
   ]
  },
  {
   "cell_type": "code",
   "execution_count": 39,
   "metadata": {},
   "outputs": [
    {
     "data": {
      "text/html": [
       "<div>\n",
       "<style scoped>\n",
       "    .dataframe tbody tr th:only-of-type {\n",
       "        vertical-align: middle;\n",
       "    }\n",
       "\n",
       "    .dataframe tbody tr th {\n",
       "        vertical-align: top;\n",
       "    }\n",
       "\n",
       "    .dataframe thead th {\n",
       "        text-align: right;\n",
       "    }\n",
       "</style>\n",
       "<table border=\"1\" class=\"dataframe\">\n",
       "  <thead>\n",
       "    <tr style=\"text-align: right;\">\n",
       "      <th></th>\n",
       "      <th>name</th>\n",
       "      <th>article</th>\n",
       "      <th>summary</th>\n",
       "      <th>article_sent</th>\n",
       "      <th>summary_sent</th>\n",
       "      <th>label</th>\n",
       "    </tr>\n",
       "  </thead>\n",
       "  <tbody>\n",
       "    <tr>\n",
       "      <th>0</th>\n",
       "      <td>001_개인정보취급방침</td>\n",
       "      <td>제2조(개인정보의 처리 및 보유기간)\\n\\n ?① 협회는 법령에 따른 개인정보 보유...</td>\n",
       "      <td>제2조(개인정보의 처리 및 보유기간) \\n?① 협회는 법령에 따른 개인정보 보유․이...</td>\n",
       "      <td>[제2조(개인정보의 처리 및 보유기간), ① 협회는 법령에 따른 개인정보 보유․이용...</td>\n",
       "      <td>[제2조(개인정보의 처리 및 보유기간), ① 협회는 법령에 따른 개인정보 보유․이용...</td>\n",
       "      <td>[1, 1, 0, 0]</td>\n",
       "    </tr>\n",
       "    <tr>\n",
       "      <th>1</th>\n",
       "      <td>001_결혼정보서비스</td>\n",
       "      <td>제3조 (회원가입)\\n\\n\\n?① 회원이 되려고 하는 사람은 결혼관련 개인정보를 회...</td>\n",
       "      <td>제3조 (회원가입)\\n?① 회원이 되려고 하는 사람은 결혼관련 개인정보를 회사에 제...</td>\n",
       "      <td>[제3조 (회원가입), ① 회원이 되려고 하는 사람은 결혼관련 개인정보를 회사에 제...</td>\n",
       "      <td>[제3조 (회원가입), ① 회원이 되려고 하는 사람은 결혼관련 개인정보를 회사에 제...</td>\n",
       "      <td>[1, 1]</td>\n",
       "    </tr>\n",
       "    <tr>\n",
       "      <th>2</th>\n",
       "      <td>001_보증</td>\n",
       "      <td>제2조(보증금액)\\n\\n?\\n?\\n?\\n1. 이 보증서에 의한 보증금액은 채권자의 ...</td>\n",
       "      <td>제2조(보증금액)\\n ?① 이 보증서에 의한 보증금액은 채권자의 채무자에 대한 보증...</td>\n",
       "      <td>[제2조(보증금액), 1. 이 보증서에 의한 보증금액은 채권자의 채무자에 대한 보증...</td>\n",
       "      <td>[제2조(보증금액), ① 이 보증서에 의한 보증금액은 채권자의 채무자에 대한 보증부...</td>\n",
       "      <td>[1, 1]</td>\n",
       "    </tr>\n",
       "    <tr>\n",
       "      <th>3</th>\n",
       "      <td>001_사이버몰</td>\n",
       "      <td>제25조 (약관 등의 명시와 설명 및 개정)\\n\\n\\n?\\n?\\n?\\n1 몰은 이 ...</td>\n",
       "      <td>제3조 (약관 등의 명시와 설명 및 개정)\\n?① 몰은 이 약관의 내용과 상호 및 ...</td>\n",
       "      <td>[제25조 (약관 등의 명시와 설명 및 개정), 1 몰은 이 약관의 내용과 상호 및...</td>\n",
       "      <td>[제3조 (약관 등의 명시와 설명 및 개정), ① 몰은 이 약관의 내용과 상호 및 ...</td>\n",
       "      <td>[0, 1]</td>\n",
       "    </tr>\n",
       "    <tr>\n",
       "      <th>4</th>\n",
       "      <td>001_손해보험</td>\n",
       "      <td>제7조(보험금의 지급절차) \\n\\n\\n?① 회사는 제6조(보험금의 청구)에서 정한 ...</td>\n",
       "      <td>제7조(보험금의 지급절차) \\n?① 회사는 제6조(보험금의 청구)에서 정한 서류를 ...</td>\n",
       "      <td>[제7조(보험금의 지급절차), ① 회사는 제6조(보험금의 청구)에서 정한 서류를 접...</td>\n",
       "      <td>[제7조(보험금의 지급절차), ① 회사는 제6조(보험금의 청구)에서 정한 서류를 접...</td>\n",
       "      <td>[1, 1, 0]</td>\n",
       "    </tr>\n",
       "    <tr>\n",
       "      <th>...</th>\n",
       "      <td>...</td>\n",
       "      <td>...</td>\n",
       "      <td>...</td>\n",
       "      <td>...</td>\n",
       "      <td>...</td>\n",
       "      <td>...</td>\n",
       "    </tr>\n",
       "    <tr>\n",
       "      <th>6597</th>\n",
       "      <td>353_분양계약</td>\n",
       "      <td>제7조(시설물의 유지 관리)\\n\\n?\\n?\\n제2항. 갑은 단지 관리상 필요하다고 ...</td>\n",
       "      <td>제7조(시설물의 유지 관리)\\n갑은 단지 관리상 필요하다고 인정할 때에는 을에게 사...</td>\n",
       "      <td>[제7조(시설물의 유지 관리), 제2항. 갑은 단지 관리상 필요하다고 인정할 때에는...</td>\n",
       "      <td>[제7조(시설물의 유지 관리)갑은 단지 관리상 필요하다고 인정할 때에는 을에게 사전...</td>\n",
       "      <td>[0, 1]</td>\n",
       "    </tr>\n",
       "    <tr>\n",
       "      <th>6598</th>\n",
       "      <td>354_분양계약</td>\n",
       "      <td>제8조(해제)\\n\\n?\\n?\\n제4항. 갑은 이 계약이 해제되었을 때 을이 기불입...</td>\n",
       "      <td>제8조(해제)\\n갑은 이 계약이 해제되었을 때 을이 기불입한 전납금, 융자금에 대한...</td>\n",
       "      <td>[제8조(해제), 제4항. 갑은 이 계약이 해제되었을 때 을이 기불입한 전납금, 융...</td>\n",
       "      <td>[제8조(해제)갑은 이 계약이 해제되었을 때 을이 기불입한 전납금, 융자금에 대한 ...</td>\n",
       "      <td>[0, 1]</td>\n",
       "    </tr>\n",
       "    <tr>\n",
       "      <th>6599</th>\n",
       "      <td>448_임대차계약</td>\n",
       "      <td>제18조 (갑의 면책사항)\\n\\n?\\n?\\n?\\n1. 도난, 천재지변 기타 불가항력...</td>\n",
       "      <td>제18조\\n?\\n?\\n제2항  도난,화재 기타 불가항력적인  사고로 발생되는  일체...</td>\n",
       "      <td>[제18조 (갑의 면책사항), 1. 도난, 천재지변 기타 불가항력적 사유로 인한 사...</td>\n",
       "      <td>[제18조, 제2항  도난,화재 기타 불가항력적인  사고로 발생되는  일체의 손실에...</td>\n",
       "      <td>[0, 1, 0]</td>\n",
       "    </tr>\n",
       "    <tr>\n",
       "      <th>6600</th>\n",
       "      <td>458_임대차계약</td>\n",
       "      <td>제20조(갑의 면책사항)\\n\\n?\\n?\\n제1항 을은 목적 건물내에서 발생한 모든 ...</td>\n",
       "      <td>제8조(갑의 면책사항)\\n?\\n?\\n제1항 을은 목적 건물내에서 발생한 모든 사고에...</td>\n",
       "      <td>[제20조(갑의 면책사항), 제1항 을은 목적 건물내에서 발생한 모든 사고에 대해서...</td>\n",
       "      <td>[제8조(갑의 면책사항), 제1항 을은 목적 건물내에서 발생한 모든 사고에 대해서 ...</td>\n",
       "      <td>[0, 1]</td>\n",
       "    </tr>\n",
       "    <tr>\n",
       "      <th>6601</th>\n",
       "      <td>629_임대차계약</td>\n",
       "      <td>제2조 (임 대 료)\\n\\n?\\n?\\n?\\n1. 을은 월 임대료를 매월 일까지 갑에...</td>\n",
       "      <td>제2조 (임대료의 기산등)\\n?\\n?\\n제1항 이계약에 의한 임대료는 다른 약정이 ...</td>\n",
       "      <td>[제2조 (임 대 료), 1. 을은 월 임대료를 매월 일까지 갑에게 당월 분 임대료...</td>\n",
       "      <td>[제2조 (임대료의 기산등), 제1항 이계약에 의한 임대료는 다른 약정이 없는 한 ...</td>\n",
       "      <td>[0, 0, 1, 0, 0, 0, 0]</td>\n",
       "    </tr>\n",
       "  </tbody>\n",
       "</table>\n",
       "<p>6602 rows × 6 columns</p>\n",
       "</div>"
      ],
      "text/plain": [
       "              name                                            article  \\\n",
       "0     001_개인정보취급방침  제2조(개인정보의 처리 및 보유기간)\\n\\n ?① 협회는 법령에 따른 개인정보 보유...   \n",
       "1      001_결혼정보서비스  제3조 (회원가입)\\n\\n\\n?① 회원이 되려고 하는 사람은 결혼관련 개인정보를 회...   \n",
       "2           001_보증  제2조(보증금액)\\n\\n?\\n?\\n?\\n1. 이 보증서에 의한 보증금액은 채권자의 ...   \n",
       "3         001_사이버몰  제25조 (약관 등의 명시와 설명 및 개정)\\n\\n\\n?\\n?\\n?\\n1 몰은 이 ...   \n",
       "4         001_손해보험  제7조(보험금의 지급절차) \\n\\n\\n?① 회사는 제6조(보험금의 청구)에서 정한 ...   \n",
       "...            ...                                                ...   \n",
       "6597      353_분양계약  제7조(시설물의 유지 관리)\\n\\n?\\n?\\n제2항. 갑은 단지 관리상 필요하다고 ...   \n",
       "6598      354_분양계약   제8조(해제)\\n\\n?\\n?\\n제4항. 갑은 이 계약이 해제되었을 때 을이 기불입...   \n",
       "6599     448_임대차계약  제18조 (갑의 면책사항)\\n\\n?\\n?\\n?\\n1. 도난, 천재지변 기타 불가항력...   \n",
       "6600     458_임대차계약  제20조(갑의 면책사항)\\n\\n?\\n?\\n제1항 을은 목적 건물내에서 발생한 모든 ...   \n",
       "6601     629_임대차계약  제2조 (임 대 료)\\n\\n?\\n?\\n?\\n1. 을은 월 임대료를 매월 일까지 갑에...   \n",
       "\n",
       "                                                summary  \\\n",
       "0     제2조(개인정보의 처리 및 보유기간) \\n?① 협회는 법령에 따른 개인정보 보유․이...   \n",
       "1     제3조 (회원가입)\\n?① 회원이 되려고 하는 사람은 결혼관련 개인정보를 회사에 제...   \n",
       "2     제2조(보증금액)\\n ?① 이 보증서에 의한 보증금액은 채권자의 채무자에 대한 보증...   \n",
       "3     제3조 (약관 등의 명시와 설명 및 개정)\\n?① 몰은 이 약관의 내용과 상호 및 ...   \n",
       "4     제7조(보험금의 지급절차) \\n?① 회사는 제6조(보험금의 청구)에서 정한 서류를 ...   \n",
       "...                                                 ...   \n",
       "6597  제7조(시설물의 유지 관리)\\n갑은 단지 관리상 필요하다고 인정할 때에는 을에게 사...   \n",
       "6598  제8조(해제)\\n갑은 이 계약이 해제되었을 때 을이 기불입한 전납금, 융자금에 대한...   \n",
       "6599  제18조\\n?\\n?\\n제2항  도난,화재 기타 불가항력적인  사고로 발생되는  일체...   \n",
       "6600  제8조(갑의 면책사항)\\n?\\n?\\n제1항 을은 목적 건물내에서 발생한 모든 사고에...   \n",
       "6601  제2조 (임대료의 기산등)\\n?\\n?\\n제1항 이계약에 의한 임대료는 다른 약정이 ...   \n",
       "\n",
       "                                           article_sent  \\\n",
       "0     [제2조(개인정보의 처리 및 보유기간), ① 협회는 법령에 따른 개인정보 보유․이용...   \n",
       "1     [제3조 (회원가입), ① 회원이 되려고 하는 사람은 결혼관련 개인정보를 회사에 제...   \n",
       "2     [제2조(보증금액), 1. 이 보증서에 의한 보증금액은 채권자의 채무자에 대한 보증...   \n",
       "3     [제25조 (약관 등의 명시와 설명 및 개정), 1 몰은 이 약관의 내용과 상호 및...   \n",
       "4     [제7조(보험금의 지급절차), ① 회사는 제6조(보험금의 청구)에서 정한 서류를 접...   \n",
       "...                                                 ...   \n",
       "6597  [제7조(시설물의 유지 관리), 제2항. 갑은 단지 관리상 필요하다고 인정할 때에는...   \n",
       "6598  [제8조(해제), 제4항. 갑은 이 계약이 해제되었을 때 을이 기불입한 전납금, 융...   \n",
       "6599  [제18조 (갑의 면책사항), 1. 도난, 천재지변 기타 불가항력적 사유로 인한 사...   \n",
       "6600  [제20조(갑의 면책사항), 제1항 을은 목적 건물내에서 발생한 모든 사고에 대해서...   \n",
       "6601  [제2조 (임 대 료), 1. 을은 월 임대료를 매월 일까지 갑에게 당월 분 임대료...   \n",
       "\n",
       "                                           summary_sent                  label  \n",
       "0     [제2조(개인정보의 처리 및 보유기간), ① 협회는 법령에 따른 개인정보 보유․이용...           [1, 1, 0, 0]  \n",
       "1     [제3조 (회원가입), ① 회원이 되려고 하는 사람은 결혼관련 개인정보를 회사에 제...                 [1, 1]  \n",
       "2     [제2조(보증금액), ① 이 보증서에 의한 보증금액은 채권자의 채무자에 대한 보증부...                 [1, 1]  \n",
       "3     [제3조 (약관 등의 명시와 설명 및 개정), ① 몰은 이 약관의 내용과 상호 및 ...                 [0, 1]  \n",
       "4     [제7조(보험금의 지급절차), ① 회사는 제6조(보험금의 청구)에서 정한 서류를 접...              [1, 1, 0]  \n",
       "...                                                 ...                    ...  \n",
       "6597  [제7조(시설물의 유지 관리)갑은 단지 관리상 필요하다고 인정할 때에는 을에게 사전...                 [0, 1]  \n",
       "6598  [제8조(해제)갑은 이 계약이 해제되었을 때 을이 기불입한 전납금, 융자금에 대한 ...                 [0, 1]  \n",
       "6599  [제18조, 제2항  도난,화재 기타 불가항력적인  사고로 발생되는  일체의 손실에...              [0, 1, 0]  \n",
       "6600  [제8조(갑의 면책사항), 제1항 을은 목적 건물내에서 발생한 모든 사고에 대해서 ...                 [0, 1]  \n",
       "6601  [제2조 (임대료의 기산등), 제1항 이계약에 의한 임대료는 다른 약정이 없는 한 ...  [0, 0, 1, 0, 0, 0, 0]  \n",
       "\n",
       "[6602 rows x 6 columns]"
      ]
     },
     "execution_count": 39,
     "metadata": {},
     "output_type": "execute_result"
    }
   ],
   "source": [
    "arti_df"
   ]
  },
  {
   "cell_type": "code",
   "execution_count": 43,
   "metadata": {},
   "outputs": [],
   "source": [
    "arti_df.to_csv('./preprocessed_data/sentence_data.csv')"
   ]
  },
  {
   "attachments": {},
   "cell_type": "markdown",
   "metadata": {},
   "source": [
    "### 데이터 형식에 맞게 저장"
   ]
  },
  {
   "cell_type": "code",
   "execution_count": 4,
   "metadata": {},
   "outputs": [],
   "source": [
    "# kobertsum\n",
    "import pandas as pd\n",
    "import numpy as np\n",
    "from sklearn.model_selection import train_test_split\n",
    "df = pd.read_csv('./preprocessed_data/data.csv',index_col=[0])\n",
    "arti_df = pd.read_csv('./preprocessed_data/sentence_data.csv',index_col=[0])\n",
    "arti_df['article_sent'] = arti_df['article_sent'].apply(lambda x: eval(x))\n",
    "arti_df['summary_sent'] = arti_df['summary_sent'].apply(lambda x: eval(x))\n",
    "arti_df['label'] = arti_df['label'].apply(lambda x: eval(x))"
   ]
  },
  {
   "cell_type": "code",
   "execution_count": 5,
   "metadata": {},
   "outputs": [],
   "source": [
    "kobertsum_df = pd.merge(arti_df[['name','article_sent','summary_sent','label']],df[['category','name','ad_label']],on='name',how='left')"
   ]
  },
  {
   "cell_type": "code",
   "execution_count": 6,
   "metadata": {},
   "outputs": [],
   "source": [
    "kobertsum_df['extractive'] = kobertsum_df['label'].apply(lambda x: np.where(np.array(x) == 1)[0])\n",
    "kobertsum_df['extractive'] = kobertsum_df['extractive'].apply(lambda x: x.tolist())"
   ]
  },
  {
   "cell_type": "code",
   "execution_count": 7,
   "metadata": {},
   "outputs": [
    {
     "data": {
      "text/html": [
       "<div>\n",
       "<style scoped>\n",
       "    .dataframe tbody tr th:only-of-type {\n",
       "        vertical-align: middle;\n",
       "    }\n",
       "\n",
       "    .dataframe tbody tr th {\n",
       "        vertical-align: top;\n",
       "    }\n",
       "\n",
       "    .dataframe thead th {\n",
       "        text-align: right;\n",
       "    }\n",
       "</style>\n",
       "<table border=\"1\" class=\"dataframe\">\n",
       "  <thead>\n",
       "    <tr style=\"text-align: right;\">\n",
       "      <th></th>\n",
       "      <th>media</th>\n",
       "      <th>id</th>\n",
       "      <th>ad_label</th>\n",
       "      <th>article_original</th>\n",
       "      <th>extractive_sents</th>\n",
       "      <th>extractive</th>\n",
       "    </tr>\n",
       "  </thead>\n",
       "  <tbody>\n",
       "    <tr>\n",
       "      <th>0</th>\n",
       "      <td>24. 개인정보취급방침</td>\n",
       "      <td>001_개인정보취급방침</td>\n",
       "      <td>1</td>\n",
       "      <td>[제2조(개인정보의 처리 및 보유기간), ① 협회는 법령에 따른 개인정보 보유․이용...</td>\n",
       "      <td>[제2조(개인정보의 처리 및 보유기간), ① 협회는 법령에 따른 개인정보 보유․이용...</td>\n",
       "      <td>[0, 1]</td>\n",
       "    </tr>\n",
       "    <tr>\n",
       "      <th>1</th>\n",
       "      <td>27. 결혼정보서비스</td>\n",
       "      <td>001_결혼정보서비스</td>\n",
       "      <td>1</td>\n",
       "      <td>[제3조 (회원가입), ① 회원이 되려고 하는 사람은 결혼관련 개인정보를 회사에 제...</td>\n",
       "      <td>[제3조 (회원가입), ① 회원이 되려고 하는 사람은 결혼관련 개인정보를 회사에 제...</td>\n",
       "      <td>[0, 1]</td>\n",
       "    </tr>\n",
       "    <tr>\n",
       "      <th>2</th>\n",
       "      <td>30.보증</td>\n",
       "      <td>001_보증</td>\n",
       "      <td>1</td>\n",
       "      <td>[제2조(보증금액), 1. 이 보증서에 의한 보증금액은 채권자의 채무자에 대한 보증...</td>\n",
       "      <td>[제2조(보증금액), ① 이 보증서에 의한 보증금액은 채권자의 채무자에 대한 보증부...</td>\n",
       "      <td>[0, 1]</td>\n",
       "    </tr>\n",
       "    <tr>\n",
       "      <th>3</th>\n",
       "      <td>31. 사이버몰</td>\n",
       "      <td>001_사이버몰</td>\n",
       "      <td>1</td>\n",
       "      <td>[제25조 (약관 등의 명시와 설명 및 개정), 1 몰은 이 약관의 내용과 상호 및...</td>\n",
       "      <td>[제3조 (약관 등의 명시와 설명 및 개정), ① 몰은 이 약관의 내용과 상호 및 ...</td>\n",
       "      <td>[1]</td>\n",
       "    </tr>\n",
       "    <tr>\n",
       "      <th>4</th>\n",
       "      <td>13. 손해보험</td>\n",
       "      <td>001_손해보험</td>\n",
       "      <td>1</td>\n",
       "      <td>[제7조(보험금의 지급절차), ① 회사는 제6조(보험금의 청구)에서 정한 서류를 접...</td>\n",
       "      <td>[제7조(보험금의 지급절차), ① 회사는 제6조(보험금의 청구)에서 정한 서류를 접...</td>\n",
       "      <td>[0, 1]</td>\n",
       "    </tr>\n",
       "    <tr>\n",
       "      <th>...</th>\n",
       "      <td>...</td>\n",
       "      <td>...</td>\n",
       "      <td>...</td>\n",
       "      <td>...</td>\n",
       "      <td>...</td>\n",
       "      <td>...</td>\n",
       "    </tr>\n",
       "    <tr>\n",
       "      <th>6597</th>\n",
       "      <td>3. 분양계약_PDF</td>\n",
       "      <td>353_분양계약</td>\n",
       "      <td>2</td>\n",
       "      <td>[제7조(시설물의 유지 관리), 제2항. 갑은 단지 관리상 필요하다고 인정할 때에는...</td>\n",
       "      <td>[제7조(시설물의 유지 관리)갑은 단지 관리상 필요하다고 인정할 때에는 을에게 사전...</td>\n",
       "      <td>[1]</td>\n",
       "    </tr>\n",
       "    <tr>\n",
       "      <th>6598</th>\n",
       "      <td>3. 분양계약_PDF</td>\n",
       "      <td>354_분양계약</td>\n",
       "      <td>2</td>\n",
       "      <td>[제8조(해제), 제4항. 갑은 이 계약이 해제되었을 때 을이 기불입한 전납금, 융...</td>\n",
       "      <td>[제8조(해제)갑은 이 계약이 해제되었을 때 을이 기불입한 전납금, 융자금에 대한 ...</td>\n",
       "      <td>[1]</td>\n",
       "    </tr>\n",
       "    <tr>\n",
       "      <th>6599</th>\n",
       "      <td>5. 임대차계약</td>\n",
       "      <td>448_임대차계약</td>\n",
       "      <td>2</td>\n",
       "      <td>[제18조 (갑의 면책사항), 1. 도난, 천재지변 기타 불가항력적 사유로 인한 사...</td>\n",
       "      <td>[제18조, 제2항  도난,화재 기타 불가항력적인  사고로 발생되는  일체의 손실에...</td>\n",
       "      <td>[1]</td>\n",
       "    </tr>\n",
       "    <tr>\n",
       "      <th>6600</th>\n",
       "      <td>5. 임대차계약</td>\n",
       "      <td>458_임대차계약</td>\n",
       "      <td>2</td>\n",
       "      <td>[제20조(갑의 면책사항), 제1항 을은 목적 건물내에서 발생한 모든 사고에 대해서...</td>\n",
       "      <td>[제8조(갑의 면책사항), 제1항 을은 목적 건물내에서 발생한 모든 사고에 대해서 ...</td>\n",
       "      <td>[1]</td>\n",
       "    </tr>\n",
       "    <tr>\n",
       "      <th>6601</th>\n",
       "      <td>5. 임대차계약</td>\n",
       "      <td>629_임대차계약</td>\n",
       "      <td>2</td>\n",
       "      <td>[제2조 (임 대 료), 1. 을은 월 임대료를 매월 일까지 갑에게 당월 분 임대료...</td>\n",
       "      <td>[제2조 (임대료의 기산등), 제1항 이계약에 의한 임대료는 다른 약정이 없는 한 ...</td>\n",
       "      <td>[2]</td>\n",
       "    </tr>\n",
       "  </tbody>\n",
       "</table>\n",
       "<p>6602 rows × 6 columns</p>\n",
       "</div>"
      ],
      "text/plain": [
       "             media            id  ad_label  \\\n",
       "0     24. 개인정보취급방침  001_개인정보취급방침         1   \n",
       "1      27. 결혼정보서비스   001_결혼정보서비스         1   \n",
       "2            30.보증        001_보증         1   \n",
       "3         31. 사이버몰      001_사이버몰         1   \n",
       "4         13. 손해보험      001_손해보험         1   \n",
       "...            ...           ...       ...   \n",
       "6597   3. 분양계약_PDF      353_분양계약         2   \n",
       "6598   3. 분양계약_PDF      354_분양계약         2   \n",
       "6599      5. 임대차계약     448_임대차계약         2   \n",
       "6600      5. 임대차계약     458_임대차계약         2   \n",
       "6601      5. 임대차계약     629_임대차계약         2   \n",
       "\n",
       "                                       article_original  \\\n",
       "0     [제2조(개인정보의 처리 및 보유기간), ① 협회는 법령에 따른 개인정보 보유․이용...   \n",
       "1     [제3조 (회원가입), ① 회원이 되려고 하는 사람은 결혼관련 개인정보를 회사에 제...   \n",
       "2     [제2조(보증금액), 1. 이 보증서에 의한 보증금액은 채권자의 채무자에 대한 보증...   \n",
       "3     [제25조 (약관 등의 명시와 설명 및 개정), 1 몰은 이 약관의 내용과 상호 및...   \n",
       "4     [제7조(보험금의 지급절차), ① 회사는 제6조(보험금의 청구)에서 정한 서류를 접...   \n",
       "...                                                 ...   \n",
       "6597  [제7조(시설물의 유지 관리), 제2항. 갑은 단지 관리상 필요하다고 인정할 때에는...   \n",
       "6598  [제8조(해제), 제4항. 갑은 이 계약이 해제되었을 때 을이 기불입한 전납금, 융...   \n",
       "6599  [제18조 (갑의 면책사항), 1. 도난, 천재지변 기타 불가항력적 사유로 인한 사...   \n",
       "6600  [제20조(갑의 면책사항), 제1항 을은 목적 건물내에서 발생한 모든 사고에 대해서...   \n",
       "6601  [제2조 (임 대 료), 1. 을은 월 임대료를 매월 일까지 갑에게 당월 분 임대료...   \n",
       "\n",
       "                                       extractive_sents extractive  \n",
       "0     [제2조(개인정보의 처리 및 보유기간), ① 협회는 법령에 따른 개인정보 보유․이용...     [0, 1]  \n",
       "1     [제3조 (회원가입), ① 회원이 되려고 하는 사람은 결혼관련 개인정보를 회사에 제...     [0, 1]  \n",
       "2     [제2조(보증금액), ① 이 보증서에 의한 보증금액은 채권자의 채무자에 대한 보증부...     [0, 1]  \n",
       "3     [제3조 (약관 등의 명시와 설명 및 개정), ① 몰은 이 약관의 내용과 상호 및 ...        [1]  \n",
       "4     [제7조(보험금의 지급절차), ① 회사는 제6조(보험금의 청구)에서 정한 서류를 접...     [0, 1]  \n",
       "...                                                 ...        ...  \n",
       "6597  [제7조(시설물의 유지 관리)갑은 단지 관리상 필요하다고 인정할 때에는 을에게 사전...        [1]  \n",
       "6598  [제8조(해제)갑은 이 계약이 해제되었을 때 을이 기불입한 전납금, 융자금에 대한 ...        [1]  \n",
       "6599  [제18조, 제2항  도난,화재 기타 불가항력적인  사고로 발생되는  일체의 손실에...        [1]  \n",
       "6600  [제8조(갑의 면책사항), 제1항 을은 목적 건물내에서 발생한 모든 사고에 대해서 ...        [1]  \n",
       "6601  [제2조 (임대료의 기산등), 제1항 이계약에 의한 임대료는 다른 약정이 없는 한 ...        [2]  \n",
       "\n",
       "[6602 rows x 6 columns]"
      ]
     },
     "execution_count": 7,
     "metadata": {},
     "output_type": "execute_result"
    }
   ],
   "source": [
    "kobertsum_df = kobertsum_df[['category','name','ad_label','article_sent','summary_sent','extractive']]\n",
    "kobertsum_df.columns = ['media','id','ad_label','article_original','extractive_sents','extractive']\n",
    "kobertsum_df"
   ]
  },
  {
   "cell_type": "code",
   "execution_count": 8,
   "metadata": {},
   "outputs": [],
   "source": [
    "kob_train,kob_test = train_test_split(kobertsum_df,test_size=0.2,shuffle=True,random_state=45)\n",
    "kob_valid,kob_test = train_test_split(kob_test,test_size=0.5,shuffle=True,random_state=45)"
   ]
  },
  {
   "cell_type": "code",
   "execution_count": 9,
   "metadata": {},
   "outputs": [
    {
     "name": "stdout",
     "output_type": "stream",
     "text": [
      "5281\n",
      "660\n",
      "661\n"
     ]
    }
   ],
   "source": [
    "print(len(kob_train))\n",
    "print(len(kob_valid))\n",
    "print(len(kob_test))"
   ]
  },
  {
   "cell_type": "code",
   "execution_count": 10,
   "metadata": {},
   "outputs": [
    {
     "data": {
      "text/html": [
       "<div>\n",
       "<style scoped>\n",
       "    .dataframe tbody tr th:only-of-type {\n",
       "        vertical-align: middle;\n",
       "    }\n",
       "\n",
       "    .dataframe tbody tr th {\n",
       "        vertical-align: top;\n",
       "    }\n",
       "\n",
       "    .dataframe thead th {\n",
       "        text-align: right;\n",
       "    }\n",
       "</style>\n",
       "<table border=\"1\" class=\"dataframe\">\n",
       "  <thead>\n",
       "    <tr style=\"text-align: right;\">\n",
       "      <th></th>\n",
       "      <th>media</th>\n",
       "      <th>id</th>\n",
       "      <th>ad_label</th>\n",
       "      <th>article_original</th>\n",
       "      <th>extractive_sents</th>\n",
       "      <th>extractive</th>\n",
       "    </tr>\n",
       "  </thead>\n",
       "  <tbody>\n",
       "    <tr>\n",
       "      <th>1516</th>\n",
       "      <td>24. 개인정보취급방침</td>\n",
       "      <td>083_개인정보취급방침</td>\n",
       "      <td>1</td>\n",
       "      <td>[제1조 수집한 개인정보의 이용000 및 000 관련 제반 서비스(모바일 웹, 앱 ...</td>\n",
       "      <td>[제1조(개인정보의 처리목적)(개인정보처리자명)은(는) 다음의 목적을 위하여 개인정...</td>\n",
       "      <td>[1]</td>\n",
       "    </tr>\n",
       "    <tr>\n",
       "      <th>2539</th>\n",
       "      <td>11. 전자금융거래</td>\n",
       "      <td>140_전자금융거래</td>\n",
       "      <td>1</td>\n",
       "      <td>[제17조(분쟁처리 및 분쟁조정), ③ 제1항에 따라 고객이 회사에 손해배상 등 분...</td>\n",
       "      <td>[제18조(분쟁처리 및 분쟁조정), ③ 제1항에 따라 고객이 회사에 손해배상 등 분...</td>\n",
       "      <td>[1]</td>\n",
       "    </tr>\n",
       "    <tr>\n",
       "      <th>3034</th>\n",
       "      <td>16.자동차보험</td>\n",
       "      <td>184_자동차보험</td>\n",
       "      <td>1</td>\n",
       "      <td>[제49조 (피보험자동차의 교체), ① 보험계약자 또는 기명피보험자가 보험기간 중에...</td>\n",
       "      <td>[제49조 (피보험자동차의 교체), ⑤ 보험회사가 제1항의 승인을 거절한 경우 교체...</td>\n",
       "      <td>[0, 6]</td>\n",
       "    </tr>\n",
       "    <tr>\n",
       "      <th>3453</th>\n",
       "      <td>11. 전자금융거래</td>\n",
       "      <td>237_전자금융거래</td>\n",
       "      <td>1</td>\n",
       "      <td>[제30조(약관의 변경 등), ② 제1항에 불구하고 회사가 법령의 개정으로 인하여 ...</td>\n",
       "      <td>[제16조(약관의 변경 등), ② 제1항에 불구하고 회사가 법령의 개정으로 인하여 ...</td>\n",
       "      <td>[1]</td>\n",
       "    </tr>\n",
       "    <tr>\n",
       "      <th>2088</th>\n",
       "      <td>13. 손해보험</td>\n",
       "      <td>112_손해보험</td>\n",
       "      <td>1</td>\n",
       "      <td>[1 제27조(보험료의 납입이 연체되는 경우 납입최고(독촉)와 계약의 해지)에 따라...</td>\n",
       "      <td>[제28조(보험료의 납입연체로 인한 해지계약의 부활(효력회복)), ① 제27조(보험...</td>\n",
       "      <td>[0]</td>\n",
       "    </tr>\n",
       "    <tr>\n",
       "      <th>...</th>\n",
       "      <td>...</td>\n",
       "      <td>...</td>\n",
       "      <td>...</td>\n",
       "      <td>...</td>\n",
       "      <td>...</td>\n",
       "      <td>...</td>\n",
       "    </tr>\n",
       "    <tr>\n",
       "      <th>4703</th>\n",
       "      <td>2. 공급계약</td>\n",
       "      <td>052_공급계약</td>\n",
       "      <td>2</td>\n",
       "      <td>[제 9 조 (계약의 해지), 1. 갑은 을이 본 계약서에 정하는 사항을 위반하거나...</td>\n",
       "      <td>[제2조(계약의 해제 및 해지), 제1항 갑은 을이 본 계약서에 정하는 사항을 위반...</td>\n",
       "      <td>[1]</td>\n",
       "    </tr>\n",
       "    <tr>\n",
       "      <th>3616</th>\n",
       "      <td>39. 체육시설</td>\n",
       "      <td>262_체육시설</td>\n",
       "      <td>1</td>\n",
       "      <td>[제 8 조(요금의 환불), 1. 입장절차를 마친 이용자가 경기 전 임의로 이용계약...</td>\n",
       "      <td>[제8조(요금의 환불), ① 입장절차를 마친 이용자가 경기 전 임의로 이용계약을 취...</td>\n",
       "      <td>[0, 1]</td>\n",
       "    </tr>\n",
       "    <tr>\n",
       "      <th>6012</th>\n",
       "      <td>31. 사이버몰</td>\n",
       "      <td>080_사이버몰</td>\n",
       "      <td>1</td>\n",
       "      <td>[제 26조(회원가입), ② 몰 은 제1항과 같이 회원으로 가입할 것을 신청한 이용...</td>\n",
       "      <td>[제6조(회원가입), ②  몰 은 제1항과 같이 회원으로 가입할 것을 신청한 이용자...</td>\n",
       "      <td>[1, 2]</td>\n",
       "    </tr>\n",
       "    <tr>\n",
       "      <th>5763</th>\n",
       "      <td>2. 공급계약</td>\n",
       "      <td>361_공급계약</td>\n",
       "      <td>2</td>\n",
       "      <td>[제19조(면적 및 조건변경), 1항. 본 계약은 갑이 제시한 도면에 의한 구좌당 ...</td>\n",
       "      <td>[제4조(면적 및 조건변경), 1항. 본 계약은 갑이 제시한 도면에 의한 구좌당 계...</td>\n",
       "      <td>[1]</td>\n",
       "    </tr>\n",
       "    <tr>\n",
       "      <th>6558</th>\n",
       "      <td>3. 분양계약_PDF</td>\n",
       "      <td>332_분양계약</td>\n",
       "      <td>2</td>\n",
       "      <td>[제5조 (중도금 및 잔금납부), (1) 중도금 및 잔금의 납부장소는  갑 이 지정...</td>\n",
       "      <td>[제5조 (중도금 및 잔금납부), (2) 을의 거래불량, 중복대출, 정부의 대출규제...</td>\n",
       "      <td>[0, 2]</td>\n",
       "    </tr>\n",
       "  </tbody>\n",
       "</table>\n",
       "<p>5281 rows × 6 columns</p>\n",
       "</div>"
      ],
      "text/plain": [
       "             media            id  ad_label  \\\n",
       "1516  24. 개인정보취급방침  083_개인정보취급방침         1   \n",
       "2539    11. 전자금융거래    140_전자금융거래         1   \n",
       "3034      16.자동차보험     184_자동차보험         1   \n",
       "3453    11. 전자금융거래    237_전자금융거래         1   \n",
       "2088      13. 손해보험      112_손해보험         1   \n",
       "...            ...           ...       ...   \n",
       "4703       2. 공급계약      052_공급계약         2   \n",
       "3616      39. 체육시설      262_체육시설         1   \n",
       "6012      31. 사이버몰      080_사이버몰         1   \n",
       "5763       2. 공급계약      361_공급계약         2   \n",
       "6558   3. 분양계약_PDF      332_분양계약         2   \n",
       "\n",
       "                                       article_original  \\\n",
       "1516  [제1조 수집한 개인정보의 이용000 및 000 관련 제반 서비스(모바일 웹, 앱 ...   \n",
       "2539  [제17조(분쟁처리 및 분쟁조정), ③ 제1항에 따라 고객이 회사에 손해배상 등 분...   \n",
       "3034  [제49조 (피보험자동차의 교체), ① 보험계약자 또는 기명피보험자가 보험기간 중에...   \n",
       "3453  [제30조(약관의 변경 등), ② 제1항에 불구하고 회사가 법령의 개정으로 인하여 ...   \n",
       "2088  [1 제27조(보험료의 납입이 연체되는 경우 납입최고(독촉)와 계약의 해지)에 따라...   \n",
       "...                                                 ...   \n",
       "4703  [제 9 조 (계약의 해지), 1. 갑은 을이 본 계약서에 정하는 사항을 위반하거나...   \n",
       "3616  [제 8 조(요금의 환불), 1. 입장절차를 마친 이용자가 경기 전 임의로 이용계약...   \n",
       "6012  [제 26조(회원가입), ② 몰 은 제1항과 같이 회원으로 가입할 것을 신청한 이용...   \n",
       "5763  [제19조(면적 및 조건변경), 1항. 본 계약은 갑이 제시한 도면에 의한 구좌당 ...   \n",
       "6558  [제5조 (중도금 및 잔금납부), (1) 중도금 및 잔금의 납부장소는  갑 이 지정...   \n",
       "\n",
       "                                       extractive_sents extractive  \n",
       "1516  [제1조(개인정보의 처리목적)(개인정보처리자명)은(는) 다음의 목적을 위하여 개인정...        [1]  \n",
       "2539  [제18조(분쟁처리 및 분쟁조정), ③ 제1항에 따라 고객이 회사에 손해배상 등 분...        [1]  \n",
       "3034  [제49조 (피보험자동차의 교체), ⑤ 보험회사가 제1항의 승인을 거절한 경우 교체...     [0, 6]  \n",
       "3453  [제16조(약관의 변경 등), ② 제1항에 불구하고 회사가 법령의 개정으로 인하여 ...        [1]  \n",
       "2088  [제28조(보험료의 납입연체로 인한 해지계약의 부활(효력회복)), ① 제27조(보험...        [0]  \n",
       "...                                                 ...        ...  \n",
       "4703  [제2조(계약의 해제 및 해지), 제1항 갑은 을이 본 계약서에 정하는 사항을 위반...        [1]  \n",
       "3616  [제8조(요금의 환불), ① 입장절차를 마친 이용자가 경기 전 임의로 이용계약을 취...     [0, 1]  \n",
       "6012  [제6조(회원가입), ②  몰 은 제1항과 같이 회원으로 가입할 것을 신청한 이용자...     [1, 2]  \n",
       "5763  [제4조(면적 및 조건변경), 1항. 본 계약은 갑이 제시한 도면에 의한 구좌당 계...        [1]  \n",
       "6558  [제5조 (중도금 및 잔금납부), (2) 을의 거래불량, 중복대출, 정부의 대출규제...     [0, 2]  \n",
       "\n",
       "[5281 rows x 6 columns]"
      ]
     },
     "execution_count": 10,
     "metadata": {},
     "output_type": "execute_result"
    }
   ],
   "source": [
    "kob_train"
   ]
  },
  {
   "cell_type": "code",
   "execution_count": 11,
   "metadata": {},
   "outputs": [],
   "source": [
    "mem_train = kob_train[['media','id','article_original','extractive_sents']]\n",
    "mem_train.columns = ['category','name','sent_cn','sent_summ']\n",
    "\n",
    "mem_valid = kob_valid[['media','id','article_original','extractive_sents']]\n",
    "mem_valid.columns = ['category','name','sent_cn','sent_summ']\n",
    "\n",
    "mem_test = kob_test[['media','id','article_original','extractive_sents']]\n",
    "mem_test.columns = ['category','name','sent_cn','sent_summ']"
   ]
  },
  {
   "cell_type": "code",
   "execution_count": 12,
   "metadata": {},
   "outputs": [
    {
     "data": {
      "text/html": [
       "<div>\n",
       "<style scoped>\n",
       "    .dataframe tbody tr th:only-of-type {\n",
       "        vertical-align: middle;\n",
       "    }\n",
       "\n",
       "    .dataframe tbody tr th {\n",
       "        vertical-align: top;\n",
       "    }\n",
       "\n",
       "    .dataframe thead th {\n",
       "        text-align: right;\n",
       "    }\n",
       "</style>\n",
       "<table border=\"1\" class=\"dataframe\">\n",
       "  <thead>\n",
       "    <tr style=\"text-align: right;\">\n",
       "      <th></th>\n",
       "      <th>category</th>\n",
       "      <th>name</th>\n",
       "      <th>sent_cn</th>\n",
       "      <th>sent_summ</th>\n",
       "    </tr>\n",
       "  </thead>\n",
       "  <tbody>\n",
       "    <tr>\n",
       "      <th>1516</th>\n",
       "      <td>24. 개인정보취급방침</td>\n",
       "      <td>083_개인정보취급방침</td>\n",
       "      <td>[제1조 수집한 개인정보의 이용000 및 000 관련 제반 서비스(모바일 웹, 앱 ...</td>\n",
       "      <td>[제1조(개인정보의 처리목적)(개인정보처리자명)은(는) 다음의 목적을 위하여 개인정...</td>\n",
       "    </tr>\n",
       "  </tbody>\n",
       "</table>\n",
       "</div>"
      ],
      "text/plain": [
       "          category          name  \\\n",
       "1516  24. 개인정보취급방침  083_개인정보취급방침   \n",
       "\n",
       "                                                sent_cn  \\\n",
       "1516  [제1조 수집한 개인정보의 이용000 및 000 관련 제반 서비스(모바일 웹, 앱 ...   \n",
       "\n",
       "                                              sent_summ  \n",
       "1516  [제1조(개인정보의 처리목적)(개인정보처리자명)은(는) 다음의 목적을 위하여 개인정...  "
      ]
     },
     "execution_count": 12,
     "metadata": {},
     "output_type": "execute_result"
    }
   ],
   "source": [
    "mem_train.head(1)"
   ]
  },
  {
   "cell_type": "code",
   "execution_count": 13,
   "metadata": {},
   "outputs": [],
   "source": [
    "mem_train.to_csv('./preprocessed_data//mem_train.csv')\n",
    "mem_valid.to_csv('./preprocessed_data//mem_valid.csv')\n",
    "mem_test.to_csv('./preprocessed_data//mem_test.csv')"
   ]
  },
  {
   "cell_type": "code",
   "execution_count": 14,
   "metadata": {},
   "outputs": [],
   "source": [
    "from sklearn.preprocessing import LabelEncoder\n",
    "df = kobertsum_df\n",
    "le = LabelEncoder()\n",
    "le = le.fit(df['id'])\n",
    "\n",
    "kob_train['id'] = le.transform(kob_train['id'])\n",
    "kob_valid['id'] = le.transform(kob_valid['id'])\n",
    "kob_test['id'] = le.transform(kob_test['id'])\n",
    "\n",
    "kob_train.drop(['ad_label','extractive_sents'],axis=1,inplace=True)\n",
    "kob_valid.drop(['ad_label','extractive_sents'],axis=1,inplace=True)\n",
    "kob_test.drop(['ad_label','extractive_sents'],axis=1,inplace=True)"
   ]
  },
  {
   "cell_type": "code",
   "execution_count": 15,
   "metadata": {},
   "outputs": [
    {
     "data": {
      "text/html": [
       "<div>\n",
       "<style scoped>\n",
       "    .dataframe tbody tr th:only-of-type {\n",
       "        vertical-align: middle;\n",
       "    }\n",
       "\n",
       "    .dataframe tbody tr th {\n",
       "        vertical-align: top;\n",
       "    }\n",
       "\n",
       "    .dataframe thead th {\n",
       "        text-align: right;\n",
       "    }\n",
       "</style>\n",
       "<table border=\"1\" class=\"dataframe\">\n",
       "  <thead>\n",
       "    <tr style=\"text-align: right;\">\n",
       "      <th></th>\n",
       "      <th>media</th>\n",
       "      <th>id</th>\n",
       "      <th>article_original</th>\n",
       "      <th>extractive</th>\n",
       "    </tr>\n",
       "  </thead>\n",
       "  <tbody>\n",
       "    <tr>\n",
       "      <th>1516</th>\n",
       "      <td>24. 개인정보취급방침</td>\n",
       "      <td>2332</td>\n",
       "      <td>[제1조 수집한 개인정보의 이용000 및 000 관련 제반 서비스(모바일 웹, 앱 ...</td>\n",
       "      <td>[1]</td>\n",
       "    </tr>\n",
       "  </tbody>\n",
       "</table>\n",
       "</div>"
      ],
      "text/plain": [
       "             media    id                                   article_original  \\\n",
       "1516  24. 개인정보취급방침  2332  [제1조 수집한 개인정보의 이용000 및 000 관련 제반 서비스(모바일 웹, 앱 ...   \n",
       "\n",
       "     extractive  \n",
       "1516        [1]  "
      ]
     },
     "execution_count": 15,
     "metadata": {},
     "output_type": "execute_result"
    }
   ],
   "source": [
    "kob_train.head(1)"
   ]
  },
  {
   "cell_type": "code",
   "execution_count": 27,
   "metadata": {},
   "outputs": [],
   "source": [
    "jsonl_path = \"./preprocessed_data/kobertsum_train.jsonl\"\n",
    "\n",
    "df = kob_train\n",
    "file_to_write = \"\"\n",
    "for index in df.index:\n",
    "    df.loc[index].to_json(\"./tmp_data/row{}.json\".format(index),force_ascii=False)\n",
    "    with open(\"./tmp_data/row{}.json\".format(index)) as file_handle:\n",
    "        file_content = file_handle.read()\n",
    "        file_to_write += file_content + \"\\n\"\n",
    "        \n",
    "with open(jsonl_path,\"w\") as file_handle:\n",
    "    file_handle.write(file_to_write)\n",
    "\n",
    "jsonl_path = \"./preprocessed_data/kobertsum_valid.jsonl\"\n",
    "\n",
    "df = kob_valid\n",
    "file_to_write = \"\"\n",
    "for index in df.index:\n",
    "    df.loc[index].to_json(\"./tmp_data/row{}.json\".format(index),force_ascii=False)\n",
    "    with open(\"./tmp_data/row{}.json\".format(index)) as file_handle:\n",
    "        file_content = file_handle.read()\n",
    "        file_to_write += file_content + \"\\n\"\n",
    "        \n",
    "with open(jsonl_path,\"w\") as file_handle:\n",
    "    file_handle.write(file_to_write)\n",
    "    \n",
    "jsonl_path = \"./preprocessed_data/kobertsum_test.jsonl\"\n",
    "\n",
    "df = kob_test\n",
    "file_to_write = \"\"\n",
    "for index in df.index:\n",
    "    df.loc[index].to_json(\"./tmp_data/row{}.json\".format(index),force_ascii=False)\n",
    "    with open(\"./tmp_data/row{}.json\".format(index)) as file_handle:\n",
    "        file_content = file_handle.read()\n",
    "        file_to_write += file_content + \"\\n\"\n",
    "        \n",
    "with open(jsonl_path,\"w\") as file_handle:\n",
    "    file_handle.write(file_to_write)\n",
    "    "
   ]
  }
 ],
 "metadata": {
  "kernelspec": {
   "display_name": "virenv39",
   "language": "python",
   "name": "python3"
  },
  "language_info": {
   "codemirror_mode": {
    "name": "ipython",
    "version": 3
   },
   "file_extension": ".py",
   "mimetype": "text/x-python",
   "name": "python",
   "nbconvert_exporter": "python",
   "pygments_lexer": "ipython3",
   "version": "3.9.0"
  },
  "orig_nbformat": 4
 },
 "nbformat": 4,
 "nbformat_minor": 2
}
