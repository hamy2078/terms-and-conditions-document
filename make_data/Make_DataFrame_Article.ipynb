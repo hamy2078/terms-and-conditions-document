{
 "cells": [
  {
   "cell_type": "code",
   "execution_count": 1,
   "metadata": {},
   "outputs": [
    {
     "name": "stderr",
     "output_type": "stream",
     "text": [
      "c:\\Users\\hyj\\Anaconda3\\envs\\virenv39\\lib\\site-packages\\tqdm\\auto.py:22: TqdmWarning: IProgress not found. Please update jupyter and ipywidgets. See https://ipywidgets.readthedocs.io/en/stable/user_install.html\n",
      "  from .autonotebook import tqdm as notebook_tqdm\n"
     ]
    }
   ],
   "source": [
    "import pandas as pd\n",
    "import regex as re\n",
    "from sklearn.model_selection import train_test_split\n",
    "\n",
    "import numpy as np\n",
    "from tqdm import tqdm\n",
    "from numpy import dot\n",
    "from numpy.linalg import norm\n",
    "\n",
    "from sentence_transformers import SentenceTransformer\n",
    "\n",
    "def cos_sim(A, B):\n",
    "    return dot(A, B)/(norm(A)*norm(B))\n",
    "\n",
    "model = SentenceTransformer('jhgan/ko-sbert-multitask')"
   ]
  },
  {
   "cell_type": "code",
   "execution_count": 2,
   "metadata": {},
   "outputs": [],
   "source": [
    "train_data = pd.read_csv('./preprocessed_data/mem_train.csv',index_col=[0])\n",
    "valid_data = pd.read_csv('./preprocessed_data/mem_valid.csv',index_col=[0])\n",
    "test_data = pd.read_csv('./preprocessed_data/mem_test.csv',index_col=[0])\n",
    "\n",
    "train_data = train_data[['category','name','sent_cn']]\n",
    "valid_data = valid_data[['category','name','sent_cn']]\n",
    "test_data = test_data[['category','name','sent_cn']]\n",
    "\n",
    "train_data['sent_cn'] = train_data['sent_cn'].apply(lambda x: eval(x))\n",
    "valid_data['sent_cn'] = valid_data['sent_cn'].apply(lambda x: eval(x))\n",
    "test_data['sent_cn'] = test_data['sent_cn'].apply(lambda x: eval(x))\n",
    "\n",
    "train_data['sent_cn'] = train_data['sent_cn'].apply(lambda x: ' '.join(x))\n",
    "valid_data['sent_cn'] = valid_data['sent_cn'].apply(lambda x: ' '.join(x))\n",
    "test_data['sent_cn'] = test_data['sent_cn'].apply(lambda x: ' '.join(x))"
   ]
  },
  {
   "cell_type": "code",
   "execution_count": 3,
   "metadata": {},
   "outputs": [
    {
     "name": "stdout",
     "output_type": "stream",
     "text": [
      "9000\n",
      "9000\n"
     ]
    }
   ],
   "source": [
    "df = pd.read_csv('./preprocessed_data/data.csv',index_col=[0])\n",
    "\n",
    "print(len(df))\n",
    "print(df['name'].nunique())"
   ]
  },
  {
   "cell_type": "code",
   "execution_count": 4,
   "metadata": {},
   "outputs": [],
   "source": [
    "df['cn'] = df['cn'].apply(lambda x: x.replace('\\t',''))\n",
    "df['cn'] = df['cn'].apply(lambda x: x.replace('\\xa0',''))"
   ]
  },
  {
   "cell_type": "code",
   "execution_count": 5,
   "metadata": {},
   "outputs": [
    {
     "name": "stderr",
     "output_type": "stream",
     "text": [
      "C:\\Users\\hyj\\AppData\\Local\\Temp\\ipykernel_16300\\1750625931.py:10: SettingWithCopyWarning: \n",
      "A value is trying to be set on a copy of a slice from a DataFrame\n",
      "\n",
      "See the caveats in the documentation: https://pandas.pydata.org/pandas-docs/stable/user_guide/indexing.html#returning-a-view-versus-a-copy\n",
      "  df['pre_cn'][i] = text\n"
     ]
    }
   ],
   "source": [
    "# 조 살려서 자르기\n",
    "df['pre_cn'] = df['cn']\n",
    "# 조 \n",
    "pattern = '\\\\n([제|0-9 ]{1,}조[\\(|가-힣\\) |A-Z|a-z|0-9|,m]{1,})'\n",
    "for i in range(len(df)):\n",
    "    text = df['pre_cn'][i]\n",
    "    matchedList = re.findall(pattern,text)\n",
    "    for match in matchedList:\n",
    "        text = text.replace(match,'\\n?'+match+'\\n')\n",
    "    df['pre_cn'][i] = text"
   ]
  },
  {
   "cell_type": "code",
   "execution_count": 6,
   "metadata": {},
   "outputs": [],
   "source": [
    "df['pre_cn'] = df['pre_cn'].apply(lambda x: x.replace('\\n',''))\n",
    "df['sent_jo'] = df['pre_cn'].apply(lambda x:x.split('?'))\n",
    "df['sent_jo'] = df['sent_jo'].apply(lambda x: [i.strip() for i in x])\n",
    "df['sent_jo'] = df['sent_jo'].apply(lambda x: [i for i in x if i not in {''}])"
   ]
  },
  {
   "cell_type": "code",
   "execution_count": 7,
   "metadata": {},
   "outputs": [],
   "source": [
    "train_data = pd.merge(train_data,df[['category','name','sent_jo']],on=['name','category'],how='left')\n",
    "train_data.columns = ['category','name','selected','sent_jo']\n",
    "\n",
    "valid_data = pd.merge(valid_data,df[['category','name','sent_jo']],on=['name','category'],how='left')\n",
    "valid_data.columns = ['category','name','selected','sent_jo']\n",
    "\n",
    "test_data = pd.merge(test_data,df[['category','name','sent_jo']],on=['name','category'],how='left')\n",
    "test_data.columns = ['category','name','selected','sent_jo']"
   ]
  },
  {
   "cell_type": "code",
   "execution_count": 8,
   "metadata": {},
   "outputs": [
    {
     "data": {
      "text/html": [
       "<div>\n",
       "<style scoped>\n",
       "    .dataframe tbody tr th:only-of-type {\n",
       "        vertical-align: middle;\n",
       "    }\n",
       "\n",
       "    .dataframe tbody tr th {\n",
       "        vertical-align: top;\n",
       "    }\n",
       "\n",
       "    .dataframe thead th {\n",
       "        text-align: right;\n",
       "    }\n",
       "</style>\n",
       "<table border=\"1\" class=\"dataframe\">\n",
       "  <thead>\n",
       "    <tr style=\"text-align: right;\">\n",
       "      <th></th>\n",
       "      <th>category</th>\n",
       "      <th>name</th>\n",
       "      <th>selected</th>\n",
       "      <th>sent_jo</th>\n",
       "    </tr>\n",
       "  </thead>\n",
       "  <tbody>\n",
       "    <tr>\n",
       "      <th>0</th>\n",
       "      <td>19.증권사1</td>\n",
       "      <td>121_증권사1</td>\n",
       "      <td>제20조(수수료) 위탁판매 수수료와 관련하여 다음 방법중 하나를 선택할 수 있다.(...</td>\n",
       "      <td>[증권대차거래약관, 제1조(약관의 적용) ① 이 약관은 유가증권시장 및 코스닥시장 ...</td>\n",
       "    </tr>\n",
       "    <tr>\n",
       "      <th>1</th>\n",
       "      <td>41. 통신, 방송서비스</td>\n",
       "      <td>056_통신,방송서비스</td>\n",
       "      <td>제12조(수신의 일시 중지)수신자가 출장, 입원 등 본인의 사유에 의해 수신을 일시...</td>\n",
       "      <td>[00000 이용약관 000  제1장 총칙, 제1조 목적 이 약관은 주식회사 000...</td>\n",
       "    </tr>\n",
       "    <tr>\n",
       "      <th>2</th>\n",
       "      <td>1. 가맹계약_PDF</td>\n",
       "      <td>329_가맹계약</td>\n",
       "      <td>제 13 조 (부자재 및 제품 등 물품의 공급)을이 본 조 제1항에 정한 사항을 위...</td>\n",
       "      <td>[제 1 조 (계약의 목적)본 계약은 을이 갑의 ㅇㅇㅇ 상품을 상호 협의한 할인매장...</td>\n",
       "    </tr>\n",
       "    <tr>\n",
       "      <th>3</th>\n",
       "      <td>5. 임대차계약</td>\n",
       "      <td>384_임대차계약</td>\n",
       "      <td>제 5 조(계약의 해제 또는 해지)을이 다음 각호의 1에 해당하는 경우에는 갑은 이...</td>\n",
       "      <td>[제 1 조 (임대기간)1. 임대기간은 2020 년 09 월 28 일부터 2022 ...</td>\n",
       "    </tr>\n",
       "    <tr>\n",
       "      <th>4</th>\n",
       "      <td>9.은행여신약관</td>\n",
       "      <td>019_은행여신</td>\n",
       "      <td>제7조(기한전의 채무변제의무) ① 채무자에게 다음 각 호의 어느 하나에 해당하는 사...</td>\n",
       "      <td>[00000 기본 약관(약관 신고 수리 일자 : 2019년 4월 22일), 제1조 ...</td>\n",
       "    </tr>\n",
       "    <tr>\n",
       "      <th>...</th>\n",
       "      <td>...</td>\n",
       "      <td>...</td>\n",
       "      <td>...</td>\n",
       "      <td>...</td>\n",
       "    </tr>\n",
       "    <tr>\n",
       "      <th>656</th>\n",
       "      <td>18. 화재보험</td>\n",
       "      <td>079_화재보험</td>\n",
       "      <td>제11조 (계약 후 알릴 의무) ① 계약을 맺은 후 보험의 목적에 아래와 같은 사실...</td>\n",
       "      <td>[00000 보통약관   제 1 관 목적 및 용어의 정의, 제1조(목적) 이 보험계...</td>\n",
       "    </tr>\n",
       "    <tr>\n",
       "      <th>657</th>\n",
       "      <td>2. 공급계약</td>\n",
       "      <td>386_공급계약</td>\n",
       "      <td>제2조(계약의 해제) ① 갑 은  을 이 다음 각 호에 해당하는 행위를 하였을 때에...</td>\n",
       "      <td>[제1조(공급대금 및 납부방법) 갑은 표시재산을 아래방법으로 공급하고 을은 해당금액...</td>\n",
       "    </tr>\n",
       "    <tr>\n",
       "      <th>658</th>\n",
       "      <td>32.산후조리원</td>\n",
       "      <td>062_산후조리원</td>\n",
       "      <td>제 6조 이용계약의 변경 및 조정 제 2항 입실시간은 입실일 10시 이후, 퇴실시간...</td>\n",
       "      <td>[000 이용약관본 약관은 000 제반시설물 이용에 관한 규정을 아래와 같이 정하고...</td>\n",
       "    </tr>\n",
       "    <tr>\n",
       "      <th>659</th>\n",
       "      <td>9.은행전자금융서비스</td>\n",
       "      <td>180_은행전자금융서비스</td>\n",
       "      <td>제 18조 (변 경, 사 고 사 항 의 신 고 )ㅇ 보안카드의 분실, 도난 또는 각...</td>\n",
       "      <td>[제 1조 (목 적 )이 약관은 고객이 000(이하  회사 라 한다)의 전자금융서비...</td>\n",
       "    </tr>\n",
       "    <tr>\n",
       "      <th>660</th>\n",
       "      <td>27. 결혼정보서비스</td>\n",
       "      <td>036_결혼정보서비스</td>\n",
       "      <td>제6조 (회원자격의 보유기간) 1 회원이 회사로부터 제5조에서 정한 서비스를 제공받...</td>\n",
       "      <td>[000 정회원약관, 제1조(목적) 이 약관은 000(결혼정보업자, 이하 회사라 함...</td>\n",
       "    </tr>\n",
       "  </tbody>\n",
       "</table>\n",
       "<p>661 rows × 4 columns</p>\n",
       "</div>"
      ],
      "text/plain": [
       "          category           name  \\\n",
       "0          19.증권사1       121_증권사1   \n",
       "1    41. 통신, 방송서비스   056_통신,방송서비스   \n",
       "2      1. 가맹계약_PDF       329_가맹계약   \n",
       "3         5. 임대차계약      384_임대차계약   \n",
       "4         9.은행여신약관       019_은행여신   \n",
       "..             ...            ...   \n",
       "656       18. 화재보험       079_화재보험   \n",
       "657        2. 공급계약       386_공급계약   \n",
       "658       32.산후조리원      062_산후조리원   \n",
       "659    9.은행전자금융서비스  180_은행전자금융서비스   \n",
       "660    27. 결혼정보서비스    036_결혼정보서비스   \n",
       "\n",
       "                                              selected  \\\n",
       "0    제20조(수수료) 위탁판매 수수료와 관련하여 다음 방법중 하나를 선택할 수 있다.(...   \n",
       "1    제12조(수신의 일시 중지)수신자가 출장, 입원 등 본인의 사유에 의해 수신을 일시...   \n",
       "2    제 13 조 (부자재 및 제품 등 물품의 공급)을이 본 조 제1항에 정한 사항을 위...   \n",
       "3    제 5 조(계약의 해제 또는 해지)을이 다음 각호의 1에 해당하는 경우에는 갑은 이...   \n",
       "4    제7조(기한전의 채무변제의무) ① 채무자에게 다음 각 호의 어느 하나에 해당하는 사...   \n",
       "..                                                 ...   \n",
       "656  제11조 (계약 후 알릴 의무) ① 계약을 맺은 후 보험의 목적에 아래와 같은 사실...   \n",
       "657  제2조(계약의 해제) ① 갑 은  을 이 다음 각 호에 해당하는 행위를 하였을 때에...   \n",
       "658  제 6조 이용계약의 변경 및 조정 제 2항 입실시간은 입실일 10시 이후, 퇴실시간...   \n",
       "659  제 18조 (변 경, 사 고 사 항 의 신 고 )ㅇ 보안카드의 분실, 도난 또는 각...   \n",
       "660  제6조 (회원자격의 보유기간) 1 회원이 회사로부터 제5조에서 정한 서비스를 제공받...   \n",
       "\n",
       "                                               sent_jo  \n",
       "0    [증권대차거래약관, 제1조(약관의 적용) ① 이 약관은 유가증권시장 및 코스닥시장 ...  \n",
       "1    [00000 이용약관 000  제1장 총칙, 제1조 목적 이 약관은 주식회사 000...  \n",
       "2    [제 1 조 (계약의 목적)본 계약은 을이 갑의 ㅇㅇㅇ 상품을 상호 협의한 할인매장...  \n",
       "3    [제 1 조 (임대기간)1. 임대기간은 2020 년 09 월 28 일부터 2022 ...  \n",
       "4    [00000 기본 약관(약관 신고 수리 일자 : 2019년 4월 22일), 제1조 ...  \n",
       "..                                                 ...  \n",
       "656  [00000 보통약관   제 1 관 목적 및 용어의 정의, 제1조(목적) 이 보험계...  \n",
       "657  [제1조(공급대금 및 납부방법) 갑은 표시재산을 아래방법으로 공급하고 을은 해당금액...  \n",
       "658  [000 이용약관본 약관은 000 제반시설물 이용에 관한 규정을 아래와 같이 정하고...  \n",
       "659  [제 1조 (목 적 )이 약관은 고객이 000(이하  회사 라 한다)의 전자금융서비...  \n",
       "660  [000 정회원약관, 제1조(목적) 이 약관은 000(결혼정보업자, 이하 회사라 함...  \n",
       "\n",
       "[661 rows x 4 columns]"
      ]
     },
     "execution_count": 8,
     "metadata": {},
     "output_type": "execute_result"
    }
   ],
   "source": [
    "test_data"
   ]
  },
  {
   "cell_type": "code",
   "execution_count": 9,
   "metadata": {},
   "outputs": [],
   "source": [
    "def make_label(df,col1='selected',col2='sent_jo'):\n",
    "    sent_sum_embed =  df[col1].apply(lambda x: model.encode(x))\n",
    "    sent_cn_embed =  df[col2].apply(lambda x: model.encode(x))\n",
    "\n",
    "    df['label'] = df[col2]\n",
    "    for i, (cn_embeds, summ_embed) in enumerate(zip(sent_cn_embed,sent_sum_embed)):\n",
    "        label = [0]*(cn_embeds.shape[0])\n",
    "        cos_similarity = list(map(lambda x: cos_sim(x,summ_embed), cn_embeds))\n",
    "        index = np.argmax(cos_similarity)\n",
    "        if cos_similarity[index] >= 0.9:\n",
    "            label[index]=1\n",
    "        df['label'][i] = label\n",
    "    return df"
   ]
  },
  {
   "cell_type": "code",
   "execution_count": 10,
   "metadata": {},
   "outputs": [],
   "source": [
    "# 16분 \n",
    "train_data = make_label(train_data)\n",
    "valid_data = make_label(valid_data)\n",
    "test_data = make_label(test_data)"
   ]
  },
  {
   "cell_type": "code",
   "execution_count": 11,
   "metadata": {},
   "outputs": [
    {
     "data": {
      "text/html": [
       "<div>\n",
       "<style scoped>\n",
       "    .dataframe tbody tr th:only-of-type {\n",
       "        vertical-align: middle;\n",
       "    }\n",
       "\n",
       "    .dataframe tbody tr th {\n",
       "        vertical-align: top;\n",
       "    }\n",
       "\n",
       "    .dataframe thead th {\n",
       "        text-align: right;\n",
       "    }\n",
       "</style>\n",
       "<table border=\"1\" class=\"dataframe\">\n",
       "  <thead>\n",
       "    <tr style=\"text-align: right;\">\n",
       "      <th></th>\n",
       "      <th>category</th>\n",
       "      <th>name</th>\n",
       "      <th>selected</th>\n",
       "      <th>sent_jo</th>\n",
       "      <th>label</th>\n",
       "    </tr>\n",
       "  </thead>\n",
       "  <tbody>\n",
       "    <tr>\n",
       "      <th>0</th>\n",
       "      <td>26. 국내외여행</td>\n",
       "      <td>185_국내외여행</td>\n",
       "      <td>제9조(최저행사인원 미 충족시 계약해제) ① 여행사는 최저행사인원이 충족되지 아니하...</td>\n",
       "      <td>[해외여행표준약관, 제1조(목적)이 약관은 000의 여행사와 여행자가 체결한 국외여...</td>\n",
       "      <td>[0, 0, 0, 0, 0, 0, 0, 0, 0, 1, 0, 0, 0, 0, 0, ...</td>\n",
       "    </tr>\n",
       "    <tr>\n",
       "      <th>1</th>\n",
       "      <td>12. 상해보험</td>\n",
       "      <td>093_상해보험</td>\n",
       "      <td>제16조(사기에 의한 계약) 계약자 또는 피보험자가 대리진단, 약물사용을 수단으로 ...</td>\n",
       "      <td>[00000 보통약관  제1관 목적 및 용어의 정의, 제1조(목적) 이 보험계약(이...</td>\n",
       "      <td>[0, 0, 0, 0, 0, 0, 0, 0, 0, 0, 0, 0, 0, 0, 0, ...</td>\n",
       "    </tr>\n",
       "    <tr>\n",
       "      <th>2</th>\n",
       "      <td>22. 여객운송</td>\n",
       "      <td>123_여객운송</td>\n",
       "      <td>제72조 (여객에 의한 계약변경) 1 여객의 사정에 의하여 계약서에 기재된 사항대로...</td>\n",
       "      <td>[여객운송약관 ( 규정 제47호 1996. 12. 6 )  개정 1999. 11. ...</td>\n",
       "      <td>[0, 0, 0, 0, 0, 0, 0, 0, 0, 0, 0, 0, 0, 0, 0, ...</td>\n",
       "    </tr>\n",
       "    <tr>\n",
       "      <th>3</th>\n",
       "      <td>40. 택배</td>\n",
       "      <td>060_택배</td>\n",
       "      <td>제21조(책임의 특별소멸 사유와 시효) ① 운송물의 일부 멸실 또는 훼손에 대한 회...</td>\n",
       "      <td>[공정거래위원회 퀵서비스 표준약관 제 1 장 총 칙, 제1조 (목적) 이 약관은 택...</td>\n",
       "      <td>[0, 0, 0, 0, 0, 0, 0, 0, 0, 0, 0, 0, 0, 0, 0, ...</td>\n",
       "    </tr>\n",
       "    <tr>\n",
       "      <th>4</th>\n",
       "      <td>10. 전자결제수단</td>\n",
       "      <td>098_전자결제수단</td>\n",
       "      <td>제15조 (등록상표의 사용) ① 갑은 을이 지정한 등록상표 및 로고를 사용하여야 한...</td>\n",
       "      <td>[000 00000 약관  적용 제1장 총 칙, 제1조(목적) 이 약관은 000사(...</td>\n",
       "      <td>[0, 0, 0, 0, 0, 0, 0, 0, 0, 0, 0, 0, 0, 0, 0, ...</td>\n",
       "    </tr>\n",
       "    <tr>\n",
       "      <th>...</th>\n",
       "      <td>...</td>\n",
       "      <td>...</td>\n",
       "      <td>...</td>\n",
       "      <td>...</td>\n",
       "      <td>...</td>\n",
       "    </tr>\n",
       "    <tr>\n",
       "      <th>655</th>\n",
       "      <td>32. 산후조리원</td>\n",
       "      <td>292_산후조리원</td>\n",
       "      <td>제 2조 (입실 후 계약의 해제) ① 이용자는 입실 후에 사업자의 책임 있는 사유로...</td>\n",
       "      <td>[제 1조 (약관의 목적) 본 약관은 000(이하 본원이라 명함)이 제공하는 모든 ...</td>\n",
       "      <td>[0, 0, 0, 0, 0, 0, 0, 1]</td>\n",
       "    </tr>\n",
       "    <tr>\n",
       "      <th>656</th>\n",
       "      <td>35. 생명보험</td>\n",
       "      <td>112_생명보험</td>\n",
       "      <td>제26조(청약의 철회) ① 계약자는 공제증권을 받은 날부터 15일 이내에 그 청약을...</td>\n",
       "      <td>[무배당 어부바신협임직원보장공제(간편가입) 보통약관 직원형  1종(간편가입형), 2...</td>\n",
       "      <td>[0, 0, 0, 0, 0, 0, 0, 0, 0, 0, 0, 0, 0, 0, 0, ...</td>\n",
       "    </tr>\n",
       "    <tr>\n",
       "      <th>657</th>\n",
       "      <td>26. 국내외여행</td>\n",
       "      <td>199_국내외여행</td>\n",
       "      <td>제12조 (여행요금의 변경) ① 국외여행을 실시함에 있어서 이용운송․숙박기관에 지급...</td>\n",
       "      <td>[제1조 (목적) 이 약관은 주식회사 베테랑이경수여행사와 여행자가 체결한 국외여행계...</td>\n",
       "      <td>[0, 0, 0, 0, 0, 0, 0, 0, 0, 0, 0, 1, 0, 0, 0, ...</td>\n",
       "    </tr>\n",
       "    <tr>\n",
       "      <th>658</th>\n",
       "      <td>2. 공급계약</td>\n",
       "      <td>309_공급계약</td>\n",
       "      <td>제10조 ( 품명 )을이 갑에게 공급하는 시멘트는 을이 생산하는 각종시멘트, 동종의...</td>\n",
       "      <td>[제 1 조 (계약의 목적)본 계약은 을이 갑의 000 상품을 상호 협의한 할인매장...</td>\n",
       "      <td>[0, 0, 0, 0, 0, 0, 0, 0, 0, 1, 0, 0]</td>\n",
       "    </tr>\n",
       "    <tr>\n",
       "      <th>659</th>\n",
       "      <td>23. 화물운송</td>\n",
       "      <td>158_화물운송</td>\n",
       "      <td>제4조2항에 의하여 구두계약으로 화물운송장을 교부하지 아니한 경우에는 그러하지 아니...</td>\n",
       "      <td>[00000운송약관제 1 장    총  칙, 제1조(목 적)   이 운송약관(이하 ...</td>\n",
       "      <td>[0, 0, 0, 0, 0, 0, 0, 0, 0, 0, 0, 0, 1, 0, 0, ...</td>\n",
       "    </tr>\n",
       "  </tbody>\n",
       "</table>\n",
       "<p>660 rows × 5 columns</p>\n",
       "</div>"
      ],
      "text/plain": [
       "       category        name  \\\n",
       "0     26. 국내외여행   185_국내외여행   \n",
       "1      12. 상해보험    093_상해보험   \n",
       "2      22. 여객운송    123_여객운송   \n",
       "3        40. 택배      060_택배   \n",
       "4    10. 전자결제수단  098_전자결제수단   \n",
       "..          ...         ...   \n",
       "655   32. 산후조리원   292_산후조리원   \n",
       "656    35. 생명보험    112_생명보험   \n",
       "657   26. 국내외여행   199_국내외여행   \n",
       "658     2. 공급계약    309_공급계약   \n",
       "659    23. 화물운송    158_화물운송   \n",
       "\n",
       "                                              selected  \\\n",
       "0    제9조(최저행사인원 미 충족시 계약해제) ① 여행사는 최저행사인원이 충족되지 아니하...   \n",
       "1    제16조(사기에 의한 계약) 계약자 또는 피보험자가 대리진단, 약물사용을 수단으로 ...   \n",
       "2    제72조 (여객에 의한 계약변경) 1 여객의 사정에 의하여 계약서에 기재된 사항대로...   \n",
       "3    제21조(책임의 특별소멸 사유와 시효) ① 운송물의 일부 멸실 또는 훼손에 대한 회...   \n",
       "4    제15조 (등록상표의 사용) ① 갑은 을이 지정한 등록상표 및 로고를 사용하여야 한...   \n",
       "..                                                 ...   \n",
       "655  제 2조 (입실 후 계약의 해제) ① 이용자는 입실 후에 사업자의 책임 있는 사유로...   \n",
       "656  제26조(청약의 철회) ① 계약자는 공제증권을 받은 날부터 15일 이내에 그 청약을...   \n",
       "657  제12조 (여행요금의 변경) ① 국외여행을 실시함에 있어서 이용운송․숙박기관에 지급...   \n",
       "658  제10조 ( 품명 )을이 갑에게 공급하는 시멘트는 을이 생산하는 각종시멘트, 동종의...   \n",
       "659  제4조2항에 의하여 구두계약으로 화물운송장을 교부하지 아니한 경우에는 그러하지 아니...   \n",
       "\n",
       "                                               sent_jo  \\\n",
       "0    [해외여행표준약관, 제1조(목적)이 약관은 000의 여행사와 여행자가 체결한 국외여...   \n",
       "1    [00000 보통약관  제1관 목적 및 용어의 정의, 제1조(목적) 이 보험계약(이...   \n",
       "2    [여객운송약관 ( 규정 제47호 1996. 12. 6 )  개정 1999. 11. ...   \n",
       "3    [공정거래위원회 퀵서비스 표준약관 제 1 장 총 칙, 제1조 (목적) 이 약관은 택...   \n",
       "4    [000 00000 약관  적용 제1장 총 칙, 제1조(목적) 이 약관은 000사(...   \n",
       "..                                                 ...   \n",
       "655  [제 1조 (약관의 목적) 본 약관은 000(이하 본원이라 명함)이 제공하는 모든 ...   \n",
       "656  [무배당 어부바신협임직원보장공제(간편가입) 보통약관 직원형  1종(간편가입형), 2...   \n",
       "657  [제1조 (목적) 이 약관은 주식회사 베테랑이경수여행사와 여행자가 체결한 국외여행계...   \n",
       "658  [제 1 조 (계약의 목적)본 계약은 을이 갑의 000 상품을 상호 협의한 할인매장...   \n",
       "659  [00000운송약관제 1 장    총  칙, 제1조(목 적)   이 운송약관(이하 ...   \n",
       "\n",
       "                                                 label  \n",
       "0    [0, 0, 0, 0, 0, 0, 0, 0, 0, 1, 0, 0, 0, 0, 0, ...  \n",
       "1    [0, 0, 0, 0, 0, 0, 0, 0, 0, 0, 0, 0, 0, 0, 0, ...  \n",
       "2    [0, 0, 0, 0, 0, 0, 0, 0, 0, 0, 0, 0, 0, 0, 0, ...  \n",
       "3    [0, 0, 0, 0, 0, 0, 0, 0, 0, 0, 0, 0, 0, 0, 0, ...  \n",
       "4    [0, 0, 0, 0, 0, 0, 0, 0, 0, 0, 0, 0, 0, 0, 0, ...  \n",
       "..                                                 ...  \n",
       "655                           [0, 0, 0, 0, 0, 0, 0, 1]  \n",
       "656  [0, 0, 0, 0, 0, 0, 0, 0, 0, 0, 0, 0, 0, 0, 0, ...  \n",
       "657  [0, 0, 0, 0, 0, 0, 0, 0, 0, 0, 0, 1, 0, 0, 0, ...  \n",
       "658               [0, 0, 0, 0, 0, 0, 0, 0, 0, 1, 0, 0]  \n",
       "659  [0, 0, 0, 0, 0, 0, 0, 0, 0, 0, 0, 0, 1, 0, 0, ...  \n",
       "\n",
       "[660 rows x 5 columns]"
      ]
     },
     "execution_count": 11,
     "metadata": {},
     "output_type": "execute_result"
    }
   ],
   "source": [
    "valid_data"
   ]
  },
  {
   "cell_type": "code",
   "execution_count": 12,
   "metadata": {},
   "outputs": [],
   "source": [
    "train_labeled_df = train_data.loc[train_data['label'].apply(lambda x: sum(x))!=0]\n",
    "train_droped_df = train_data.loc[train_data['label'].apply(lambda x: sum(x))==0]\n",
    "\n",
    "train_labeled_df.reset_index(drop=True,inplace=True)\n",
    "train_droped_df.reset_index(drop=True,inplace=True)\n",
    "\n",
    "valid_labeled_df = valid_data.loc[valid_data['label'].apply(lambda x: sum(x))!=0]\n",
    "valid_droped_df = valid_data.loc[valid_data['label'].apply(lambda x: sum(x))==0]\n",
    "\n",
    "valid_labeled_df.reset_index(drop=True,inplace=True)\n",
    "valid_droped_df.reset_index(drop=True,inplace=True)\n",
    "\n",
    "test_labeled_df = test_data.loc[test_data['label'].apply(lambda x: sum(x))!=0]\n",
    "test_droped_df = test_data.loc[test_data['label'].apply(lambda x: sum(x))==0]\n",
    "\n",
    "test_labeled_df.reset_index(drop=True,inplace=True)\n",
    "test_droped_df.reset_index(drop=True,inplace=True)"
   ]
  },
  {
   "cell_type": "code",
   "execution_count": 13,
   "metadata": {},
   "outputs": [
    {
     "name": "stdout",
     "output_type": "stream",
     "text": [
      "5281\n",
      "5281\n",
      "660\n",
      "660\n",
      "661\n",
      "661\n"
     ]
    }
   ],
   "source": [
    "print(len(train_data))\n",
    "print(len(train_labeled_df))\n",
    "\n",
    "print(len(valid_data))\n",
    "print(len(valid_labeled_df))\n",
    "\n",
    "print(len(test_data))\n",
    "print(len(test_labeled_df))"
   ]
  },
  {
   "cell_type": "code",
   "execution_count": 14,
   "metadata": {},
   "outputs": [],
   "source": [
    "def make_article_df(df):\n",
    "    row = 0\n",
    "    article_df = pd.DataFrame(columns=['name', 'sent_jo', 'label'])\n",
    "\n",
    "    for row in tqdm(range(len(df))):\n",
    "        tmp_df1 = pd.DataFrame(df['sent_jo'][row])\n",
    "        tmp_df2 = pd.DataFrame(df['label'][row])\n",
    "        row_df = pd.concat([tmp_df1,tmp_df2],axis=1)\n",
    "        row_df.columns = ['sent_jo','label']\n",
    "        row_df['name'] = df['name'][row]\n",
    "        article_df = pd.concat([article_df,row_df])\n",
    "        \n",
    "    return article_df"
   ]
  },
  {
   "cell_type": "code",
   "execution_count": 15,
   "metadata": {},
   "outputs": [
    {
     "name": "stderr",
     "output_type": "stream",
     "text": [
      "100%|██████████| 5281/5281 [00:32<00:00, 163.28it/s]\n",
      "100%|██████████| 660/660 [00:01<00:00, 526.03it/s]\n",
      "100%|██████████| 661/661 [00:01<00:00, 455.82it/s]\n"
     ]
    }
   ],
   "source": [
    "train_article_df = make_article_df(train_labeled_df)\n",
    "valid_article_df = make_article_df(valid_labeled_df)\n",
    "test_article_df = make_article_df(test_labeled_df)"
   ]
  },
  {
   "cell_type": "code",
   "execution_count": 16,
   "metadata": {},
   "outputs": [
    {
     "data": {
      "text/html": [
       "<div>\n",
       "<style scoped>\n",
       "    .dataframe tbody tr th:only-of-type {\n",
       "        vertical-align: middle;\n",
       "    }\n",
       "\n",
       "    .dataframe tbody tr th {\n",
       "        vertical-align: top;\n",
       "    }\n",
       "\n",
       "    .dataframe thead th {\n",
       "        text-align: right;\n",
       "    }\n",
       "</style>\n",
       "<table border=\"1\" class=\"dataframe\">\n",
       "  <thead>\n",
       "    <tr style=\"text-align: right;\">\n",
       "      <th></th>\n",
       "      <th>name</th>\n",
       "      <th>sent_jo</th>\n",
       "      <th>label</th>\n",
       "    </tr>\n",
       "  </thead>\n",
       "  <tbody>\n",
       "    <tr>\n",
       "      <th>0</th>\n",
       "      <td>185_국내외여행</td>\n",
       "      <td>해외여행표준약관</td>\n",
       "      <td>0</td>\n",
       "    </tr>\n",
       "    <tr>\n",
       "      <th>1</th>\n",
       "      <td>185_국내외여행</td>\n",
       "      <td>제1조(목적)이 약관은 000의 여행사와 여행자가 체결한 국외여행계약의 세부 이행 ...</td>\n",
       "      <td>0</td>\n",
       "    </tr>\n",
       "    <tr>\n",
       "      <th>2</th>\n",
       "      <td>185_국내외여행</td>\n",
       "      <td>제2조(여행업자와 여행자 의무)① 여행업자는 여행자에게 안전하고 만족스러운 여행서비...</td>\n",
       "      <td>0</td>\n",
       "    </tr>\n",
       "    <tr>\n",
       "      <th>3</th>\n",
       "      <td>185_국내외여행</td>\n",
       "      <td>제3조(용어의 정의)여행의 종류 및 정의, 해외여행수속대행업의 정의는 다음과 같다....</td>\n",
       "      <td>0</td>\n",
       "    </tr>\n",
       "    <tr>\n",
       "      <th>4</th>\n",
       "      <td>185_국내외여행</td>\n",
       "      <td>제4조(계약의 구성)① 여행계약서(붙임)와 여행약관, 여행일정표(또는 여행설명서)②...</td>\n",
       "      <td>0</td>\n",
       "    </tr>\n",
       "    <tr>\n",
       "      <th>...</th>\n",
       "      <td>...</td>\n",
       "      <td>...</td>\n",
       "      <td>...</td>\n",
       "    </tr>\n",
       "    <tr>\n",
       "      <th>17</th>\n",
       "      <td>158_화물운송</td>\n",
       "      <td>제16조(사고증명서 발행)    사업자는 제14조의 사고가 발생하여 화주가 사고 증...</td>\n",
       "      <td>0</td>\n",
       "    </tr>\n",
       "    <tr>\n",
       "      <th>18</th>\n",
       "      <td>158_화물운송</td>\n",
       "      <td>제17조(배상 면책)    사업자는 다음 경우에는 배상책임을 지지 아니한다.    ...</td>\n",
       "      <td>0</td>\n",
       "    </tr>\n",
       "    <tr>\n",
       "      <th>19</th>\n",
       "      <td>158_화물운송</td>\n",
       "      <td>제18조(사고통지 의무)    사업자는 수탁화물에 사고가 발생하였을 경우에는 지체 ...</td>\n",
       "      <td>0</td>\n",
       "    </tr>\n",
       "    <tr>\n",
       "      <th>20</th>\n",
       "      <td>158_화물운송</td>\n",
       "      <td>제19조(화물의 운임)   ① 운임계산은 건설교통부장관이 정한 요율과 기준에 의하여...</td>\n",
       "      <td>0</td>\n",
       "    </tr>\n",
       "    <tr>\n",
       "      <th>21</th>\n",
       "      <td>158_화물운송</td>\n",
       "      <td>제20조(착불 금지 화물) 다음 화물은 선불로 한다.  1. 가격이 저렴하여 화물의...</td>\n",
       "      <td>0</td>\n",
       "    </tr>\n",
       "  </tbody>\n",
       "</table>\n",
       "<p>17827 rows × 3 columns</p>\n",
       "</div>"
      ],
      "text/plain": [
       "         name                                            sent_jo label\n",
       "0   185_국내외여행                                           해외여행표준약관     0\n",
       "1   185_국내외여행  제1조(목적)이 약관은 000의 여행사와 여행자가 체결한 국외여행계약의 세부 이행 ...     0\n",
       "2   185_국내외여행  제2조(여행업자와 여행자 의무)① 여행업자는 여행자에게 안전하고 만족스러운 여행서비...     0\n",
       "3   185_국내외여행  제3조(용어의 정의)여행의 종류 및 정의, 해외여행수속대행업의 정의는 다음과 같다....     0\n",
       "4   185_국내외여행  제4조(계약의 구성)① 여행계약서(붙임)와 여행약관, 여행일정표(또는 여행설명서)②...     0\n",
       "..        ...                                                ...   ...\n",
       "17   158_화물운송  제16조(사고증명서 발행)    사업자는 제14조의 사고가 발생하여 화주가 사고 증...     0\n",
       "18   158_화물운송  제17조(배상 면책)    사업자는 다음 경우에는 배상책임을 지지 아니한다.    ...     0\n",
       "19   158_화물운송  제18조(사고통지 의무)    사업자는 수탁화물에 사고가 발생하였을 경우에는 지체 ...     0\n",
       "20   158_화물운송  제19조(화물의 운임)   ① 운임계산은 건설교통부장관이 정한 요율과 기준에 의하여...     0\n",
       "21   158_화물운송  제20조(착불 금지 화물) 다음 화물은 선불로 한다.  1. 가격이 저렴하여 화물의...     0\n",
       "\n",
       "[17827 rows x 3 columns]"
      ]
     },
     "execution_count": 16,
     "metadata": {},
     "output_type": "execute_result"
    }
   ],
   "source": [
    "valid_article_df"
   ]
  },
  {
   "cell_type": "code",
   "execution_count": 17,
   "metadata": {},
   "outputs": [
    {
     "name": "stdout",
     "output_type": "stream",
     "text": [
      "175180\n",
      "91806\n"
     ]
    }
   ],
   "source": [
    "train_article_df['split'] = 'train'\n",
    "valid_article_df['split'] = 'valid'\n",
    "test_article_df['split'] = 'test'\n",
    "\n",
    "concated_article_df = pd.concat([test_article_df,valid_article_df,train_article_df])\n",
    "print(len(concated_article_df))\n",
    "\n",
    "# 문장이랑 라벨이 같은 건 제거\n",
    "concated_article_df = concated_article_df.drop_duplicates(['sent_jo','label'],ignore_index=True)\n",
    "print(len(concated_article_df))"
   ]
  },
  {
   "cell_type": "code",
   "execution_count": 18,
   "metadata": {},
   "outputs": [
    {
     "name": "stdout",
     "output_type": "stream",
     "text": [
      "0    85249\n",
      "1     6557\n",
      "Name: label, dtype: int64\n",
      "0    85008\n",
      "1     6557\n",
      "Name: label, dtype: int64\n"
     ]
    }
   ],
   "source": [
    "print(concated_article_df['label'].value_counts())\n",
    "\n",
    "concated_article_df = concated_article_df.sort_values(['label'],ascending=False) # 1이 먼저 오도록 정렬\n",
    "concated_article_df = concated_article_df.drop_duplicates('sent_jo',ignore_index=True) # 문장이 같은 것 제거\n",
    "print(concated_article_df['label'].value_counts()) # 위와 비교했을 때 1 개수는 변화가 있으면 안됨."
   ]
  },
  {
   "cell_type": "code",
   "execution_count": 19,
   "metadata": {},
   "outputs": [
    {
     "name": "stdout",
     "output_type": "stream",
     "text": [
      "91565\n",
      "91565\n"
     ]
    }
   ],
   "source": [
    "print(len(concated_article_df))\n",
    "print(len(concated_article_df.drop_duplicates(['sent_jo']))) # 중복되는 문장 없음"
   ]
  },
  {
   "cell_type": "code",
   "execution_count": 20,
   "metadata": {},
   "outputs": [
    {
     "name": "stdout",
     "output_type": "stream",
     "text": [
      "5226\n",
      "5211\n"
     ]
    }
   ],
   "source": [
    "print(train_data['name'].nunique())\n",
    "print(concated_article_df.loc[concated_article_df['split']=='train']['name'].nunique())"
   ]
  },
  {
   "cell_type": "code",
   "execution_count": 21,
   "metadata": {},
   "outputs": [
    {
     "name": "stdout",
     "output_type": "stream",
     "text": [
      "657\n",
      "655\n"
     ]
    }
   ],
   "source": [
    "print(valid_data['name'].nunique())\n",
    "print(concated_article_df.loc[concated_article_df['split']=='valid']['name'].nunique())"
   ]
  },
  {
   "cell_type": "code",
   "execution_count": 22,
   "metadata": {},
   "outputs": [
    {
     "name": "stdout",
     "output_type": "stream",
     "text": [
      "660\n"
     ]
    },
    {
     "name": "stdout",
     "output_type": "stream",
     "text": [
      "660\n"
     ]
    }
   ],
   "source": [
    "print(test_data['name'].nunique())\n",
    "print(concated_article_df.loc[concated_article_df['split']=='test']['name'].nunique())"
   ]
  },
  {
   "cell_type": "code",
   "execution_count": 23,
   "metadata": {},
   "outputs": [],
   "source": [
    "train_article_df = concated_article_df.loc[concated_article_df['split']=='train']\n",
    "valid_article_df = concated_article_df.loc[concated_article_df['split']=='valid']\n",
    "test_article_df = concated_article_df.loc[concated_article_df['split']=='test']"
   ]
  },
  {
   "cell_type": "code",
   "execution_count": 24,
   "metadata": {},
   "outputs": [
    {
     "name": "stderr",
     "output_type": "stream",
     "text": [
      "C:\\Users\\hyj\\AppData\\Local\\Temp\\ipykernel_16300\\2994867359.py:1: SettingWithCopyWarning: \n",
      "A value is trying to be set on a copy of a slice from a DataFrame\n",
      "\n",
      "See the caveats in the documentation: https://pandas.pydata.org/pandas-docs/stable/user_guide/indexing.html#returning-a-view-versus-a-copy\n",
      "  train_article_df.drop(['split'],axis=1,inplace=True)\n",
      "C:\\Users\\hyj\\AppData\\Local\\Temp\\ipykernel_16300\\2994867359.py:2: SettingWithCopyWarning: \n",
      "A value is trying to be set on a copy of a slice from a DataFrame\n",
      "\n",
      "See the caveats in the documentation: https://pandas.pydata.org/pandas-docs/stable/user_guide/indexing.html#returning-a-view-versus-a-copy\n",
      "  valid_article_df.drop(['split'],axis=1,inplace=True)\n",
      "C:\\Users\\hyj\\AppData\\Local\\Temp\\ipykernel_16300\\2994867359.py:3: SettingWithCopyWarning: \n",
      "A value is trying to be set on a copy of a slice from a DataFrame\n",
      "\n",
      "See the caveats in the documentation: https://pandas.pydata.org/pandas-docs/stable/user_guide/indexing.html#returning-a-view-versus-a-copy\n",
      "  test_article_df.drop(['split'],axis=1,inplace=True)\n"
     ]
    }
   ],
   "source": [
    "train_article_df.drop(['split'],axis=1,inplace=True)\n",
    "valid_article_df.drop(['split'],axis=1,inplace=True)\n",
    "test_article_df.drop(['split'],axis=1,inplace=True)"
   ]
  },
  {
   "cell_type": "code",
   "execution_count": 25,
   "metadata": {},
   "outputs": [],
   "source": [
    "train_article_df.to_csv('./preprocessed_data//article_train.csv')\n",
    "valid_article_df.to_csv('./preprocessed_data/article_valid.csv')\n",
    "test_article_df.to_csv('./preprocessed_data//article_test.csv')"
   ]
  },
  {
   "cell_type": "code",
   "execution_count": null,
   "metadata": {},
   "outputs": [],
   "source": []
  }
 ],
 "metadata": {
  "kernelspec": {
   "display_name": "virenv39",
   "language": "python",
   "name": "python3"
  },
  "language_info": {
   "codemirror_mode": {
    "name": "ipython",
    "version": 3
   },
   "file_extension": ".py",
   "mimetype": "text/x-python",
   "name": "python",
   "nbconvert_exporter": "python",
   "pygments_lexer": "ipython3",
   "version": "3.9.0"
  },
  "orig_nbformat": 4
 },
 "nbformat": 4,
 "nbformat_minor": 2
}
